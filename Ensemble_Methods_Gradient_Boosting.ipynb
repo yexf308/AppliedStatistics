{
  "nbformat": 4,
  "nbformat_minor": 0,
  "metadata": {
    "colab": {
      "provenance": [],
      "authorship_tag": "ABX9TyNGaEEkBNhQCqBPhufGvpjR",
      "include_colab_link": true
    },
    "kernelspec": {
      "name": "python3",
      "display_name": "Python 3"
    },
    "language_info": {
      "name": "python"
    }
  },
  "cells": [
    {
      "cell_type": "markdown",
      "metadata": {
        "id": "view-in-github",
        "colab_type": "text"
      },
      "source": [
        "<a href=\"https://colab.research.google.com/github/yexf308/AppliedStatistics/blob/main/Ensemble_Methods_Gradient_Boosting.ipynb\" target=\"_parent\"><img src=\"https://colab.research.google.com/assets/colab-badge.svg\" alt=\"Open In Colab\"/></a>"
      ]
    },
    {
      "cell_type": "code",
      "execution_count": 1,
      "metadata": {
        "id": "Sp1XaNIZdwog"
      },
      "outputs": [],
      "source": [
        "import numpy as np\n",
        "import matplotlib.pyplot as plt\n",
        "%matplotlib inline\n",
        "import copy\n",
        "\n",
        "from sklearn.tree import DecisionTreeRegressor as DT\n",
        "from sklearn.datasets import make_regression\n",
        "from sklearn.metrics import mean_squared_error\n",
        "from sklearn.model_selection import train_test_split"
      ]
    },
    {
      "cell_type": "markdown",
      "source": [
        "$\\def\\m#1{\\mathbf{#1}}$\n",
        "$\\def\\mm#1{\\boldsymbol{#1}}$\n",
        "$\\def\\mb#1{\\mathbb{#1}}$\n",
        "$\\def\\c#1{\\mathcal{#1}}$\n",
        "$\\def\\mr#1{\\mathrm{#1}}$\n",
        "$\\newenvironment{rmat}{\\left[\\begin{array}{rrrrrrrrrrrrr}}{\\end{array}\\right]}$\n",
        "$\\newcommand\\brm{\\begin{rmat}}$\n",
        "$\\newcommand\\erm{\\end{rmat}}$\n",
        "$\\newenvironment{cmat}{\\left[\\begin{array}{ccccccccc}}{\\end{array}\\right]}$\n",
        "$\\newcommand\\bcm{\\begin{cmat}}$\n",
        "$\\newcommand\\ecm{\\end{cmat}}$\n"
      ],
      "metadata": {
        "id": "aloE9dhfDq6j"
      }
    },
    {
      "cell_type": "markdown",
      "source": [
        "\n",
        "AdaBoost works well, but the lack of explanation for why the algorithm is successful sewed the seeds of doubt. Some considered it a super-algorithm, a silver bullet, but others were skeptical and believed AdaBoost was just overfitting.\n",
        "\n",
        "The overfitting problem did indeed exist, especially when data had strong outliers. Therefore, in those types of problems, AdaBoost was unstable. \n",
        "\n",
        "\n",
        "# Problem setup revisited\n",
        "\n",
        "We are going to solve the problem of function approximation in a general supervised learning setting. We have a set of features $ \\m{x} $ and target variables $y, \\left\\{ (\\m{x}^{(i)}, y^{(i)}) \\right\\}_{i=1, \\ldots,n}$ which we use to restore the dependence $ y = f(\\m x) $. We restore the dependence by approximating $ \\hat{f}(\\m x) $ and by understanding which approximation is better when we use the loss function $ L(y,f) $, which we want to minimize: $  y \\approx \\hat{f}(\\m x),  \\hat{f}(\\m x) = \\underset{f(\\m x)}{\\arg\\min} \\ L(y,f(\\m x)) $.  \n",
        "\n",
        "At this moment, we do not make any assumptions regarding the type of dependence $ f(\\m x) $, the model of our approximation $  \\hat{f}(\\m x) $, or the distribution of the target variable $ y $. We only expect the function $ L(y,f) $ to be differentiable. Our approach is very general: we define $ \\hat {f}(\\m x) $ by minimizing the loss:  \n",
        "$$\\hat{f}(\\m x) = \\underset{f(\\m x)}{\\arg\\min} \\ \\mathbb {E} _{\\m x,y}[L(y,f(\\m x))]  $$\n",
        "\n",
        "Unfortunately, the number of functions $ f(\\m x) $ is not just large, but its functional space is infinite-dimensional. That is why it is acceptable for us to limit the search space by some family of functions $ f(\\m x, \\theta), \\theta \\in \\mathbb{R}^d $. This simplifies the objective a lot because now we have a solvable optimization of parameter values:\n",
        "$ \\hat{f}(\\m x) = f(\\m x, \\hat{\\theta}),$\n",
        "$$\\hat{\\theta} = \\underset{\\theta}{\\arg\\min} \\ \\mathbb {E} _{\\m x,y}[L(y,f(\\m x,\\theta))] $$\n",
        "\n",
        "# Gradient Boosting \n",
        "Gradient Boosting  algorithms like AdaBoost and is also a Boosting algorithm.  Boosted Tree are also constructed based on the following two points:\n",
        "\n",
        "- Training Method: Forward Stepwise Algorithm. The current tree is adjusted and trained based on the results of the previous trees, to improve accuracy.  Boosted Tree Model, which can be represented as follows:\n",
        "\n",
        "\n",
        "$$\n",
        "f_M(\\m x)=\\sum_{i=1}^M \\rho_i T(\\m x,\\theta_i)\n",
        "$$  \n",
        "\n",
        "Here, $T(\\m x,\\theta_i)$ represents a decision tree, $\\theta_i$ is the parameter of the decision tree, and $M$ is the number of trees.\n",
        "\n",
        "The forward Stepwise algorithm for training can be described as follows:\n",
        "\n",
        "-  Assume the initial Tree is $f_0(\\m x)=\\lambda$.\n",
        "\n",
        "-  For $i=1,2,...,M$:\n",
        "   - $$f_i(\\m x)=f_{i-1}(\\m x)+\\rho_iT(\\m x,\\theta_i) $$  \n",
        "   Here, $f_{i-1}(\\m x)$ represents the model that has been trained in the previous round. The current round's training objective is to obtain the optimal parameters of the current decision tree by minimizing a certain loss function\n",
        "\n",
        "   - $$\\hat\\theta_i, \\hat\\rho_i=\\arg\\min_{\\theta_i, \\rho_i} L(y,f_{i-1}(\\m x)+\\rho_iT(\\m x,\\theta_i))$$  \n",
        "\n",
        "- The final boosted tree becomes $f_M(x)=\\sum_{i=1}^M \\rho_i T(x,\\hat \\theta_i) $. \n",
        "\n",
        "\n",
        "In terms of the process, we can see the biggest difference between Boosted Trees and AdaBoost:\n",
        "\n",
        "- AdaBoost focuses on misclassified points, and the next round's objective is more inclined to correct the misclassified points.\n",
        "\n",
        "- Boosted Trees focus on the difference between the current model and the target. The training objective of the next round's model is to reduce the difference between the model and the target.\n",
        "\n",
        "\n",
        "the biggest difference in Boosted Trees for different problems lies in the loss function. Next, we will briefly introduce regression Boosted trees with squared loss and classification Boosted trees with exponential loss:\n",
        "\n",
        "\n",
        "\n",
        "\n"
      ],
      "metadata": {
        "id": "q_nKEyjpwP1y"
      }
    },
    {
      "cell_type": "markdown",
      "source": [
        "# Boosted Regression Tree\n",
        "\n",
        "Knowing the expression of loss function's gradient, we can calculate its value on our data. So, let's train the models such that our predictions will be more correlated with this gradient (with a minus sign). In other words, we will use least squares to correct the predictions with these residuals. For classification, regression, and ranking tasks, we will minimize the squared difference between residuals  and our predictions.\n",
        "\n",
        "If we choose square loss, then\n",
        "\n",
        "$$\n",
        "L(y,f(\\m x))=\\frac{1}{2}(y-f(\\m x))^2\n",
        "$$  \n",
        "\n",
        "At $i$-step, the loss function is  \n",
        "\n",
        "$$\n",
        "L(y,f_{i}(\\m x))=\\frac{1}{2}[y-f_{i-1}(\\m x)-\\rho_i T(\\m x,\\theta_i)]^2\n",
        "$$  \n",
        "As both $y$ and $f_{i-1}(\\m x)$ are known, the optimal parameter $\\theta_i$ that it becomes the following optimization: \n",
        "$$\n",
        "\\hat \\theta_i = \\arg\\min_{\\theta_i} \\sum_{n=1}^N (T(\\m x^{(n)},\\theta_i)- (y^{(n)}-f_{i-1}(\\m x^{(n)})))^2\n",
        "$$  \n",
        "Therefore, for the training of step $i$, we only need to use the residual $y-f_{i-1}(\\m x)$ as the target $y$ for the model $T(\\m x,\\theta_i)$.\n",
        "\n",
        "Then we will need to select an optimal coefficient $\\rho_i \\in \\mathbb{R}$ via binary search or another line search algorithm. \n",
        "\n",
        "$$ \n",
        "\\hat\\rho_i=\\arg\\min_{ \\rho_i} L(y,f_{i-1}(\\m x)+\\rho_iT(\\m x,\\hat \\theta_i))\n",
        "$$\n",
        "\n",
        "\n",
        "If we have a more general loss function? For example, if the loss function of a regression tree is absolute value, i.e., $L(y,f(\\m x))=\\mid y-f(\\m x)\\mid$, how should we update it? Obviously, the update target is no longer the residual. In fact, the solution is already in use, which is the negative gradient of the loss function with respect to the model:\n",
        "\n",
        "$$\n",
        "-\\frac{\\partial L(y,f(\\m x))}{\\partial f(\\m x)}\n",
        "$$   \n",
        "This special case mentioned above is  essentially using the gradient descent method:\n",
        "\n",
        "\n",
        "$$\n",
        "-\\frac{\\partial\\frac{1}{2}(y-f(\\m x))^2}{\\partial f(\\m x)}=y-f(\\m x)\n",
        "$$  \n",
        "\n",
        "Here are four possible choices of losses. \n",
        "\n",
        "- Square loss: $L(y,f(\\m x))=\\frac{1}{2}(f(\\m x)-y)^2$ and its negative gradient is $y-f(\\m x)$.\n",
        "\n",
        "- Absolute loss: $L(y,f(\\m x))=\\mid f(\\m x)-y \\mid$ and its negative gradient is $\\text{sign}(y-f(\\m x))$.\n",
        "\n",
        "- Huber loss: \n",
        "$L(y,f(\\m x))=\\left\\{\\begin{matrix}\n",
        "\\frac{1}{2}(f(\\m x)-y)^2 & \\mid y-f(\\m x) \\mid < \\delta\\\\\n",
        "\\delta \\mid y-f(\\m x) \\mid & \\text{otherwise}\n",
        "\\end{matrix}\\right.$\n",
        "and its negative gradient is \n",
        "$\\left\\{\\begin{matrix}\n",
        "y-f(\\m x) & \\mid y-f(\\m x) \\mid < \\delta\\\\\n",
        "\\delta\\cdot \\text{sign}(y-f(\\m x)) & \\text{otherwise}\n",
        "\\end{matrix}\\right.$\n",
        "\n",
        "- Quantile Loss: $L(y,f(\\m x))= \\left\\{\\begin{matrix}\n",
        "\\theta\\mid y-f(\\m x)\\mid &  y>f(\\m x)\\\\\n",
        "(1-\\theta)\\mid y-f(\\m x)\\mid  & \\text{otherwise}\n",
        "\\end{matrix}\\right.$\n",
        "and its negative gradient is \n",
        "$\\left\\{\\begin{matrix}\n",
        "\\theta &  y>f(\\m x)\\\\\n",
        "\\theta-1  & \\text{otherwise}\n",
        "\\end{matrix}\\right.$ where $0<\\theta< 1$.\n",
        "\n",
        "\n",
        "## Pro and Con of loss functions\n",
        "- The squared error amplifies errors that are larger than 1, making it more sensitive to outliers.\n",
        "\n",
        "- The absolute error can avoid this problem, but it may cross the minimum point due to a large gradient near the minimum point.\n",
        "\n",
        "- Huber loss and quantile loss mainly avoid the influence of outliers.\n",
        "\n",
        "\n",
        "## Friedman's classic GBM algorithm\n",
        "\n",
        "We can now define the classic GBM algorithm suggested by Jerome Friedman in 1999. It is a supervised algorithm that has the following components:\n",
        "\n",
        "- Training dataset $\\left\\{ (\\m x^{(n)}, y^{(n)}) \\right\\}_{n=1}^N$;\n",
        "- Number of iterations $ M$;\n",
        "- Choice of loss function $ L(y, f)$ with a defined gradient;\n",
        "- Choice of function family of base estimators $T(\\m x, \\theta)$ with the training procedure;\n",
        "- Additional hyperparameters $T(\\m x, \\theta)$ (for example, in decision trees, the tree depth);\n",
        "\n",
        "The only thing left is the initial approximation $f_0(x)$. For simplicity, for an initial approximation, a constant value $ \\gamma$ is used.\n",
        "\n",
        "1. Initialize GBM with constant value $f(x) = f_0, f_0 = \\gamma,  \\gamma \\in \\mathbb{R}$\n",
        "$f_0 = \\underset{\\gamma}{\\arg\\min} \\ \\sum_{n = 1}^{N} L(y^{(n)}, \\gamma)$\n",
        "\n",
        "2. For each iteration $i= 1, \\dots, M$, repeat:\n",
        "   -  Calculate pseudo-residuals $\\m r_i$,\n",
        "$ r_{ni} = -\\left[\\frac{\\partial L(y^{(n)}, f(\\m x^{(n)}))}{\\partial f(\\m x^{(n)})}\\right]_{f(\\m x)=\\hat{f}(\\m x)}, \\quad \\mbox{for } n=1,\\ldots,N$\n",
        "\n",
        "   - Build new base estimators $ T(\\m x, \\theta_i)$ as regression on pseudo-residuals $ \\left\\{ (\\m x^{(n)}, r_{ni}) \\right\\}_{n=1, \\ldots,N}$\n",
        "   -  Find optimal coefficient $ \\rho_i $ at $ T(\\m x, \\theta_i)$ regarding initial loss function\n",
        "$\\rho_i = \\underset{\\rho}{\\arg\\min} \\ \\sum_{n = 1}^{N} L(y^{(n)}, f(\\m x^{(n)}) +  \\rho \\cdot T(\\m x^{(n)}, \\theta_i))$\n",
        "   -  Update current approximation \n",
        "$f_i(\\m x) = f_{i-1}(\\m x) + \\rho_i T(\\m x, \\theta_i) $\n",
        "\n",
        "3. Compose final GBM model \n",
        "$ f_M(\\m x) $\n",
        "\n",
        "<img src=\"https://github.com/yexf308/AppliedStatistics/blob/main/image/translate0.png?raw=true\" width=\"800\" />"
      ],
      "metadata": {
        "id": "tuK6zasU2e3l"
      }
    },
    {
      "cell_type": "code",
      "source": [
        "\n",
        "class GBDTRegressor:\n",
        "\n",
        "    def __init__(self, max_depth=4, n_estimator=1000, lr=0.2):\n",
        "        self.max_depth = max_depth\n",
        "        self.n_estimator = n_estimator\n",
        "        self.lr = lr\n",
        "        self.booster = []\n",
        "\n",
        "        self.best_round = None\n",
        "\n",
        "    def record_score(self, y_train, y_val, train_predict, val_predict, i):\n",
        "        mse_val = mean_squared_error(y_val, val_predict)\n",
        "        if (i+1)%10==0:\n",
        "            mse_train = mean_squared_error(y_train, train_predict)\n",
        "            print(\"At %d\\t round training： %.4f\\t\"\n",
        "                \"validation： %.4f\"%(i+1, mse_train, mse_val))\n",
        "        return mse_val\n",
        "\n",
        "    def fit(self, X, y):\n",
        "        # split train and validation\n",
        "        X_train, X_val, y_train, y_val = train_test_split(\n",
        "            X, y, test_size=0.25, random_state=0)\n",
        "        train_predict, val_predict = 0, 0\n",
        "        next_fit_val = np.full(X_train.shape[0], np.mean(y_train))\n",
        "        # early_stop to prevent overfitting\n",
        "        last_val_score = np.infty\n",
        "        for i in range(self.n_estimator):\n",
        "            cur_booster = DT(max_depth=self.max_depth)\n",
        "            cur_booster.fit(X_train, next_fit_val)\n",
        "            train_predict += cur_booster.predict(X_train) * self.lr\n",
        "            val_predict += cur_booster.predict(X_val) * self.lr\n",
        "\n",
        "            next_fit_val = y_train - train_predict\n",
        "            self.booster.append(cur_booster)\n",
        "            cur_val_score = self.record_score(\n",
        "                y_train, y_val, train_predict, val_predict, i)\n",
        "            if cur_val_score > last_val_score:\n",
        "                self.best_round = i\n",
        "                print(\"\\n training stop！The best round is %d\"%(i+1))\n",
        "                break\n",
        "            last_val_score = cur_val_score\n",
        "\n",
        "    def predict(self, X):\n",
        "        cur_predict = 0\n",
        "        #\n",
        "        for i in range(self.best_round):\n",
        "            cur_predict += self.lr * self.booster[i].predict(X)\n",
        "        return cur_predict"
      ],
      "metadata": {
        "id": "oo1f1dtYur1E"
      },
      "execution_count": 2,
      "outputs": []
    },
    {
      "cell_type": "markdown",
      "source": [
        "# Test Case 1"
      ],
      "metadata": {
        "id": "CA1PSi7nTBnN"
      }
    },
    {
      "cell_type": "code",
      "source": [
        "data = np.linspace(1, 10, num=100)\n",
        "target1 = 3*data[:50] + np.random.random(size=50)*3# add noise\n",
        "target2 = 3*data[50:] + np.random.random(size=50)*10# add noise \n",
        "target=np.concatenate([target1,target2])\n",
        "data = data.reshape((-1, 1))"
      ],
      "metadata": {
        "id": "527CR0MeS6SG"
      },
      "execution_count": 3,
      "outputs": []
    },
    {
      "cell_type": "code",
      "source": [
        "model=GBDTRegressor()\n",
        "model.fit(data,target)\n",
        "plt.scatter(data, target)\n",
        "plt.plot(data, model.predict(data), color='r')\n",
        "plt.show()"
      ],
      "metadata": {
        "colab": {
          "base_uri": "https://localhost:8080/",
          "height": 484
        },
        "id": "XQJjr6imTKMR",
        "outputId": "f5729fb7-3365-4904-ef87-fc4df14922ae"
      },
      "execution_count": 4,
      "outputs": [
        {
          "output_type": "stream",
          "name": "stdout",
          "text": [
            "At 10\t round training： 8.1100\tvalidation： 13.6161\n",
            "\n",
            " training stop！The best round is 17\n"
          ]
        },
        {
          "output_type": "display_data",
          "data": {
            "text/plain": [
              "<Figure size 640x480 with 1 Axes>"
            ],
            "image/png": "[encoded data removed]"
          },
          "metadata": {}
        }
      ]
    },
    {
      "cell_type": "code",
      "source": [
        "X, y = make_regression(\n",
        "        n_samples=10000, n_features=50, n_informative=20, random_state=1)\n",
        "X_train, X_test, y_train, y_test = train_test_split(\n",
        "        X, y, test_size=0.25, random_state=0)\n",
        "\n",
        "model = GBDTRegressor()\n",
        "model.fit(X_train, y_train)\n",
        "prediction = model.predict(X_test)\n",
        "mse = mean_squared_error(y_test, prediction)"
      ],
      "metadata": {
        "colab": {
          "base_uri": "https://localhost:8080/"
        },
        "id": "VY2am2xyTG00",
        "outputId": "b965ee9d-603a-4568-86fd-6eff69233c55"
      },
      "execution_count": 5,
      "outputs": [
        {
          "output_type": "stream",
          "name": "stdout",
          "text": [
            "At 10\t round training： 25237.9124\tvalidation： 28866.8144\n",
            "At 20\t round training： 12885.2350\tvalidation： 17349.8984\n",
            "At 30\t round training： 7479.4206\tvalidation： 11923.1328\n",
            "At 40\t round training： 4780.9394\tvalidation： 9117.6771\n",
            "At 50\t round training： 3263.5360\tvalidation： 7376.6959\n",
            "At 60\t round training： 2388.5911\tvalidation： 6287.8988\n",
            "At 70\t round training： 1848.7410\tvalidation： 5519.7598\n",
            "At 80\t round training： 1503.6798\tvalidation： 4994.3938\n",
            "At 90\t round training： 1284.3260\tvalidation： 4641.5369\n",
            "At 100\t round training： 1131.2921\tvalidation： 4395.1575\n",
            "At 110\t round training： 1000.1657\tvalidation： 4167.5632\n",
            "At 120\t round training： 908.9093\tvalidation： 4024.5044\n",
            "At 130\t round training： 839.9113\tvalidation： 3897.3988\n",
            "At 140\t round training： 777.1760\tvalidation： 3810.1868\n",
            "\n",
            " training stop！The best round is 145\n"
          ]
        }
      ]
    },
    {
      "cell_type": "code",
      "source": [
        "print(\"\\n MSE of test set is %.4f\"%(mse))"
      ],
      "metadata": {
        "colab": {
          "base_uri": "https://localhost:8080/"
        },
        "id": "Sq8Im8zWTR2S",
        "outputId": "833a6c71-9e19-459d-9826-5d02f8f555f3"
      },
      "execution_count": 6,
      "outputs": [
        {
          "output_type": "stream",
          "name": "stdout",
          "text": [
            "\n",
            " MSE of test set is 4274.3858\n"
          ]
        }
      ]
    },
    {
      "cell_type": "markdown",
      "source": [
        "# Boosted Classification Tree\n",
        "Classification can also be done using regression trees. In simple terms, several sets of regression trees, equal to the number of categories, are trained. Each set represents a category, and the outputs of all sets are transformed into a probability distribution using a softmax operation. Then, the negative gradient of each tree is calculated using a loss function such as cross-entropy or KL divergence, and used to guide the next round of training. For example, in a three-category classification, the process is as follows:\n",
        "\n",
        "<img src=\"https://github.com/yexf308/AppliedStatistics/blob/main/image/translate.png?raw=true\" width=\"800\" />\n",
        "\n",
        "## Softmax + CrossEntropy and their gradient\n",
        "For classification problems, cross-entropy is generally chosen as the loss function. Note $y$ is the one-hot expression of the label, so $\\sum_{i=1}^n y_i=1$.\n",
        "\n",
        "\\begin{align}\n",
        "&\\text{softmax}([\\hat{y}_1,\\hat{y}_2,...,\\hat{y}_n])=\\frac{1}{\\sum_{i=1}^n e^{\\hat y_i}}[e^{\\hat y_1},e^{\\hat y_2},...,e^{\\hat y_n}] \\\\\n",
        "& \\text{cross entropy}(y,p)=-\\sum_{i=1}^n y_i\\log p_i\n",
        "\\end{align}\n",
        "Then the loss function is \n",
        "\\begin{align}\n",
        "L(\\hat y,y)=-\\sum_{i=1}^n y_i\\log \\frac{e^{\\hat y_i}}{\\sum_{j=1}^n e^{\\hat y_j}}\\\\\n",
        "=-\\sum_{i=1}^n y_i(\\hat y_i-\\log\\sum_{j=1}^n e^{\\hat y_j})\\\\\n",
        "=\\log\\sum_{i=1}^n e^{\\hat y_i}-\\sum_{i=1}^ny_i\\hat y_i\n",
        "\\end{align}\n",
        "\n",
        "To calculate the gradient: \n",
        "\\begin{align}\n",
        "\\frac{\\partial L(\\hat y,y)}{\\partial \\hat y}=\\text{softmax}([\\hat y_1,\\hat y_2,...,\\hat y_n])-[y_1,y_2,...,y_n]\n",
        "\\end{align}\n",
        "\n",
        "Then the fitting targets of the first set of regression trees are  $y_1-\\frac{e^{\\hat y_1}}{\\sum_{i=1}^n e^{\\hat y_i}}$, \n",
        "the fitting targets of the second set of regression trees are $y_2-\\frac{e^{\\hat y_2}}{\\sum_{i=1}^n e^{\\hat y_i}}$, ..., and the fitting targets of the $n$th set of regression trees are $y_n-\\frac{e^{\\hat y_n}}{\\sum_{i=1}^n e^{\\hat y_i}}$"
      ],
      "metadata": {
        "id": "Z-D1WiBN_r3u"
      }
    },
    {
      "cell_type": "code",
      "source": [
        "from sklearn.datasets import make_classification\n",
        "from sklearn.metrics import roc_auc_score"
      ],
      "metadata": {
        "id": "17bpH7ZTUy6h"
      },
      "execution_count": 7,
      "outputs": []
    },
    {
      "cell_type": "code",
      "source": [
        "def one_hot(y):\n",
        "    res = np.zeros((y.size, y.max()+1))\n",
        "    res[np.arange(y.size), y] = 1\n",
        "    return res\n",
        "\n",
        "class GBDTMultiClassifier:\n",
        "\n",
        "    def __init__(self, max_depth=4, n_estimator=1000, lr=0.2):\n",
        "        self.max_depth = max_depth\n",
        "        self.n_estimator = n_estimator\n",
        "        self.lr = lr\n",
        "        self.booster = []\n",
        "\n",
        "        self.n_classes = None\n",
        "        self.best_round = None\n",
        "\n",
        "    def get_init_val(self, y):\n",
        "        init_val = []\n",
        "        for c in range(self.n_classes):\n",
        "            init_val.append(np.log((y[:, c]==1).mean()))\n",
        "        return np.full((y.shape[0], self.n_classes), init_val)\n",
        "\n",
        "    def record_score(self, y_train, y_val, train_predict, val_predict, i):\n",
        "        train_predict = np.exp(train_predict) / np.exp(\n",
        "            train_predict).sum(1).reshape(-1, 1)\n",
        "        val_predict = np.exp(val_predict) / np.exp(\n",
        "            val_predict).sum(1).reshape(-1, 1)\n",
        "        auc_val = roc_auc_score(y_val, val_predict)\n",
        "        if (i+1)%10==0:\n",
        "            auc_train = roc_auc_score(y_train, train_predict)\n",
        "            print(\"At %d\\t round training： %.4f\\t\"\n",
        "                \"validation： %.4f\"%(i+1, auc_train, auc_val))\n",
        "        return auc_val\n",
        "\n",
        "    def fit(self, X, y):\n",
        "        X_train, X_val, y_train, y_val = train_test_split(\n",
        "            X, y, test_size=0.25, random_state=0)\n",
        "        self.n_classes = y.shape[1]\n",
        "        train_predict = np.zeros((X_train.shape[0], self.n_classes))\n",
        "        val_predict = np.zeros((X_val.shape[0], self.n_classes))\n",
        "        next_fit_val = self.get_init_val(y_train)\n",
        "        last_val_score = - np.infty\n",
        "        for i in range(self.n_estimator):\n",
        "            last_train = train_predict.copy()\n",
        "            self.booster.append([])\n",
        "            for m in range(self.n_classes):\n",
        "                cur_booster = DT(max_depth=self.max_depth)\n",
        "                cur_booster.fit(X_train, next_fit_val[:, m])\n",
        "                train_predict[:, m] += cur_booster.predict(X_train) * self.lr\n",
        "                val_predict[:, m] += cur_booster.predict(X_val) * self.lr\n",
        "                next_fit_val[:, m] = y_train[:, m] - np.exp(\n",
        "                    last_train[:, m]) / np.exp(last_train).sum(1)\n",
        "                self.booster[-1].append(cur_booster)\n",
        "            cur_val_score = self.record_score(\n",
        "                y_train, y_val, train_predict, val_predict, i)\n",
        "            if cur_val_score < last_val_score:\n",
        "                self.best_round = i\n",
        "                print(\"\\n training stop！The best round is %d\"%(i+1))\n",
        "                break\n",
        "            last_val_score = cur_val_score\n",
        "\n",
        "    def predict(self, X):\n",
        "        cur_predict = np.zeros((X.shape[0], self.n_classes))\n",
        "        for i in range(self.best_round):\n",
        "            for m in range(self.n_classes):\n",
        "                cur_predict[:, m] += self.lr * self.booster[i][m].predict(X)\n",
        "        return np.exp(cur_predict) / np.exp(cur_predict).sum(1).reshape(-1, 1)"
      ],
      "metadata": {
        "id": "YlHOprHGyUm3"
      },
      "execution_count": 8,
      "outputs": []
    },
    {
      "cell_type": "code",
      "source": [
        "def plot_decision_function(X, y, clf, support_vectors=None):\n",
        "    plot_step = 0.02\n",
        "    x_min, x_max = X[:, 0].min() - 1, X[:, 0].max() + 1\n",
        "    y_min, y_max = X[:, 1].min() - 1, X[:, 1].max() + 1\n",
        "    xx, yy = np.meshgrid(np.arange(x_min, x_max, plot_step),\n",
        "                         np.arange(y_min, y_max, plot_step))\n",
        "\n",
        "    Z = clf.predict(np.c_[xx.ravel(), yy.ravel()])\n",
        "    Z = np.argmax(Z, axis=1)\n",
        "    Z = Z.reshape(xx.shape)\n",
        "    plt.contourf(xx, yy, Z, alpha=0.4)\n",
        "    plt.scatter(X[:, 0], X[:, 1], alpha=0.8, c=y, edgecolor='k')\n",
        "   \n",
        "    if support_vectors is not None:\n",
        "        plt.scatter(X[support_vectors, 0], X[support_vectors, 1], s=80, c='none', alpha=0.7, edgecolor='red')\n",
        "\n"
      ],
      "metadata": {
        "id": "i-nQ8Cwq1mwh"
      },
      "execution_count": 16,
      "outputs": []
    },
    {
      "cell_type": "code",
      "source": [
        "from sklearn.datasets import make_classification\n",
        "data, target = make_classification(n_samples=100, n_features=2, n_classes=2, n_informative=1, n_redundant=0,\n",
        "                                   n_repeated=0, n_clusters_per_class=1, class_sep=.5,random_state=21)"
      ],
      "metadata": {
        "id": "YuqvvMOb1Hqa"
      },
      "execution_count": 24,
      "outputs": []
    },
    {
      "cell_type": "code",
      "source": [
        "classifier = GBDTMultiClassifier()\n",
        "target_onehot = one_hot(target)\n",
        "classifier.fit(data, target_onehot)\n",
        "plot_decision_function(data, target, classifier)"
      ],
      "metadata": {
        "colab": {
          "base_uri": "https://localhost:8080/",
          "height": 466
        },
        "id": "0V3JLQrQ1LJU",
        "outputId": "7024ed90-d644-41a1-b08e-01d27bdb7e5b"
      },
      "execution_count": 25,
      "outputs": [
        {
          "output_type": "stream",
          "name": "stdout",
          "text": [
            "\n",
            " training stop！The best round is 4\n"
          ]
        },
        {
          "output_type": "display_data",
          "data": {
            "text/plain": [
              "<Figure size 640x480 with 1 Axes>"
            ],
            "image/png": "[encoded data removed]"
          },
          "metadata": {}
        }
      ]
    },
    {
      "cell_type": "code",
      "source": [
        "X, y = make_classification(\n",
        "        n_samples=10000, n_features=50, n_informative=20,\n",
        "        n_classes=3, random_state=1)\n",
        "y = one_hot(y)\n",
        "X_train, X_test, y_train, y_test = train_test_split(\n",
        "        X, y, test_size=0.25, random_state=0)\n",
        "\n",
        "model = GBDTMultiClassifier()\n",
        "model.fit(X_train, y_train)\n",
        "prediction = model.predict(X_test)\n",
        "auc = roc_auc_score(y_test, prediction)\n",
        "print(\"\\n AUC of test set is %.4f\"%(auc))"
      ],
      "metadata": {
        "colab": {
          "base_uri": "https://localhost:8080/"
        },
        "id": "gChmV5f5XJ-7",
        "outputId": "04b58605-dfbe-4ba6-b4d1-bc28c606678c"
      },
      "execution_count": 26,
      "outputs": [
        {
          "output_type": "stream",
          "name": "stdout",
          "text": [
            "At 10\t round training： 0.9117\tvalidation： 0.8777\n",
            "At 20\t round training： 0.9354\tvalidation： 0.9013\n",
            "At 30\t round training： 0.9499\tvalidation： 0.9147\n",
            "At 40\t round training： 0.9600\tvalidation： 0.9242\n",
            "At 50\t round training： 0.9664\tvalidation： 0.9302\n",
            "At 60\t round training： 0.9718\tvalidation： 0.9359\n",
            "At 70\t round training： 0.9759\tvalidation： 0.9402\n",
            "At 80\t round training： 0.9789\tvalidation： 0.9426\n",
            "At 90\t round training： 0.9816\tvalidation： 0.9451\n",
            "At 100\t round training： 0.9839\tvalidation： 0.9471\n",
            "At 110\t round training： 0.9859\tvalidation： 0.9493\n",
            "At 120\t round training： 0.9873\tvalidation： 0.9504\n",
            "At 130\t round training： 0.9889\tvalidation： 0.9518\n",
            "At 140\t round training： 0.9902\tvalidation： 0.9531\n",
            "At 150\t round training： 0.9914\tvalidation： 0.9540\n",
            "\n",
            " training stop！The best round is 154\n",
            "\n",
            " AUC of test set is 0.9514\n"
          ]
        }
      ]
    },
    {
      "cell_type": "markdown",
      "source": [
        "$\\def\\m#1{\\mathbf{#1}}$\n",
        "$\\def\\mm#1{\\boldsymbol{#1}}$\n",
        "$\\def\\mb#1{\\mathbb{#1}}$\n",
        "$\\def\\c#1{\\mathcal{#1}}$\n",
        "$\\def\\mr#1{\\mathrm{#1}}$\n",
        "$\\newenvironment{rmat}{\\left[\\begin{array}{rrrrrrrrrrrrr}}{\\end{array}\\right]}$\n",
        "$\\newcommand\\brm{\\begin{rmat}}$\n",
        "$\\newcommand\\erm{\\end{rmat}}$\n",
        "$\\newenvironment{cmat}{\\left[\\begin{array}{ccccccccc}}{\\end{array}\\right]}$\n",
        "$\\newcommand\\bcm{\\begin{cmat}}$\n",
        "$\\newcommand\\ecm{\\end{cmat}}$"
      ],
      "metadata": {
        "id": "C4BXnldKfEeI"
      }
    }
  ]
}