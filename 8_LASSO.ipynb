{
  "nbformat": 4,
  "nbformat_minor": 0,
  "metadata": {
    "colab": {
      "name": "7.LASSO.ipynb",
      "provenance": [],
      "collapsed_sections": [],
      "authorship_tag": "ABX9TyOoyNjZ2gFYj3S8hife2lYt",
      "include_colab_link": true
    },
    "kernelspec": {
      "name": "python3",
      "display_name": "Python 3"
    },
    "language_info": {
      "name": "python"
    }
  },
  "cells": [
    {
      "cell_type": "markdown",
      "metadata": {
        "id": "view-in-github",
        "colab_type": "text"
      },
      "source": [
        "<a href=\"https://colab.research.google.com/github/yexf308/AppliedStatistics/blob/main/7_LASSO.ipynb\" target=\"_parent\"><img src=\"https://colab.research.google.com/assets/colab-badge.svg\" alt=\"Open In Colab\"/></a>"
      ]
    },
    {
      "cell_type": "code",
      "execution_count": 1,
      "metadata": {
        "id": "0RalcMN5-AZr",
        "colab": {
          "base_uri": "https://localhost:8080/"
        },
        "outputId": "f7866177-88c4-4c0c-a4eb-a474f5ae45ff"
      },
      "outputs": [
        {
          "output_type": "stream",
          "name": "stdout",
          "text": [
            "Populating the interactive namespace from numpy and matplotlib\n"
          ]
        }
      ],
      "source": [
        "%pylab inline \n",
        "import pandas as pd\n",
        "from scipy import linalg\n",
        "from itertools import combinations\n",
        "import scipy"
      ]
    },
    {
      "cell_type": "markdown",
      "source": [
        "$\\def\\m#1{\\mathbf{#1}}$\n",
        "$\\def\\mm#1{\\boldsymbol{#1}}$\n",
        "$\\def\\mb#1{\\mathbb{#1}}$\n",
        "$\\def\\c#1{\\mathcal{#1}}$\n",
        "$\\def\\mr#1{\\mathrm{#1}}$\n",
        "$\\newenvironment{rmat}{\\left[\\begin{array}{rrrrrrrrrrrrr}}{\\end{array}\\right]}$\n",
        "$\\newcommand\\brm{\\begin{rmat}}$\n",
        "$\\newcommand\\erm{\\end{rmat}}$\n",
        "$\\newenvironment{cmat}{\\left[\\begin{array}{ccccccccc}}{\\end{array}\\right]}$\n",
        "$\\newcommand\\bcm{\\begin{cmat}}$\n",
        "$\\newcommand\\ecm{\\end{cmat}}$\n",
        "\n"
      ],
      "metadata": {
        "id": "8k4s8eAOUlri"
      }
    },
    {
      "cell_type": "markdown",
      "source": [
        "# Simple Variable Selection LASSO: Sparse Regression\n",
        "### Feature selection\n",
        "Why we want to perform feature selection? \n",
        "- Efficiency: \n",
        " - if size($\\m{w}$)$=10^7$, training/prediction are very expensive. \n",
        "\n",
        " - If $\\m{w}$ is **sparse** (i.e., many entries are zero), prediction computation only depends on number of non-zeros. $\\hat{y}^{(i)}= \\sum_{\\hat{\\m w}_j\\ne 0} \\hat{\\m w}_j h_j(\\m{x}^{(i)})$.\n",
        "\n",
        "- Interpretability: Which features are relevant for prediction?\n",
        "<img src=\"https://github.com/yexf308/AppliedStatistics/blob/main/image/lasso1.png?raw=true\" width=\"600\" />\n",
        "\n",
        "\n",
        "\n",
        "### Exhaustive approach: all subset\n",
        "The most naive approach is to take all subset and perform the linear regression on all of them. However, if we have $d$ features, there are in total $2^d$ models (why?). It is computationally intractable to perform all subset regressions. \n",
        "\n",
        "### Greedy approach: forward stepwise\n",
        "Starting from simple model and iteratively add features most useful\n",
        "to fit.\n",
        "- Pick a dictionary of features $h_1(\\m{x}), h_2(\\m{x}), \\dots, h_d(\\m{x})$.\n",
        "\n",
        "- Greedy heuristic:\n",
        "  - Start from empty (or simple) set of\n",
        "features $F_0 = \\emptyset$.\n",
        "\n",
        "  - Run learning algorithm for current set\n",
        "of features $F_t$ and obtain weights for these features. \n",
        "\n",
        "  - Select next best feature $h_j(\\m{x})$, i.e., the feature results in lowest training/testing\n",
        "error when learning with $F_t + \\{h_j(\\m{x})\\}$.\n",
        "\n",
        "  - $F_{t+1} \\leftarrow  F_t + \\{h_j(\\m{x})\\}$ and recurse.\n",
        "\n",
        "\n",
        "\n",
        "**Backward stepwise**:\n",
        "Start with full model and iteratively remove features least useful to fit\n",
        "\n",
        "Combining forward and backward steps:\n",
        "In forward algorithm, insert steps to remove features no longer as\n",
        "important. \n",
        "\n",
        "But the greedy approach will not result in optimal features. There are many more elaborate methods out there. Also the method has the issue that when do you stop. (when training/testing error is low enough?)\n",
        "\n",
        "## Regularization\n",
        "Can we use regularization for feature selection?\n",
        "- Start with full model (all possible features).\n",
        "\n",
        "- Shrink some coefficients exactly to 0, i.e., knock out certain features. \n",
        "\n",
        "- Non-zero coefficients indicate selected features. \n",
        "\n",
        "### Regularization approach: Ridge\n",
        "\n",
        "Ridge regression makes coefficients small, but not exactly 0. \n",
        "\\begin{align}\n",
        "\\ell(\\m{w},\\lambda) = \\underbrace{\\|\\mathbf{X}\\mathbf{w}-\\mathbf{y}\\|_2^2}_{\\text{measure of fit}}+\\lambda\\underbrace{\\|\\m{w}\\|_2^2}_{\\text{measure of magnitude of coefficients}}\n",
        "\\end{align} \n",
        "\n",
        "One possible solution is to set small ridge coefficients to 0. \n",
        "But from the following example, you can see there is a big issue. \n",
        "### Example\n",
        "\n",
        "1. we just set small ridge coefficients to 0.\n",
        "<img src=\"https://github.com/yexf308/AppliedStatistics/blob/main/image/lasso_house1.png?raw=true\" width=\"600\" />\n",
        "\n",
        "2. Selected features for a given threshold value\n",
        "<img src=\"https://github.com/yexf308/AppliedStatistics/blob/main/image/lasso_house2.png?raw=true\" width=\"600\" />\n",
        "\n",
        "If we look at these two related features. \n",
        "\n",
        "<img src=\"https://github.com/yexf308/AppliedStatistics/blob/main/image/lasso_house3.png?raw=true\" width=\"600\" />\n",
        "\n",
        "If only one of the features had been included. \n",
        "\n",
        "<img src=\"https://github.com/yexf308/AppliedStatistics/blob/main/image/lasso_house4.png?raw=true\" width=\"600\" />\n",
        "\n",
        "It is not a good idea to threshold ridge coefficients. Can regularization lead directly to sparsity?"
      ],
      "metadata": {
        "id": "cuVljPFvUoWl"
      }
    },
    {
      "cell_type": "markdown",
      "source": [
        "##  Least Absolute Shrinkage and Selection Operator (LASSO)\n",
        "\n",
        "However, sometimes we want the parameters to not just be small, but to\n",
        "be exactly zero, i.e, $\\hat{\\mathbf{w}}$ to be sparse. In other words, we want to minimize the **L0-norm**, \n",
        "$$ \\|\\mathbf{w}\\|_0=\\sum_{i=1}^d\\mathbb{1}(|w_i|>0)$$\n",
        "\n",
        "But this is not convex! It is also very hard to optimize. \n",
        "\n",
        "**Motivation:** MAP estimation with a Laplace prior - $\\ell_1$ regularization. \n",
        "\n",
        "\\begin{align}\n",
        "p(\\m{w}|\\lambda) \\propto \\Pi_{i=1}^d \\exp(-\\lambda |w_i|)\n",
        "\\end{align}\n",
        "where $\\lambda$ is the sparsity/regularization parameter. The loss function becomes \n",
        "\\begin{align}\n",
        "\\ell(\\m{w},\\lambda) = -\\log p(\\c{D}|\\m{w})-\\log p(\\m{w}|\\lambda) = \\|\\mathbf{X}\\mathbf{w}-\\mathbf{y}\\|_2^2+\\lambda\\|\\m{w}\\|_1\n",
        "\\end{align}\n",
        "where $\\|\\m{w}\\|_1 = \\sum_{i}^d |w_i|$, it is **$\\ell_1$-regularization**. \n",
        "\n",
        "Just like ridge regression, solution is governed by a\n",
        "continuous parameter $\\lambda$. \n",
        "-  $\\lambda=0, \\hat{\\m w}_{\\text{lasso}}=\\hat{\\m w}_{\\text{ls}}$.\n",
        "\n",
        "- $\\lambda = +\\infty, \\hat{\\m w}_{\\text{lasso}} = 0$.\n",
        "\n",
        "- If $\\lambda$ in between, $0\\le \\|\\hat{\\m w}_{\\text{lasso}}\\|_1 \\le \\|\\hat{\\m w}_{\\text{ls}}\\|_1$. \n",
        "\n",
        "**$\\qquad\\qquad$(Left) Ridge   $\\qquad\\qquad\\qquad\\qquad\\qquad\\qquad\\qquad\\qquad\\qquad\\qquad\\qquad$ (Right) LASSO**\n",
        "\n",
        "<img src=\"https://github.com/yexf308/AppliedStatistics/blob/main/image/lasso_house5.png?raw=true\" width=\"500\" />\n",
        "<img src=\"https://github.com/yexf308/AppliedStatistics/blob/main/image/lasso_house6.png?raw=true\" width=\"500\" />"
      ],
      "metadata": {
        "id": "ebra5Hg2_UwD"
      }
    },
    {
      "cell_type": "markdown",
      "source": [
        "## Why $l_1$ regularization yield sparse solution?\n",
        "The LASSO objective is \n",
        "\\begin{align}\n",
        " \\min_{\\m{w}}\\ell(\\m{w},\\lambda)=\\min_{\\m{w}}\\|\\mathbf{X}\\mathbf{w}-\\mathbf{y}\\|_2^2+\\lambda\\|\\m{w}\\|_1\n",
        "\\end{align}\n",
        "It is the Lagrangian for the following constraint optimization, \n",
        "\\begin{align}\n",
        "\\min_{\\m{w}}\\|\\mathbf{X}\\mathbf{w}-\\mathbf{y}\\|_2^2 \\qquad \\text{subject to } \\|\\m{w}\\|_1\\le B\n",
        "\\end{align}\n",
        "where $B$ is the upper bound on the $\\ell_1-$norm of the weights. (small $B$ $\\leftrightarrow$ large penalty $\\lambda$)\n",
        "\n",
        "The ridge objective is \n",
        "\\begin{align}\n",
        " \\min_{\\m{w}}\\ell(\\m{w},\\lambda)=\\min_{\\m{w}}\\|\\mathbf{X}\\mathbf{w}-\\mathbf{y}\\|_2^2+\\lambda\\|\\m{w}\\|_2^2\n",
        "\\end{align}\n",
        "It is the Lagrangian for the following constraint optimization, \n",
        "\\begin{align}\n",
        "\\min_{\\m{w}}\\|\\mathbf{X}\\mathbf{w}-\\mathbf{y}\\|_2^2 \\qquad \\text{subject to } \\|\\m{w}\\|_2^2\\le B\n",
        "\\end{align}\n",
        "\n",
        "\n",
        "We plot the contours of the loss functions, as well as the contours of the $l_1$ and $l_2$ constraint surface. From the theory of constrained optimization, we know\n",
        "that the optimal solution occurs at the point where the lowest level set of the objective function\n",
        "intersects the constraint surface.\n",
        "\n",
        "<img src=\"https://github.com/yexf308/MAT592/blob/main/image/lasso.png?raw=true\" width=\"700\" />\n",
        "\n",
        "For $q< 1$, we can get even sparser solutions, but the problem becomes non-convex. So $l_1$-norm is the tightest convex relaxation of $l_0$-norm. Note LASSO is not strictly convex so the solution may not be unique. \n",
        "\n",
        "\n",
        "<img src=\"https://github.com/yexf308/MAT592/blob/main/image/lasso1.png?raw=true\" width=\"390\" />\n",
        "<img src=\"https://github.com/yexf308/MAT592/blob/main/image/lasso2.png?raw=true\" width=\"400\" />"
      ],
      "metadata": {
        "id": "S1YdUiOHjLF7"
      }
    },
    {
      "cell_type": "markdown",
      "source": [
        "## Fitting the lasso regression model (for given $\\lambda$)\n",
        "\n",
        "Unlike the previous models, no closed-form solution exists due to the fact that the loss function is no longer continuously differentiable (non-smooth absolute component $|w_i|$).\n",
        "\n",
        "We have to solve this optimization problem **numerically**!\n",
        "\n",
        "## Algorithm 1: Pathwise Coordinate Descent (aka shooting algorithm)\n",
        "**Basic Idea:**  To optimize a parameter at a time holding all other parameters constant. This method is particularly good if it is hard to find minimum for all coordinates, but **easy for each coordinate**. \n",
        "\n",
        "<img src=\"https://github.com/yexf308/AppliedStatistics/blob/main/image/CD1.png?raw=true\" width=\"200\" />\n",
        "\n",
        "**Algorithm:** To minimize function $\\ell(\\m{w})$\n",
        "\n",
        "Initialize $\\hat{\\m{w}}=0$ or smartly\n",
        "   \n",
        "  - While not converged\n",
        "    - Pick a coodinate j (at \"random\" or \"round robin\" ..), \n",
        "     \\begin{align}\n",
        "     \\hat{w_j} \\leftarrow \\min_{w} \\ell(\\hat{w}_1, \\dots, \\hat{w}_{j-1}, w, \\hat{w}_{j+1}, \\hat{w}_d) \n",
        "     \\end{align} \n",
        "\n",
        "**NO Stepsize to choose**!\n",
        "\n",
        "\\\\\n",
        "\n",
        "Now let's solve this optimization one coordinate at a time. \n",
        "\n",
        "\\begin{align}\n",
        "\\frac{\\partial}{\\partial w_j} \\text{RSS}(\\m{w}) = \\frac{\\partial}{\\partial w_j} \\|\\mathbf{X}\\mathbf{w}-\\mathbf{y}\\|_2^2 &= 2\\m{X}_j^\\top (\\m{X}\\m{w}-\\m{y}) = 2\\m{X}_j^\\top(\\m{X}_j w_j +\\m{X}_{-j}\\m{w}_{-j}-\\m{y}) \\\\ \n",
        "&=  \\underbrace{2\\m{X}_j^\\top \\m{X}_j}_{\\triangleq a_j} w_j - \\underbrace{2\\m{X}_j^\\top (\\m{y}-\\m{X}_{-j}\\m{w}_{-j}) }_{\\triangleq c_j}\\\\\n",
        "\\frac{\\partial}{\\partial w_j} |w_j| &=\\begin{cases}1 & \\text{if }w_j >0 \\\\ -1 & \\text{if } w_j< 0 \\\\ [-1,1] &\\text{if } w_j=0 \\end{cases}\n",
        "\\end{align}\n",
        "\n",
        "Then \n",
        "\\begin{align}\n",
        "\\frac{\\partial}{\\partial w_j} \\ell(\\m{w},\\lambda) =  \\begin{cases}(a_j w_j - c_j)+\\lambda & \\text{if } w_j >0 \\\\ (a_j w_j - c_j)- \\lambda & \\text{if } w_j < 0 \\\\ [-c_j-\\lambda, -c_j+\\lambda] & \\text{if } w_j = 0 \\end{cases} \n",
        "\\end{align}\n",
        "\n",
        "\n",
        "where $\\mathbf{w}_{-j}$ is $\\mathbf{w}$ without component $j$ and similarly $\\mathbf{X}_{-j}$ is the data matrix $\\mathbf{X}$ without column $j$.\n",
        "\n",
        "We see that $c_j$ is proportional to the correlation between $j$’th column of features $\\mathbf{X}_j$ and the\n",
        "residual error obtained by predicting using all the other features, $\\mathbf{r}_{-j}= \\mathbf{y}-\\mathbf{X}_{-j}\\mathbf{w}_{-j}$. Hence the\n",
        "magnitude of $c_j$ is an indication of how relevant feature $j$ is for predicting $\\mathbf{y}$, relative to the other\n",
        "features and the current parameters.\n",
        "\n",
        "\n",
        "So the solution of the gradient being zero depends on $c_j$,\n",
        "\\begin{align}\n",
        "\\hat{w}_j(c_j)&= \\begin{cases}(c_j+\\lambda)/a_j & \\text{if } c_j<-\\lambda \\\\\n",
        "0 & \\text{if } \\lambda>c_j>-\\lambda  \\\\ \n",
        "(c_j-\\lambda)/a_j & \\text{if } c_j>\\lambda  \\end{cases} \\\\\n",
        "&= \\text{sign}\\left(\\frac{c_j}{a_j}\\right)\\max\\left(\\left|\\frac{c_j}{a_j}\\right|-\\frac{\\lambda}{a_j},0\\right) \\\\ \n",
        "&= \\text{SoftThreshold}\\left(\\frac{c_j}{a_j},\\frac{\\lambda}{a_j}\\right)\n",
        "\\end{align}\n",
        "This is called **soft thresholding**. \n",
        "\n",
        "We plot the solution as follows. The dotted black line is the line $w_j = c_j/a_j$. corresponding to the least squares fit. The solid red line, which represents the regularized\n",
        "estimate $\\hat{w}_j$, shifts the dotted line down (or up) by $\\lambda$, except when $-\\lambda\\le c_j\\le \\lambda$, in which case it sets $\\hat{w}_j=0$.\n",
        "\n",
        "<img src=\"https://github.com/yexf308/MAT592/blob/main/image/soft_threshold.png?raw=true\" width=\"300\" />\n",
        "\n",
        "\n",
        "### Algorithm revisted\n",
        "\n",
        "Initialize $\\hat{\\m{w}}=0$ or smartly\n",
        "  - Precompute for all coordiate j\n",
        "     $$ a_j = \\m{X}_j^\\top \\m{X}_j $$ \n",
        "  - While not converged\n",
        "    - Pick a coodinate j (at \"random\" or \"round robin\" ..), compute\n",
        "\n",
        "     \\begin{align}\n",
        "     & c_j = \\m{X}_j^\\top (\\m{y}-\\m{X}_{-j}\\m{w}_{-j}) \\\\\n",
        "     & \\hat{w}_j = \\text{SoftThreshold}\\left(\\frac{c_j}{a_j},\\frac{\\lambda}{a_j}\\right)\n",
        "     \\end{align} \n",
        "\n",
        "There are many other algorithms solves LASSO. \n",
        "- **Projected gradient descent**\n",
        "   - split variable trick, $w=w^{+}-w^{-}$, where $w^+ =\\max\\{w,0\\}$ and $w^- = -\\max\\{w,0\\}$. Now $\\|\\m{w}\\|_1 = \\sum_d (w_d^+ +w_d^-)$. \n",
        "   - The objective function to minimize becomes the constrained, optimization problem. \n",
        "   \\begin{align}\n",
        "   \\min_{\\m{w}^+\\ge 0, \\m{w}^{-}\\ge 0} \\text{NLL}(\\m{w}^+ - \\m{w}^-) +\\lambda \\sum_d (w_d^++w_d^-)\n",
        "   \\end{align}\n",
        "\n",
        "   - We can solve it with projected gradient descent,\n",
        "   \\begin{align}\n",
        "   \\bcm \\m{w}_{t+1}^+ \\\\\\m{w}_{t+1}^- \\ecm = P_+\\left( \\bcm \\m{w}_{t}^+ \\\\\\m{w}_{t}^- \\ecm + \\bcm -\\eta_t \\nabla \\text{NLL}(\\m{w}_{t}^+ -\\m{w}_{t}^- ) \\\\ +\\eta_t\\nabla \\text{NLL}(\\m{w}_{t}^+ -\\m{w}_{t}^- ) \\ecm -\\eta_t\\lambda \\mb{1}\\right) \n",
        "   \\end{align}\n",
        "   \n",
        "\n",
        "- **LARS**: homotopy method for lasso. \n",
        "\n",
        "### Debiasing\n",
        "**LASSO is a biased estimator!**\n",
        "\n",
        "A simple solution to the biased estimate problem, known as debiasing, is to use a two-stage\n",
        "estimation process:\n",
        "\n",
        "- Estimate the support of the weight vector (i.e., identify which elements\n",
        "are non-zero) using lasso.\n",
        "\n",
        "- Re-estimate the chosen coefficients using least squares.\n",
        "\n",
        "### How to choose $\\lambda$?\n",
        "- Hold out.\n",
        "- Cross-validation.\n",
        "\n",
        "What the range of $\\lambda$?\n",
        "- $\\lambda=0$, $\\hat{\\m{w}}=\\hat{\\m{w}}_{\\text{LS}}$.\n",
        "\n",
        "- $\\lambda> \\lambda_{\\text{cr}}$, $\\hat{\\m{w}}=\\m{0}$. \n",
        "This critical value is obtained when the gradient of the NLL cancels out with the gradient of the penalty. \n",
        "\\begin{align}\n",
        "\\lambda_{\\text{max}} = \\max_{j}|\\nabla_{w_j}\\text{RSS}(\\m{0})| = \\max_{j}|\\m{X}_j^\\top \\m{y}|  = \\|\\m{X}^\\top \\m{y}\\|_{\\infty}\n",
        "\\end{align}\n",
        "Then the range of $\\lambda$ is $[0, \\lambda_{\\text{max}}]$. "
      ],
      "metadata": {
        "id": "TKnFi0OXpDUt"
      }
    },
    {
      "cell_type": "markdown",
      "source": [
        "## Tips in coding\n",
        "- For-loops can be slow whereas vector/matrix computation in Numpy is very optimized; exploit this as\n",
        "much as possible.\n",
        "\n",
        "- The pseudocode provided has many opportunities to speed up computation by precomputing quantities\n",
        "like $a_j$ before the for loop. These small changes can speed things up considerably.\n",
        "\n",
        "- As a sanity check, ensure the objective value is nonincreasing with each step.\n",
        "\n",
        "- It is up to you to decide on a suitable stopping condition. A common criteria is to stop when no element\n",
        "of $\\m{w}$ changes by more than some small tolerance during an iteration. If you need your algorithm to run faster, an\n",
        "easy place to start is to loosen this condition.\n",
        "\n",
        "- You will need to solve the Lasso on the same dataset for many values of $\\lambda$. This is called a regularization\n",
        "path. One way to do this efficiently is to start at a large $\\lambda$, and then for each consecutive solution, initialize\n",
        "the algorithm with the previous solution, decreasing $\\lambda$ by a constant ratio (e.g., by a factor of 1.2) until\n",
        "finished.\n",
        "\n"
      ],
      "metadata": {
        "id": "yWDWCdwu_Drn"
      }
    },
    {
      "cell_type": "code",
      "source": [
        "def qr_solve(X, y):\n",
        "    Q, R = np.linalg.qr(X)\n",
        "    Qy = np.dot(Q.T, y)\n",
        "    return scipy.linalg.solve_triangular(R, Qy)"
      ],
      "metadata": {
        "id": "cDVRfN7Uav0-"
      },
      "execution_count": 2,
      "outputs": []
    },
    {
      "cell_type": "code",
      "source": [
        "def lasso(X, y, lam, tol=1e-6):\n",
        "\n",
        "  \"\"\"The Lasso Regression model\n",
        "      Pathwise coordinate descent with co-variance updates is applied.\n",
        "\n",
        "      X - NumPy matrix, size (N, d), of standardized numerical predictors, note the first column is ones.\n",
        "      y - NumPy array, length N, of numerical response.\n",
        "      lam - L1 penalty tuning parameter (positive scalar)\n",
        "      tol - Coordinate Descent convergence tolerance (exited if change < tol)\n",
        "\n",
        "  \"\"\"\n",
        "  d     = X.shape[1]\n",
        "  w_s   = zeros(d)\n",
        "  iter  = 0\n",
        "\n",
        "  a     = zeros(d)\n",
        "  index = []\n",
        "  for j in range(d):\n",
        "    a[j]     = sum(X[:,j]**2)\n",
        "    index.append(list(range(0,j)) + list(range(j+1,d)))\n",
        "\n",
        "  while True:\n",
        "    w_pre = w_s.copy()\n",
        "\n",
        "    for j in range(d): \n",
        "      c_j     = np.dot(X[:,j].T, y-np.dot(X[:,index[j]],w_s[index[j]])) # this is not optimal, try to optimize as much as possible.\n",
        "      update  = c_j/a[j]\n",
        "      w_s[j]  = np.sign(update) * max(abs(update) - lam/a[j], 0)  \n",
        "\n",
        "    iter = iter + 1\n",
        "    if np.all(abs(w_s-w_pre)<tol):\n",
        "      #print('Number of iteration is ', iter)\n",
        "      break\n",
        "\n",
        "  return w_s    \n",
        "\n"
      ],
      "metadata": {
        "id": "GTEQsjjFaXF9"
      },
      "execution_count": 57,
      "outputs": []
    },
    {
      "cell_type": "code",
      "source": [
        "# same data as before \n",
        "np.random.seed(0)\n",
        "N = 35\n",
        "x = np.linspace(0.0, 20, N)\n",
        "X0 = x.reshape(N, 1)\n",
        "w = np.array([-1.5, 1 / 9.0])\n",
        "y = w[0] * x + w[1] * np.square(x)\n",
        "y = y + np.random.normal(0, 1, N) * 2\n",
        "\n",
        "\n",
        "# let's try  6th order polynomial \n",
        "d = 6\n",
        "X        = np.ones((N, 1))\n",
        "for i in range(1,d+1):\n",
        "  X   = np.hstack([X, X0**i])"
      ],
      "metadata": {
        "id": "hwsrK58zhTLd"
      },
      "execution_count": 130,
      "outputs": []
    },
    {
      "cell_type": "code",
      "source": [
        "# feature scaling\n",
        "# Rescaling data with min and max\n",
        "def MinMaxScaler(X):\n",
        "  N = X.shape[0]\n",
        "  d = X.shape[1]\n",
        "  Y = zeros([N,d])\n",
        "  for i in range(d):\n",
        "    Xi = X[:,i]\n",
        "    if max(Xi) - min(Xi) != 0:\n",
        "      Y[:,i] = (Xi - min(Xi) )/(max(Xi) - min(Xi))\n",
        "    else:\n",
        "      Y[:,i] = ones(N)\n",
        "        \n",
        "  return Y "
      ],
      "metadata": {
        "id": "bhpB9B6EhiPc"
      },
      "execution_count": 131,
      "outputs": []
    },
    {
      "cell_type": "code",
      "source": [
        "Xtrain_s = MinMaxScaler(X)\n",
        "lam_max = norm(Xtrain_s.T.dot(y), np.inf)\n",
        "lam_span = linspace(1, lam_max-0.1, 100) #lam_max*(1/1.2)**arange(25)\n",
        "w_hat_store = zeros([100, d+1])\n"
      ],
      "metadata": {
        "id": "4iMlsoXPleHN"
      },
      "execution_count": 132,
      "outputs": []
    },
    {
      "cell_type": "code",
      "source": [
        "# let's do a simple test\n",
        "for lam_idx, lam in enumerate(lam_span):\n",
        "  w_hat = lasso(Xtrain_s, y, lam)\n",
        "  w_hat_store[lam_idx] = w_hat\n",
        "\n",
        "\n",
        "fig, ax = plt.subplots()\n",
        "for i in range(d+1):\n",
        "  ax.plot(lam_span, w_hat_store[:,i])\n",
        "\n",
        "ax.legend(['bias','1st','2nd','3rd','4th','5th','6th'])\n",
        "grid()    \n",
        "\n",
        "\n",
        "\n",
        "\n"
      ],
      "metadata": {
        "id": "9_73Eg-rohd7",
        "colab": {
          "base_uri": "https://localhost:8080/",
          "height": 265
        },
        "outputId": "f5583c21-db6a-456a-bb54-ebfcf4b9c6c4"
      },
      "execution_count": 133,
      "outputs": [
        {
          "output_type": "display_data",
          "data": {
            "text/plain": [
              "<Figure size 432x288 with 1 Axes>"
            ],
            "image/png": "[encoded data removed]"
          },
          "metadata": {
            "needs_background": "light"
          }
        }
      ]
    },
    {
      "cell_type": "code",
      "source": [
        "w_nonzero = zeros(100)\n",
        "nonzero_entry=[]\n",
        "for i in range(100):\n",
        "  w_nonzero[i]= count_nonzero(w_hat_store[i])\n",
        "  nonzero_entry.append(list(nonzero(w_hat_store[i])[0]))\n",
        "\n",
        "# plot no. of nonzeros\n",
        "plt.plot(lam_span, w_nonzero)  \n",
        "plt.show()"
      ],
      "metadata": {
        "colab": {
          "base_uri": "https://localhost:8080/",
          "height": 265
        },
        "id": "Dh8Ur9jj3jhv",
        "outputId": "61dedad7-0e51-4701-fe72-e4279083a65b"
      },
      "execution_count": 134,
      "outputs": [
        {
          "output_type": "display_data",
          "data": {
            "text/plain": [
              "<Figure size 432x288 with 1 Axes>"
            ],
            "image/png": "[encoded data removed]"
          },
          "metadata": {
            "needs_background": "light"
          }
        }
      ]
    },
    {
      "cell_type": "markdown",
      "source": [
        "## Subset selection"
      ],
      "metadata": {
        "id": "q8UDDmn-DRE5"
      }
    },
    {
      "cell_type": "code",
      "source": [
        "# extract these unique of these nonzero features\n",
        "unique_data = [list(x) for x in set(tuple(x) for x in nonzero_entry)]\n",
        "unique_data"
      ],
      "metadata": {
        "colab": {
          "base_uri": "https://localhost:8080/"
        },
        "id": "mc5Cv7az5yoV",
        "outputId": "2fb945e6-c567-4ba6-d3c6-6b0229bb00f4"
      },
      "execution_count": 145,
      "outputs": [
        {
          "output_type": "execute_result",
          "data": {
            "text/plain": [
              "[[0, 1, 3, 4], [2], [3], [4], [0, 1, 3], [2, 3], [0, 1, 4], [0, 4], [3, 4]]"
            ]
          },
          "metadata": {},
          "execution_count": 145
        }
      ]
    },
    {
      "cell_type": "code",
      "source": [
        "# we add more test data, 200 datapoints. \n",
        "xtest = np.arange(0.0, 20, 0.1)\n",
        "N     = xtest.shape[0]\n",
        "Xtest0 = xtest.reshape(N, 1)\n",
        "w = np.array([-1.5, 1 / 9.0])\n",
        "ytest = w[0] * xtest + w[1] * np.square(xtest)\n",
        "ytest = ytest + np.random.normal(0, 1, N) * 2\n",
        "\n",
        "d = 10\n",
        "Xtest        = np.ones((N, 1))\n",
        "for i in range(1,d+1):\n",
        "  Xtest   = np.hstack([Xtest, Xtest0**i])\n",
        "\n",
        "Xtest_s = MinMaxScaler(Xtest) "
      ],
      "metadata": {
        "id": "qHl3H-0A9JFQ"
      },
      "execution_count": 136,
      "outputs": []
    },
    {
      "cell_type": "code",
      "source": [
        "# use testing data to check which features perform the best\n",
        "L = len(unique_data)\n",
        "error_store = zeros(L)\n",
        "for i in range(L):\n",
        "  Xtrain_s_i = Xtrain_s[:, unique_data[i]]\n",
        "  w_i = qr_solve(Xtrain_s_i, y)\n",
        "  ytest_i = Xtest_s[:,unique_data[i]].dot(w_i)\n",
        "  error_store[i] = sum((ytest-ytest_i)**2)\n"
      ],
      "metadata": {
        "id": "cPbsmW559mgW"
      },
      "execution_count": 137,
      "outputs": []
    },
    {
      "cell_type": "code",
      "source": [
        "argmin(error_store)"
      ],
      "metadata": {
        "colab": {
          "base_uri": "https://localhost:8080/"
        },
        "id": "6eawRp8x_qOn",
        "outputId": "fea618f5-e6f7-4794-e3b3-bccb86b2e6e6"
      },
      "execution_count": 156,
      "outputs": [
        {
          "output_type": "execute_result",
          "data": {
            "text/plain": [
              "4"
            ]
          },
          "metadata": {},
          "execution_count": 156
        }
      ]
    },
    {
      "cell_type": "code",
      "source": [
        "Xtrain_s_i = Xtrain_s[:, unique_data[4]]\n",
        "w_i = qr_solve(Xtrain_s_i, y)\n",
        "ytest_i = Xtest_s[:,unique_data[4]].dot(w_i)"
      ],
      "metadata": {
        "id": "314Ij28GB2gf"
      },
      "execution_count": 154,
      "outputs": []
    },
    {
      "cell_type": "code",
      "source": [
        "print(unique_data[4])\n"
      ],
      "metadata": {
        "colab": {
          "base_uri": "https://localhost:8080/"
        },
        "id": "i_CwvF7eCSE9",
        "outputId": "e96c987e-9a93-4268-e439-227bed042c30"
      },
      "execution_count": 155,
      "outputs": [
        {
          "output_type": "stream",
          "name": "stdout",
          "text": [
            "[0, 1, 3]\n"
          ]
        }
      ]
    },
    {
      "cell_type": "code",
      "source": [
        "fig, ax = plt.subplots()\n",
        "ax.scatter(X[:,1], y)\n",
        "ax.plot(Xtest[:,1],ytest_i)\n",
        "grid()"
      ],
      "metadata": {
        "colab": {
          "base_uri": "https://localhost:8080/",
          "height": 265
        },
        "id": "6I6UxaDsBx37",
        "outputId": "3264c2d6-5392-4bcc-9d4a-e0848302bb98"
      },
      "execution_count": 157,
      "outputs": [
        {
          "output_type": "display_data",
          "data": {
            "text/plain": [
              "<Figure size 432x288 with 1 Axes>"
            ],
            "image/png": "[encoded data removed]"
          },
          "metadata": {
            "needs_background": "light"
          }
        }
      ]
    },
    {
      "cell_type": "markdown",
      "source": [
        "## Elastic net (ridge and lasso combined)\n",
        "Sometimes these features may have group structure, we would like highly correlated coefficients to be treated as an\n",
        "implicit group. We can use elastic net which is hybrid of lasso and ridge. \n",
        "The objective function is \n",
        "\\begin{align}\n",
        "\\ell(\\m{w},\\lambda_1, \\lambda_2)= \\|\\m{X}\\m{w}-\\m{y}\\|_2^2 +\\lambda_1\\|\\m{w}\\|_1 + \\lambda_2 \\|\\m{w}\\|_2^2\n",
        "\\end{align}\n",
        "\n",
        "This penalty function is strictly convex (assuming  $\\lambda_2 > 0$) so there is a unique global minimum, even\n",
        "if $\\m{X}$ is not full rank. In fact, any strictly convex penalty on $\\m{w}$ will exhibit a\n",
        "grouping effect, which means that the regression coefficients of highly correlated variables tend to be equal. \n",
        "\n",
        "For example, if $\\m{X}_k=\\m{X}_j$ for $j$-th and $k$-th columns, one can show that their\n",
        "estimates are also equal $w_j=w_k$. But in lasso, we may have $w_j=0$ but $w_k\\ne 0$, which is not stable. "
      ],
      "metadata": {
        "id": "2J9TUBTrDwqV"
      }
    },
    {
      "cell_type": "markdown",
      "source": [
        "## Summary\n",
        "-  Least square.\n",
        "   - Likelihood: Gaussian\n",
        "   - Prior: Uniform\n",
        "\n",
        "- Robust Regression.\n",
        "  - Likelihood: Laplace\n",
        "  - Prior: Uniform\n",
        "\n",
        "- Ridge\n",
        "  - Likelihood: Gaussian\n",
        "  - Prior: Gaussian\n",
        "\n",
        "- Lasso\n",
        "  - Likelihood: Gaussian\n",
        "  - Prior: Laplace        \n"
      ],
      "metadata": {
        "id": "YF8vfPKGeIs1"
      }
    }
  ]
}