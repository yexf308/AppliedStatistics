{
  "nbformat": 4,
  "nbformat_minor": 0,
  "metadata": {
    "colab": {
      "name": "565Fa22HW4.ipynb",
      "provenance": [],
      "collapsed_sections": [],
      "authorship_tag": "ABX9TyOSqAF1hpGlFubBxdRXJGMg",
      "include_colab_link": true
    },
    "kernelspec": {
      "name": "python3",
      "display_name": "Python 3"
    },
    "language_info": {
      "name": "python"
    }
  },
  "cells": [
    {
      "cell_type": "markdown",
      "metadata": {
        "id": "view-in-github",
        "colab_type": "text"
      },
      "source": [
        "<a href=\"https://colab.research.google.com/github/yexf308/AppliedStatistics/blob/main/Homework/HW4/565Fa22HW4.ipynb\" target=\"_parent\"><img src=\"https://colab.research.google.com/assets/colab-badge.svg\" alt=\"Open In Colab\"/></a>"
      ]
    },
    {
      "cell_type": "code",
      "execution_count": 26,
      "metadata": {
        "colab": {
          "base_uri": "https://localhost:8080/"
        },
        "id": "EIF8inxrMMKO",
        "outputId": "466bb196-6646-4453-df03-70068d11e68e"
      },
      "outputs": [
        {
          "output_type": "stream",
          "name": "stdout",
          "text": [
            "Populating the interactive namespace from numpy and matplotlib\n"
          ]
        },
        {
          "output_type": "stream",
          "name": "stderr",
          "text": [
            "/usr/local/lib/python3.7/dist-packages/IPython/core/magics/pylab.py:161: UserWarning: pylab import has clobbered these variables: ['linalg', 'clf']\n",
            "`%matplotlib` prevents importing * from pylab and numpy\n",
            "  \"\\n`%matplotlib` prevents importing * from pylab and numpy\"\n"
          ]
        }
      ],
      "source": [
        "%pylab inline \n",
        "import pandas as pd\n",
        "from scipy import linalg\n",
        "from sklearn import tree\n",
        "from itertools import combinations\n",
        "import scipy\n",
        "import scipy.io as io\n",
        "from scipy.io import mmread\n",
        "import scipy.sparse as sparse"
      ]
    },
    {
      "cell_type": "markdown",
      "source": [
        "$\\def\\m#1{\\mathbf{#1}}$\n",
        "$\\def\\mm#1{\\boldsymbol{#1}}$\n",
        "$\\def\\mb#1{\\mathbb{#1}}$\n",
        "$\\def\\c#1{\\mathcal{#1}}$\n",
        "$\\def\\mr#1{\\mathrm{#1}}$\n",
        "$\\newenvironment{rmat}{\\left[\\begin{array}{rrrrrrrrrrrrr}}{\\end{array}\\right]}$\n",
        "$\\newcommand\\brm{\\begin{rmat}}$\n",
        "$\\newcommand\\erm{\\end{rmat}}$\n",
        "$\\newenvironment{cmat}{\\left[\\begin{array}{ccccccccc}}{\\end{array}\\right]}$\n",
        "$\\newcommand\\bcm{\\begin{cmat}}$\n",
        "$\\newcommand\\ecm{\\end{cmat}}$\n",
        "# Homework 4\n",
        "## Homework guideline\n",
        "- The deadline is Nov 18th 10:30am. Submission after the deadline will not be graded. \n",
        "\n",
        "- Submit your work(your reasoning and your code) as a SINGLE .ipynb document. Please rename the document as _HW1_YOURNAME.ipynb_ (for example, _HW1_FELIX.ipynb_). You are responsible for checking that you have correctly submitted the correct document. If your code cannot run, you may receive NO point. \n",
        "\n",
        "- Please justify all short answers with a brief explanation. If you use latex command in the markdown, **2 points** bonus will be awarded.   \n",
        "\n",
        "- You only use the Python packages included in the following cell. You are not allowed to use other advanced package or modules unless you are permitted to. \n",
        "\n",
        "- In your final submission include the plots produced by the unedited code as presented below, as well as any additional plots produced after editing the code during the course of a problem. You may find it necessary to copy/paste relevant code into additional cells to accomplish this.\n",
        "\n",
        "- Feel free to use the lecture notes and other resources. But you\n",
        "must understand, write, and hand in your own answers. In addition, you must write and submit\n",
        "your own code in the programming part of the assignment (we may run your code).\n",
        "If you copy someone else homework solution, both of you may receive ZERO point. \n",
        "\n",
        "\n",
        "- Colab is preferred. However, if you use Anaconda, please download the .mat file locally and save it to the same folder as this homework file. "
      ],
      "metadata": {
        "id": "ipWO4eSUMSIi"
      }
    },
    {
      "cell_type": "markdown",
      "source": [
        "**Collaboration:** List the names of all people you collaborated with and for which question(s). This is important!"
      ],
      "metadata": {
        "id": "dcGdktD1OzrB"
      }
    },
    {
      "cell_type": "markdown",
      "source": [
        "# Q1: Gaussian Mixture Models (30pt)\n",
        "### Q1.1  KL divergence (5pt)\n",
        "In class, we defined the **Kullback-Leibler divergence** (or **KL divergence** for short) between two probability distributions $q$ and $p$, \n",
        "$$ \\text{KL}(q||p)=\\sum_{z=1}^K q(z) \\log\\left( \\frac{q(z)}{p(z)}\\right)$$\n",
        "where $\\sum_{z=1}^K q(z)=1$ and $\\sum_{z=1}^K p(z)=1$. For simplicity, assume $p(z)>0$ for all $z$. \n",
        "\n",
        "Please show the following two key properties\n",
        "- $\\text{KL}(q||p)\\ge 0$ \n",
        "\n",
        "- $\\text{KL}(q||p)=0$ iff $p=q$. "
      ],
      "metadata": {
        "id": "uztB1SSzPZLR"
      }
    },
    {
      "cell_type": "markdown",
      "source": [
        "# Your Solution:"
      ],
      "metadata": {
        "id": "F5eSGwthPyN6"
      }
    },
    {
      "cell_type": "markdown",
      "source": [
        "\n",
        "\n",
        "---\n",
        "\n",
        "\n",
        "### Q1.2 (optional) Analytical solutions\n",
        "Show the following results, \n",
        "- \\begin{align}\n",
        "\\hat\\pi_k=\\arg\\max_{ \\pi_k} \\sum_{i=1}^N \\phi_{k}^{(i)} \\log \\pi_k = \\frac{1}{N}\\sum_{i=1}^N \\phi_{k}^{(i)}\n",
        "\\end{align}\n",
        "with the constraint that $\\sum_{k}\\pi_k=1$ and $0\\le \\pi_k\\le 1$\n",
        "\n",
        "- \\begin{align}\n",
        "(\\hat{\\mm\\mu}_k, \\hat{\\mm\\Sigma}_k)=\\arg\\max_{ \\mm\\mu_k, \\mm\\Sigma_k} \\sum_{i=1}^N \\phi_{k}^{(i),t} \\log p(\\mathbf{x}^{(i)} |\\mm\\mu_k, \\mm\\Sigma_k) = \\left(\\frac{\\sum_{i=1}^N \\phi_{k}^{(i)}  \\mathbf{x}^{(i)}}{\\sum_{i=1}^N \\phi_{k}^{(i)}}, \\frac{\\sum_{i=1}^N \\phi_{k}^{(i)}  \\left[\\mathbf{x}^{(i)}-\\hat{\\mm\\mu}_k\\right]\\left[\\mathbf{x}^{(i)}-\\hat{\\mm\\mu}_k\\right]^T}{\\sum_{i=1}^N \\phi_{k}^{(i)}}\\right)\n",
        "\\end{align}"
      ],
      "metadata": {
        "id": "5P59Vf6gjvfS"
      }
    },
    {
      "cell_type": "markdown",
      "source": [
        "# Your Solution:"
      ],
      "metadata": {
        "id": "tW3r1PFvot6n"
      }
    },
    {
      "cell_type": "markdown",
      "source": [
        "\n",
        "\n",
        "---\n",
        "\n",
        "### Q1.3. Construct a function to calculate log likelihood (5pt)\n",
        "Say you have applied EM algorithm in the Gaussian Mixture model and have found the optimal parameter $\\hat{\\mm\\theta}=\\{\\hat\\pi_k, \\hat{\\mm\\mu}_k, \\hat{\\mm\\Sigma}_k\\}_{k=1}^K$. Construct a function to calculate the log likelihood $\\ell(\\theta)$"
      ],
      "metadata": {
        "id": "sa_wfQDGP2BH"
      }
    },
    {
      "cell_type": "code",
      "source": [
        "#  Q1.3 your code starts here"
      ],
      "metadata": {
        "id": "5bFahnClQrPn"
      },
      "execution_count": null,
      "outputs": []
    },
    {
      "cell_type": "markdown",
      "source": [
        "\n",
        "\n",
        "---\n",
        "\n",
        "\n",
        "### Q1.4 Construct a function to calculate Bayesian information criterion (BIC) (5pt)\n",
        "\n",
        "In Gaussian mixture models, one question is how to choose the number of the cluster $K$. This time we cannot simply use elbow method, instead we will use slightly more complicated criterion, Bayesian information criterion (BIC). \n",
        "\n",
        "Remember the definition of BIC is \n",
        "\\begin{align}\n",
        "\\mr{BIC}(K) = \\log p(\\c{D}|\\hat{\\mm\\theta})-\\frac{d_K}{2}\\log(N)\n",
        "\\end{align}\n",
        "The first term is the log-likelihood $\\ell(\\hat{\\mm\\theta})$, $d_K$ is the number of free parameters in the model and $N$ is the number of samples. Overall, the higher BIC value, the better of the model. \n",
        "\n",
        "What is $d_K$ in GMM for $K$ clusters? \n",
        "Please construct a function to calculate the Bayesian information criterion. \n",
        "\n",
        "\n",
        "\n"
      ],
      "metadata": {
        "id": "tVOy8UxWUFq8"
      }
    },
    {
      "cell_type": "markdown",
      "source": [
        "# Your Solution:"
      ],
      "metadata": {
        "id": "K7PSZ6QaYAEa"
      }
    },
    {
      "cell_type": "code",
      "source": [
        "# Q1.4  your code starts here"
      ],
      "metadata": {
        "id": "wUvL0lu5X9Go"
      },
      "execution_count": null,
      "outputs": []
    },
    {
      "cell_type": "markdown",
      "source": [
        "\n",
        "\n",
        "---\n",
        "\n",
        "\n",
        "### Q1.5. Testing with the synthetic dataset (10pt)\n",
        "Performing Gaussian mixture models over the loop for an increasing number of $K$ from 2 to 6. Note for each $K$, you should run your GMM several times with differnt random initial conditions, to make sure the parameter is not trapped in the local optimum. Plot BIC value vs. the number of the cluster $K$. From the plot, please comment what is the optimal $K$. \n",
        "\n",
        "(It is always a good habit to start your code for some special $K$, say $K=3$. Make sure your code produces the correct result first, then put it into the loop with different $K$. )"
      ],
      "metadata": {
        "id": "QxQd_J9CaXuc"
      }
    },
    {
      "cell_type": "code",
      "source": [
        "!wget https://raw.githubusercontent.com/yexf308/AppliedStatistics/main/Homework/HW4/2DGaussianMixture.csv?raw=true -O 2DGaussianMixture.csv\n"
      ],
      "metadata": {
        "colab": {
          "base_uri": "https://localhost:8080/"
        },
        "id": "Ehx84loqctkh",
        "outputId": "4fd77ee2-fa34-4283-a776-8f639c47796c"
      },
      "execution_count": null,
      "outputs": [
        {
          "output_type": "stream",
          "name": "stdout",
          "text": [
            "--2022-07-28 15:36:33--  https://raw.githubusercontent.com/yexf308/AppliedStatistics/main/Homework/HW4/2DGaussianMixture.csv?raw=true\n",
            "Resolving raw.githubusercontent.com (raw.githubusercontent.com)... 185.199.108.133, 185.199.109.133, 185.199.110.133, ...\n",
            "Connecting to raw.githubusercontent.com (raw.githubusercontent.com)|185.199.108.133|:443... connected.\n",
            "HTTP request sent, awaiting response... 200 OK\n",
            "Length: 12901 (13K) [text/plain]\n",
            "Saving to: ‘2DGaussianMixture.csv’\n",
            "\n",
            "\r2DGaussianMixture.c   0%[                    ]       0  --.-KB/s               \r2DGaussianMixture.c 100%[===================>]  12.60K  --.-KB/s    in 0s      \n",
            "\n",
            "2022-07-28 15:36:33 (67.6 MB/s) - ‘2DGaussianMixture.csv’ saved [12901/12901]\n",
            "\n"
          ]
        }
      ]
    },
    {
      "cell_type": "code",
      "source": [
        "X = np.genfromtxt(\"2DGaussianMixture.csv\", delimiter=\",\")\n",
        "X = X[1:]\n",
        "X = X[:,1:]\n",
        "plt.scatter(X[:,0],X[:,1])\n",
        "plt.show()"
      ],
      "metadata": {
        "colab": {
          "base_uri": "https://localhost:8080/",
          "height": 265
        },
        "id": "-c1I_wIadFL-",
        "outputId": "c51f5ae0-4e18-46ea-c2ca-b65a7434d0de"
      },
      "execution_count": null,
      "outputs": [
        {
          "output_type": "display_data",
          "data": {
            "text/plain": [
              "<Figure size 432x288 with 1 Axes>"
            ],
            "image/png": "[encoded data removed]"
          },
          "metadata": {
            "needs_background": "light"
          }
        }
      ]
    },
    {
      "cell_type": "code",
      "source": [
        "# Q1.5 Your code starts here"
      ],
      "metadata": {
        "id": "P4xlQ_loexvE"
      },
      "execution_count": null,
      "outputs": []
    },
    {
      "cell_type": "markdown",
      "source": [
        "# Your Solution:"
      ],
      "metadata": {
        "id": "tJTPmUCfe1j4"
      }
    },
    {
      "cell_type": "markdown",
      "source": [
        "\n",
        "\n",
        "---\n",
        "\n",
        "\n",
        "### Q1.6 Plot (5pt)\n",
        "After picking the optimal, \n",
        "- Plot the data, with the most likely cluster assignment of each\n",
        "data point indicated by its color. \n",
        "- Mark the mean of each Gaussian \n",
        "- Draw the\n",
        "covariance ellipse for each Gaussian."
      ],
      "metadata": {
        "id": "PbMZFQ-QfAIM"
      }
    },
    {
      "cell_type": "code",
      "source": [
        "# Q1.6 Your code starts here"
      ],
      "metadata": {
        "id": "Rfq6b8pSfTG_"
      },
      "execution_count": null,
      "outputs": []
    },
    {
      "cell_type": "markdown",
      "source": [
        "\n",
        "\n",
        "---\n",
        "---\n",
        "\n",
        "\n",
        "#Q2: Pandora Recruiting! (20 pt)\n",
        "**Pandora** is a streaming music company and they paid an army of employees to create feature vectors for each song by hand. Suppose you work at Pandora and have feature vectors $\\{\\m{x}^{(i)}\\}_{i=1}^N\\in \\mb{R}^d$ for all $N$ songs in your database, and for a particular user, for some subset $\\c{S}\\subset \\{1, \\dots, N\\}$, has listened to song $i\\in \\c{S}$ exactly $Y^{(i)}\\in \\{1,2,\\dots\\}$ times. You would like to\n",
        "make a playlist for this user so you assume $Y^{(i)}$ is **Poisson distributed** with mean $\\mb{E}[Y^{(i)}|\\m{x}^{(i)}]=\\lambda_i = \\exp(\\m{x}^{(i)}\\m{w})$ for some weight vector $\\m{w}\\in \\mb{R}^d$ reflecting the user's preferences. That is \n",
        "\\begin{align}\n",
        "p(Y^{(i)}=y |\\m{x}^{(i)}, \\m{w})= \\frac{\\lambda_i^y}{y!}\\exp(-\\lambda_i) =\\frac{\\exp(y\\m{x}^{(i)}\\m{w})}{y!}\\exp(-\\exp(\\m{x}^{(i)}\\m{w})) \n",
        "\\end{align}\n",
        "The maximum likelihood estimator is $\\hat{\\m w}= \\arg\\max_{\\m{w}} \\Pi_{i\\in \\c{S}}p(Y^{(i)} |\\m{x}^{(i)}, \\m{w})$. The idea is that you would then construct\n",
        "a playlist out of the items $i\\in \\{1, \\dots, N\\}$ that maximize $\\m{x}^{(i)}\\m{w}$. \n",
        "\n",
        "\n",
        "\n",
        "---\n",
        "\n",
        "\n",
        "### Q2.1 Solve for $\\hat{\\m{w}}$ (10pt)\n",
        "The estimate $\\hat{\\m{w}}$ has no closed-form solution. Can the optimization problem be transformed into a **convex\n",
        "optimization** problem?  If so, suggest a method of solving for $\\hat{\\m{w}}$ given $\\{(\\m{x}^{(i)}, Y^{(i)})\\}_{i\\in\\c{S}}$. "
      ],
      "metadata": {
        "id": "evq96YN4QvsM"
      }
    },
    {
      "cell_type": "markdown",
      "source": [
        "# Your Solution:"
      ],
      "metadata": {
        "id": "ORvw6CsBbaYW"
      }
    },
    {
      "cell_type": "markdown",
      "source": [
        "\n",
        "\n",
        "---\n",
        "\n",
        "\n",
        "### Q2.2 Further improvement based on mood (10pt)\n",
        "You solve for the $\\hat{\\m{w}}$ for this user and make a playlist for her. Weeks later you look at her listening history\n",
        "and observe that sometimes she listens to a particular set of songs and skips over others, and at some\n",
        "other point she listens to a different set of songs and skips over others. You have the epiphany that users\n",
        "are human beings whose preferences differ with their mood (e.g., music for workouts, studying, being sad,\n",
        "etc.).  You decide she has $k$ music moods and aim to make $k$ playlists, one for each mood that could be\n",
        "modeled by a different weight vector $\\m{w}$.  The problem is that you don’t know which observation $i\\in \\c{S}$ is\n",
        "assigned to which mood. Describe (in math and words) how you would use the EM algorithm to make $k$ playlists."
      ],
      "metadata": {
        "id": "sizG5FWXbdDo"
      }
    },
    {
      "cell_type": "markdown",
      "source": [
        "# Your Solution:"
      ],
      "metadata": {
        "id": "ByD6ffnuc3GI"
      }
    },
    {
      "cell_type": "markdown",
      "source": [
        "\n",
        "\n",
        "---\n",
        "\n",
        "\n",
        "\n",
        "---\n",
        "# Q3: Clustering the BBC News (20pt)\n",
        "The dataset we will consider comes from the BBC (http://mlg.ucd.ie/datasets/bbc.html).\n",
        "The preprocessed dataset consists of the term-document frequency of 99 vocabulary and 1791\n",
        "documents chosen from 5 categories: business, entertainment, politics, sport and tech. \n",
        "\n",
        "After unzipping the folder, there should be four files: bbc.mtx, bbc.terms, bbc.classes,\n",
        "and bbc.centers.\n",
        "- **bbc.mtx**: Original term frequencies stored in a sparse matrix in Matrix Market format: each row is in the form of “termid docid frequency”.\n",
        "\n",
        "- **bbc.terms**: List of content-bearing terms in the corpus, with each line corresponding\n",
        "to a row of the sparse data matrix.\n",
        "\n",
        "- **bbc.classes**: Assignment of documents to natural classes, with each line corresponding to a document.\n",
        "\n",
        "- **bbc.centers**: : Cluster centers for initializing the clusters, with each line corresponding\n",
        "to a center of the cluster.\n",
        "\n",
        "\n"
      ],
      "metadata": {
        "id": "mm6-1oM_C0BE"
      }
    },
    {
      "cell_type": "code",
      "source": [
        "!wget https://raw.githubusercontent.com/yexf308/AppliedStatistics/main/Homework/HW4/bbc.mtx?raw=true -O bbc.mtx\n",
        "!wget https://raw.githubusercontent.com/yexf308/AppliedStatistics/main/Homework/HW4/bbc.terms?raw=true -O bbc.terms\n",
        "!wget https://raw.githubusercontent.com/yexf308/AppliedStatistics/main/Homework/HW4/bbc.classes?raw=true -O bbc.classes\n",
        "!wget https://raw.githubusercontent.com/yexf308/AppliedStatistics/main/Homework/HW4/bbc.centers?raw=true -O bbc.centers"
      ],
      "metadata": {
        "id": "yDaYwcr8EilK"
      },
      "execution_count": null,
      "outputs": []
    },
    {
      "cell_type": "code",
      "source": [
        "f_mat = mmread('bbc.mtx').tocsr()\t\t\t# term-document frequency matrix\n",
        "classes = np.loadtxt('bbc.classes',delimiter=\" \")\t\t# The document classes\n",
        "classes=classes.astype(int) # first columns is the index and second column is the true cluster of the clusters.\n",
        "\n",
        "file = open('bbc.terms','r')\n",
        "terms = file.read().splitlines()\t\t\t\t\t# The terms for each row in f_mat\n",
        "file.close()\n",
        "centers = np.loadtxt('bbc.centers',delimiter=\" \")"
      ],
      "metadata": {
        "id": "rX_YQqhGGIJk"
      },
      "execution_count": 29,
      "outputs": []
    },
    {
      "cell_type": "markdown",
      "source": [
        "The term frequency vector is not a good metric because of its\n",
        "biases to frequent terms. Your first task is to convert the term frequency into **tfidf**. For more information on tfidf, you may refer to https://github.com/yexf308/AdvancedMachineLearning/blob/main/Fast_KNN_kd_tree.ipynb. \n",
        "\n",
        "The following cell I calculate the tfidf for each doc.  "
      ],
      "metadata": {
        "id": "NQaFBA-DHqlP"
      }
    },
    {
      "cell_type": "code",
      "source": [
        "# Compute tfidf\n",
        "max_f = f_mat.max(axis=0).toarray()\t\t\t\t\t\t\t\t# Max frequency of any word for each doc\n",
        "tfidf = np.array(f_mat / max_f)\t\t\t\t\t\t\t\t\t# Term frequency matrix\n",
        "D = f_mat.shape[1]\t\t\t\t\t\t\t\t\t\t\t\t# Number of documents in corpus\n",
        "idf = np.array(np.log(D / np.sum(f_mat != 0.0, axis=1)))\t\t# Inverse document frequency\n",
        "tfidf = tfidf * idf\t\t\t\t\t\t\t\t\t\t\t\t# tf-idf\n",
        "# tfidf is now your data matrix. You will perform GMM on this dataset. \n"
      ],
      "metadata": {
        "id": "ARym04ckIYhR"
      },
      "execution_count": 33,
      "outputs": []
    },
    {
      "cell_type": "markdown",
      "source": [
        "### Q3.1 GMM with shrinkage (20pt)\n",
        "Run EM with $K = 5$ for 5 iterations. Using “BBC.centers” as the mean and identity as the\n",
        "covariance of the initial clusters. Initialize $\\mm{\\pi}$ uniformly. You need to be careful when updating the covariance matrix $\\mm{\\Sigma}_k$ during M-step. In\n",
        "particular, the MLE can be ill-conditioned because the data is sparse. As usual, to handle this\n",
        "case, we can perform a shrinkage on the MLE: $\\hat{\\mm{\\Sigma}}=(1-\\lambda)\\hat{\\mm{\\Sigma}}_{\\text{MLE}}+\\lambda \\m{I}$, which is equivalent\n",
        "to a MAP estimate of the posterior distribution with some Gaussian prior. For simplicity, in this problem, please\n",
        "use $\\lambda=0.2$. \n",
        "\n",
        "- Compare with the true cluster in `classes`, plot the classification error vs number of iterations.\n",
        "\n",
        "- Plot the log-likelihood vs the number of iterations."
      ],
      "metadata": {
        "id": "E3HoL66LKove"
      }
    },
    {
      "cell_type": "code",
      "source": [
        "# Q3.1  your code starts here"
      ],
      "metadata": {
        "id": "6oHVQ0qhYikZ"
      },
      "execution_count": null,
      "outputs": []
    },
    {
      "cell_type": "markdown",
      "source": [
        "# Your Solution:"
      ],
      "metadata": {
        "id": "91TDXeUSYjim"
      }
    },
    {
      "cell_type": "markdown",
      "source": [
        "\n",
        "\n",
        "---\n",
        "\n",
        "\n",
        "\n",
        "---\n",
        "# Q4: SPECTF Heart Data (30pt)\n",
        "In this programming exercise, we will get started with using scikit-learn and python by using an existing\n",
        "decision tree implementation provided with scikit-learn.\n",
        "\n",
        "### Data Set Description\n",
        "We will be applying decision tree learning to the evaluation of cardiac Single Proton Emission Computed\n",
        "Tomography (SPECT) images. We will work with a database of 267 SPECT image sets, each of which corresponds to a patient. Each patient’s scan was classified as either “normal(0)” or “abnormal(1)” by a physician; your job is to train a **classifier** to automatically evaluate SPECT image sets based on this training data. Instead\n",
        "of working with raw image sets, each SPECT image set was processed to extract 44 continuous features\n",
        "that summarize the original SPECT images. Each feature is a number between 0 and 100 corresponding\n",
        "to a “region of interest” in the image during stress or at-rest tests. \n",
        "\n",
        "The data is given in `SPECTF.dat`: the\n",
        "first column represents the class label and the remaining columns represent the features. The SPECTF data\n",
        "originally came from http://archive.ics.uci.edu/ml/datasets/SPECTF+Heart.\n"
      ],
      "metadata": {
        "id": "VN22ZHUSRy8m"
      }
    },
    {
      "cell_type": "code",
      "source": [
        "!wget https://raw.githubusercontent.com/yexf308/AppliedStatistics/main/Homework/HW4/SPECTF.dat?raw=true -O SPECTF.dat"
      ],
      "metadata": {
        "id": "hH4XFrJmSw1o"
      },
      "execution_count": null,
      "outputs": []
    },
    {
      "cell_type": "code",
      "source": [
        "data = np.loadtxt('SPECTF.dat', delimiter=',')\n",
        "X = data[:, 1:]\n",
        "y = np.array([data[:, 0]]).T\n",
        "n,d = X.shape"
      ],
      "metadata": {
        "id": "tEPK78vZUHE2"
      },
      "execution_count": 6,
      "outputs": []
    },
    {
      "cell_type": "code",
      "source": [
        "print(X.shape)\n",
        "print(y.shape)"
      ],
      "metadata": {
        "colab": {
          "base_uri": "https://localhost:8080/"
        },
        "id": "3YBQmLTFUcXl",
        "outputId": "269b9da1-cf7b-4c0f-ccdf-ce640229ad7c"
      },
      "execution_count": 4,
      "outputs": [
        {
          "output_type": "stream",
          "name": "stdout",
          "text": [
            "(267, 44)\n",
            "(267, 1)\n"
          ]
        }
      ]
    },
    {
      "cell_type": "markdown",
      "source": [
        "\n",
        "\n",
        "---\n",
        "\n",
        "\n",
        "### Q4.1 Cross-validation (20pt)\n",
        "In this problem, we will cross-validate to determine the hyperparameter: the  maximum layer of the decision tree. \n",
        "1. Randomize the order of the instances in the data set, and split the data into training, validation and testing sets with 80%, 10% and 10%. \n",
        "\n",
        "2. Perform 8-fold cross-validation over the training and validation datasets, and record **the training error and validation error** for the decision tree with maximum layer from 1 to 10. \n",
        "\n",
        "3. Since the contruction of decision tree in sklearn is random, please repeat the process of step 1 and 2 **100 trials**, and report **the mean and standard deviation** of the training error and validation error over all 100 trials of 8-fold cross-validation. Be certain to shuffle the data at the start of each trial, but never within a trial.\n",
        "\n",
        "4. Plot mean of both errors in the same figure vs the maximum layer and report the optimal maximum layer. \n",
        "\n",
        "5. Combine the training and validation dataset, build the decision tree classifier with the optimal maximum layer and report the testing error on predicting the testing dataset.  \n",
        "\n",
        "Note although scikit-learn provides libraries that implement cross-fold validation, you may not use them\n",
        "for this assignment – you must implement cross-fold validation yourself.\n",
        "\n",
        "To display the standard deviations on the plot, see errorbar (http://matplotlib.org/examples/statistics/errorbar_demo_features.html) functions in matplotlib."
      ],
      "metadata": {
        "id": "AR5w6tLi7Oln"
      }
    },
    {
      "cell_type": "code",
      "source": [
        "# Q4.1  your code starts here"
      ],
      "metadata": {
        "id": "E5iZ9hbNsy_m"
      },
      "execution_count": null,
      "outputs": []
    },
    {
      "cell_type": "markdown",
      "source": [
        "# Your Solution:"
      ],
      "metadata": {
        "id": "v6rWgnNAtA_b"
      }
    },
    {
      "cell_type": "markdown",
      "source": [
        "\n",
        "\n",
        "---\n",
        "\n",
        "\n",
        "### Q4.2 Generating a Learning Curve (10pt)\n",
        "In this question, we will use the optimal maximum layer as we got from the last question. We combine the training and validation dataset into the total training set. \n",
        "\n",
        "We will generate and output a plot showing the learning curve over the total training data. The learning curve should **plot the mean and standard deviation of the testing error** for $10\\%, 20\\%, \\dots, 100\\% $ of the total training data. Note that $100\\%$ of the total training data corresponds to $90\\%$ of the complete data set. As before, the learning curve statistics should be computed over 100 trials for each different amount of training data. "
      ],
      "metadata": {
        "id": "wgybY1itwWqx"
      }
    },
    {
      "cell_type": "code",
      "source": [
        "# Q4.1  your code starts here"
      ],
      "metadata": {
        "id": "1PfM9rv84C2G"
      },
      "execution_count": null,
      "outputs": []
    },
    {
      "cell_type": "markdown",
      "source": [
        "# Your Solution:"
      ],
      "metadata": {
        "id": "WaFvO4X-4DUw"
      }
    }
  ]
}