{
  "nbformat": 4,
  "nbformat_minor": 0,
  "metadata": {
    "colab": {
      "name": "565Fa22HW2.ipynb",
      "provenance": [],
      "collapsed_sections": [],
      "authorship_tag": "ABX9TyOnJIm75I262sQbsv5lKdVg",
      "include_colab_link": true
    },
    "kernelspec": {
      "name": "python3",
      "display_name": "Python 3"
    },
    "language_info": {
      "name": "python"
    }
  },
  "cells": [
    {
      "cell_type": "markdown",
      "metadata": {
        "id": "view-in-github",
        "colab_type": "text"
      },
      "source": [
        "<a href=\"https://colab.research.google.com/github/yexf308/AppliedStatistics/blob/main/Homework/HW2/565Fa22HW2.ipynb\" target=\"_parent\"><img src=\"https://colab.research.google.com/assets/colab-badge.svg\" alt=\"Open In Colab\"/></a>"
      ]
    },
    {
      "cell_type": "code",
      "source": [
        "%pylab inline \n",
        "import pandas as pd\n",
        "from scipy import linalg\n",
        "from itertools import combinations\n",
        "import scipy"
      ],
      "metadata": {
        "colab": {
          "base_uri": "https://localhost:8080/"
        },
        "id": "sbt_VELTM20o",
        "outputId": "cd338fd3-6b2c-4dad-8436-25e60a6b149f"
      },
      "execution_count": null,
      "outputs": [
        {
          "output_type": "stream",
          "name": "stdout",
          "text": [
            "Populating the interactive namespace from numpy and matplotlib\n"
          ]
        }
      ]
    },
    {
      "cell_type": "markdown",
      "source": [
        "$\\def\\m#1{\\mathbf{#1}}$\n",
        "$\\def\\mm#1{\\boldsymbol{#1}}$\n",
        "$\\def\\mb#1{\\mathbb{#1}}$\n",
        "$\\def\\c#1{\\mathcal{#1}}$\n",
        "$\\def\\mr#1{\\mathrm{#1}}$\n",
        "$\\newenvironment{rmat}{\\left[\\begin{array}{rrrrrrrrrrrrr}}{\\end{array}\\right]}$\n",
        "$\\newcommand\\brm{\\begin{rmat}}$\n",
        "$\\newcommand\\erm{\\end{rmat}}$\n",
        "$\\newenvironment{cmat}{\\left[\\begin{array}{ccccccccc}}{\\end{array}\\right]}$\n",
        "$\\newcommand\\bcm{\\begin{cmat}}$\n",
        "$\\newcommand\\ecm{\\end{cmat}}$\n",
        "# Homework 2\n",
        "## Homework guideline\n",
        "- The deadline is Oct 5th 10:30am. Submission after the deadline will not be graded. \n",
        "\n",
        "- Submit your work(your reasoning and your code) as a SINGLE .ipynb document. Please rename the document as _HW1_YOURNAME.ipynb_ (for example, _HW1_FELIX.ipynb_). You are responsible for checking that you have correctly submitted the correct document. If your code cannot run, you may receive NO point. \n",
        "\n",
        "- Please justify all short answers with a brief explanation. If you use latex command in the markdown, **2 points** bonus will be awarded.   \n",
        "\n",
        "- You only use the Python packages included in the following cell. You are not allowed to use other advanced package or modules unless you are permitted to. \n",
        "\n",
        "- In your final submission include the plots produced by the unedited code as presented below, as well as any additional plots produced after editing the code during the course of a problem. You may find it necessary to copy/paste relevant code into additional cells to accomplish this.\n",
        "\n",
        "- Feel free to use the lecture notes and other resources. But you\n",
        "must understand, write, and hand in your own answers. In addition, you must write and submit\n",
        "your own code in the programming part of the assignment (we may run your code).\n",
        "If you copy someone else homework solution, both of you may receive ZERO point. \n",
        "\n",
        "\n",
        "- Colab is preferred. However, if you use Anaconda, please download the .mat file locally and save it to the same folder as this homework file. "
      ],
      "metadata": {
        "id": "GD5D1VcxTokW"
      }
    },
    {
      "cell_type": "markdown",
      "source": [
        "**Collaboration:** List the names of all people you collaborated with and for which question(s). This is important!"
      ],
      "metadata": {
        "id": "r-rr-PRWL8-Y"
      }
    },
    {
      "cell_type": "markdown",
      "source": [
        "\n",
        "\n",
        "---\n",
        "\n",
        "\n",
        "\n",
        "---\n",
        "\n",
        "\n",
        "# Q1: Biased or Unbiased？(10pt)\n",
        "### Q1.1 (10pt)\n",
        "Is the test error unbiased for the following program? If not, how can we fix the code so it is?"
      ],
      "metadata": {
        "id": "1QKlfStZ9dYI"
      }
    },
    {
      "cell_type": "code",
      "source": [
        "# Given dataset of 1000-by-50 feature\n",
        "# matrix X, and 1000-by-1 labels vector\n",
        "\n",
        "X = np.random.rand(1000,50)\n",
        "y = np.random.rand(1000)\n",
        "\n",
        "\n",
        "mu = np.mean(X, axis=0)\n",
        "X = X - mu\n",
        "\n",
        "#split to train and test\n",
        "idx = np.random.permutation(1000)\n",
        "TRAIN = idx[0:900]\n",
        "TEST = idx[900::]\n",
        "\n",
        "ytrain = y[TRAIN]\n",
        "Xtrain = X[TRAIN, :]\n",
        "\n",
        "# solve for argmin_w ||Xtrain*w - ytrain||_2\n",
        "w = np.linalg.solve(np.dot(Xtrain.T, Xtrain), np.dot(Xtrain.T, ytrain))\n",
        "b = np.mean(ytrain)\n",
        "\n",
        "ytest = y[TEST]\n",
        "Xtest = X[TEST, :]\n",
        "\n",
        "train_error = np.dot(np.dot(Xtrain, w)+b - ytrain,\n",
        "                np.dot(Xtrain, w)+b - ytrain ) / len(TRAIN)\n",
        "test_error = np.dot(np.dot(Xtest, w)+b - ytest,\n",
        "                np.dot(Xtest, w)+b - ytest ) / len(TEST)\n",
        "\n",
        "print('Train error = ', train_error)\n",
        "print('Test error = ', test_error)\n",
        "\n",
        "# hint: D = test set, T = train set, interset D and T must be empty"
      ],
      "metadata": {
        "id": "Fg8vojC89uYM"
      },
      "execution_count": null,
      "outputs": []
    },
    {
      "cell_type": "markdown",
      "source": [
        "\n",
        "\n",
        "---\n",
        "\n",
        "\n",
        "\n",
        "---\n",
        "\n",
        "\n",
        "# Q2: Online estimate on Covariance (20pt)\n",
        "\n",
        "In class, we introduce the online estimation on the mean and variance. Very similar algorithms can be used to compute the **covariance** with only one pass.\n",
        "Note the definition of covariance for two univariate random variables $X$ and $Y$ is \n",
        "\\begin{align}\n",
        "\\text{cov}_N(X, Y) = \\frac{\\sum_{i=1}^N (x_i-\\bar{x}_N)(y_i-\\bar{x}_N)}{N}\n",
        "\\end{align}\n",
        "where $\\bar{x}_N$ and $\\bar{y}_N$ are the empirical mean. \n",
        "\n",
        "\n",
        "\n",
        "---\n",
        "\n",
        "\n",
        "### Q2.1: Proof (10pt)\n",
        "\n",
        "Show the following identity\n",
        "\\begin{align}\n",
        "\\boxed{N\\cdot \\text{cov}_N(X, Y) = (N-1)\\cdot\\text{cov}_{N-1}(X, Y)+ \\frac{N-1}{N}(x_N-\\bar{x}_{N-1})(y_N-\\bar{y}_{N-1})}\n",
        "\\end{align}\n",
        " "
      ],
      "metadata": {
        "id": "k1JRbaGXJ7K-"
      }
    },
    {
      "cell_type": "markdown",
      "source": [
        "# Your Solution:"
      ],
      "metadata": {
        "id": "2YtW0dSC3trP"
      }
    },
    {
      "cell_type": "markdown",
      "source": [
        "\n",
        "\n",
        "---\n",
        "\n",
        "\n",
        "### Q2.2: Code (10pt)\n",
        "Based on Q3.1, please implement a stable one-pass function to calculate the covariance of $X$ and $Y$. Also verify your code with examples of your choice.  \n"
      ],
      "metadata": {
        "id": "2aiBlY7c3ygY"
      }
    },
    {
      "cell_type": "code",
      "source": [
        "# Q2.2: Your code starts here"
      ],
      "metadata": {
        "id": "hnA7j3RC5ugm"
      },
      "execution_count": null,
      "outputs": []
    },
    {
      "cell_type": "markdown",
      "source": [
        "\n",
        "\n",
        "---\n",
        "\n",
        "\n",
        "### Q2.3: (optional) Multivariate Covariance \n",
        "Extend Q3.1 and Q3.2 results to multivariate random varables $\\m{X}$ and $\\m{Y}$ to calculate covariance matrix!. Also verify it with your examples!"
      ],
      "metadata": {
        "id": "6sxi3r6h6G73"
      }
    },
    {
      "cell_type": "markdown",
      "source": [
        "# Your Solution:"
      ],
      "metadata": {
        "id": "KLtF6rDI66RE"
      }
    },
    {
      "cell_type": "code",
      "source": [
        "# Q2.3: Your code starts here"
      ],
      "metadata": {
        "id": "6YnkMTxG69gX"
      },
      "execution_count": null,
      "outputs": []
    },
    {
      "cell_type": "markdown",
      "source": [
        "\n",
        "\n",
        "---\n",
        "\n",
        "\n",
        "\n",
        "---\n",
        "\n",
        "\n",
        "# Q3: Linear Regression (30pt)\n",
        "### Q3.1: Derivative (5pt)\n",
        "**Show** the gradient of loss function is  $\\nabla\\text{RSS}(\\mathbf{w})= 2(\\mathbf{X}^\\top\\mathbf{X} \\mathbf{w}-\\mathbf{X}^\\top\\mathbf{y}) $  "
      ],
      "metadata": {
        "id": "DUktBzUFt1le"
      }
    },
    {
      "cell_type": "markdown",
      "source": [
        "# Your Solution:"
      ],
      "metadata": {
        "id": "-ffRJxQzdHFE"
      }
    },
    {
      "cell_type": "markdown",
      "source": [
        "\n",
        "\n",
        "---\n",
        "\n",
        "### Q3.2: MLE for $\\sigma^2$ (5pt)\n",
        "Show the MLE for the variance of the residue is \n",
        "\\begin{align}\n",
        "\\hat{\\sigma}^2_{\\text{MLE}}= \\frac{1}{N}\\sum_{n=1}^N\\left(y^{(n)}- \\m{x}^{(n)}\\hat{\\m{w}}\\right)^2\n",
        "\\end{align}\n",
        "\n"
      ],
      "metadata": {
        "id": "zbMApk3wdId2"
      }
    },
    {
      "cell_type": "markdown",
      "source": [
        "# Your Solution:"
      ],
      "metadata": {
        "id": "cHPsAp6jnGxf"
      }
    },
    {
      "cell_type": "markdown",
      "source": [
        "\n",
        "\n",
        "---\n",
        "\n",
        "\n",
        "### Q3.3 Prostate Cancer (10pt)\n",
        "**Background**: The data for this example come from a study by Stamey et al. (1989) that examined the correlation between the level of prostate specific antigen (PSA) and a number of clinical measures, in 97 men who were about to receive a radical prostatectomy.\n",
        "The goal is to predict the log of PSA (lpsa) from a number of measurements.\n",
        "\n",
        "Variables:\n",
        "\n",
        "|         |                                                       |\n",
        "|---------|-------------------------------------------------------|\n",
        "|lpsa     |log prostate specific antigen                          |\n",
        "|lcavol   |log cancer volume                                      |\n",
        "|lweight  |log prostate weight                                    |\n",
        "|age      |age                                                    |\n",
        "|lbph     |log of benign prostatic hyperplasia amount             |\n",
        "|svi      |seminal vesicle invasion                               |\n",
        "|lcp      |log of capsular penetration                            |\n",
        "|gleason  |Gleason score                                          |\n",
        "|pgg45    |percent of Gleason scores 4 or 5                       |\n",
        "\n",
        "\n",
        "The following code loads the the prostate cancer data set. You can see there are 8 features and 97 cases. We divide the dataset into two parts: the 67 cases as training set (in Xtrain and ytrain) and the 30 cases as test set (in Xtest and ytest). "
      ],
      "metadata": {
        "id": "09xFR-JxnOfc"
      }
    },
    {
      "cell_type": "code",
      "source": [
        "from scipy.io import loadmat\n",
        "\n",
        "!wget https://github.com/yexf308/MAT592/blob/main/homework/HW1/prostateStnd.mat?raw=true -O prostateStnd.mat\n",
        "data = loadmat('prostateStnd.mat')\n",
        "names = list(map(lambda x: x[0], data['names'][0]))\n",
        "Xtrain, ytrain = data['Xtrain'], data['ytrain']\n",
        "Xtest, ytest   = data['Xtest'], data['ytest']\n",
        "print(names)\n",
        "print(Xtrain.shape)\n",
        "print(Xtest.shape)\n"
      ],
      "metadata": {
        "id": "4q8FMCWypABb"
      },
      "execution_count": null,
      "outputs": []
    },
    {
      "cell_type": "markdown",
      "source": [
        "The **Coefficient of Determination** is defined as follows,\n",
        "$$ R^2= 1- \\frac{\\sum_{n=1}^N(\\hat{y}^{(n)}-y^{(n)})^2}{\\sum_{n=1}^N(\\bar{y}-y^{(n)})^2}$$\n",
        "where $\\bar y = \\frac{1}{N}\\sum_{n=1}^N y^{(n)}$. \n",
        "\n",
        "- Please write a function to calculate coefficient of determination. \n",
        "\n",
        "- Please perform the linear regression with least squares and caclulate coefficient of determination. \n",
        "\n",
        "- Use this model to calculate the MSE(mean squared error) on the test set. Do you think we have the overfitting issue?"
      ],
      "metadata": {
        "id": "6ZHX89vIpVoJ"
      }
    },
    {
      "cell_type": "code",
      "source": [
        "# Q3.3: Your code starts here"
      ],
      "metadata": {
        "id": "Pwmmsr391zHJ"
      },
      "execution_count": null,
      "outputs": []
    },
    {
      "cell_type": "markdown",
      "source": [
        "\n",
        "\n",
        "---\n",
        "\n",
        "\n",
        "### Q3.4 Ridge Regression (10pt)\n",
        "We will use the prostate cancer dataset again.\n",
        "- Please perform the Ridge regression with the hold out. Use the MSE on the test data to find the optimal penalty parameter $\\lambda^*$. \n",
        "\n",
        "- Calculate coefficient of determination. Compare with the least square, do you have any improvement? \n",
        "\n",
        "- Plot *regularization path*, the coefficients $w_i$ as a function of the parameter $1/\\lambda$.\n",
        "\n"
      ],
      "metadata": {
        "id": "fuzijb7Z9yNb"
      }
    },
    {
      "cell_type": "code",
      "source": [
        "# Q3.4: Your code starts here"
      ],
      "metadata": {
        "id": "J_4qJ6p-D1U4"
      },
      "execution_count": null,
      "outputs": []
    },
    {
      "cell_type": "markdown",
      "source": [
        "\n",
        "\n",
        "---\n",
        "\n",
        "\n",
        "### Q3.5 (optional)\n",
        "**Show** in linear regression, the coefficient of determination $0\\le R^2\\le 1$."
      ],
      "metadata": {
        "id": "Qfg9dv2zE37K"
      }
    },
    {
      "cell_type": "markdown",
      "source": [
        "# Your Solution:"
      ],
      "metadata": {
        "id": "MCT0eWFVGZ5w"
      }
    },
    {
      "cell_type": "markdown",
      "source": [
        "\n",
        "\n",
        "---\n",
        "\n",
        "---\n",
        "\n",
        "# Q4: Ridge Regression on MNIST dataset (40pt)\n",
        "We will implement the Ridge Regression for the MNIST data set. The task\n",
        "is to classify handwritten images of numbers between 0 to 9.\n",
        "\n",
        "Each example has features $\\m{x}^{(i)}\\in \\mb{R}^d$ where $d=28\\times 28=784$ and label $y^{(i)}\\in \\{0,\\dots, 9\\}$. Here we will ignore the intercept. We wish to learn a predictor $\\hat f$ that takes as input a vector in $\\mb{R}^d$ and output an index in $\\{0, \\dots, 9\\}$. We define our training and testing classification error on a predictor $f$ as \n",
        "\\begin{align}\n",
        "\\ell_{\\text{train}}(f) = \\frac{1}{|\\c{D}_{\\text{train}}|}\\sum_{(\\m{x}^{(i)}, y^{(i)})\\in\\c{D}_{\\text{train}}} \\mb{1}_{f(\\m{x}^{(i)})\\ne y^{(i)}} \\\\\n",
        "\\ell_{\\text{test}}(f) = \\frac{1}{|\\c{D}_{\\text{test}}|}\\sum_{(\\m{x}^{(i)}, y^{(i)})\\in\\c{D}_{\\text{test}}} \\mb{1}_{f(\\m{x}^{(i)})\\ne y^{(i)}} \n",
        "\\end{align}\n"
      ],
      "metadata": {
        "id": "Fezo1AmSJtgE"
      }
    },
    {
      "cell_type": "code",
      "source": [
        "from keras.datasets import mnist\n",
        "(train_X, train_y), (test_X, test_y) = mnist.load_data()\n",
        "Xtr                   = train_X[0:8000, :]\n",
        "Ytr                   = train_y[0:8000]\n",
        "Xte                   = test_X[0:2000,:]\n",
        "Yte                   = test_y[0:2000]\n",
        "\n",
        "print('Xtr: ' + str(Xtr.shape))\n",
        "print('Ytr: ' + str(Ytr.shape))\n",
        "print('Xte: '  + str(Xte.shape))\n",
        "print('Yte: '  + str(Yte.shape))"
      ],
      "metadata": {
        "colab": {
          "base_uri": "https://localhost:8080/"
        },
        "id": "6kbT6OJKGd-X",
        "outputId": "5dd4f96e-9612-4297-e424-e62b10b014cd"
      },
      "execution_count": null,
      "outputs": [
        {
          "output_type": "stream",
          "name": "stdout",
          "text": [
            "Xtr: (8000, 28, 28)\n",
            "Ytr: (8000,)\n",
            "Xte: (2000, 28, 28)\n",
            "Yte: (2000,)\n"
          ]
        }
      ]
    },
    {
      "cell_type": "code",
      "source": [
        "fig, axs = plt.subplots(3, 3,figsize=(5,5))\n",
        "axs = axs.ravel()\n",
        "\n",
        "for i in range(9):\n",
        "    axs[i].imshow(Xtr[i], cmap=pyplot.get_cmap('gray'))"
      ],
      "metadata": {
        "colab": {
          "base_uri": "https://localhost:8080/",
          "height": 322
        },
        "id": "W4tBJJoaHJ5Z",
        "outputId": "33c6d601-b01b-4244-90e6-79616fa638df"
      },
      "execution_count": null,
      "outputs": [
        {
          "output_type": "display_data",
          "data": {
            "text/plain": [
              "<Figure size 360x360 with 9 Axes>"
            ],
            "image/png": "[encoded data removed]"
          },
          "metadata": {
            "needs_background": "light"
          }
        }
      ]
    },
    {
      "cell_type": "markdown",
      "source": [
        "\n",
        "\n",
        "---\n",
        "\n",
        "\n",
        "### Q4.1 Prepare data (5pt)\n",
        "- Prepare your training matrix $\\m{X}$.\n",
        "\n",
        "- We will use one-hot encoding of the labels, that is the original label $y\\in\\{0, \\dots, 9\\}$ is mapped to the standard basis vector $e_y$ where $e_y$ is a vector of all zeros except for a 1 in the $z$th position. Then label one-hot encoded in $\\m{y}\\in \\mb{R}^{1\\times k}$, $k=10$. We can stack all $\\m{y}^{(i)}$ to be a matrix $\\m{Y}\\in \\mb{R}^{N\\times k}$. Prepare your matrix $\\m{Y}$.\n",
        "\n",
        "- Don't forget to do the same preparation for the testing data.\n",
        "\n",
        "\n",
        "\n"
      ],
      "metadata": {
        "id": "Iek8FjNVLHdf"
      }
    },
    {
      "cell_type": "code",
      "source": [
        "# Q4.1: Your code starts here"
      ],
      "metadata": {
        "id": "CWgR1w3GOCS6"
      },
      "execution_count": null,
      "outputs": []
    },
    {
      "cell_type": "markdown",
      "source": [
        "\n",
        "\n",
        "---\n",
        "\n",
        "\n",
        "### Q4.2 Ridge regression (10pt)\n",
        "We will choose a linear classifier to minimize the following objective\n",
        "\\begin{align}\n",
        "\\hat{\\m{W}}=\\arg\\min_{\\m{W}\\in \\mb{R}^{d\\times k}}\\|\\m{X}\\m{W}-\\m{Y}\\|_2^2 +\\lambda \\|\\m{W}\\|_F^2\n",
        "\\end{align}\n",
        "where $\\|\\m{W}\\|_F$ is the Frobenius norm of $\\m{W}$, $\\|\\m{W}\\|_F^2 = \\sum_{i=1}^d\\sum_{j=1}^k \\m{W}_{ij}^2$. To predict a data point $\\m{x}^{(i)}$, the predicted $\\hat{\\m{y}}^{(i)}= \\m{x}^{(i)}\\hat{\\m{W}}$ and the predicted digit is the correspoding index has the largest value, \n",
        "\\begin{align}\n",
        "\\text{digit} = \\arg\\max_{j=0,\\dots, 9} \\hat{\\m{y}}^{(i)}_j\n",
        "\\end{align}\n",
        "\n",
        "**Show** it has analytical solution, \n",
        "\\begin{align}\n",
        "\\hat{\\m{W}}= (\\m{X}^\\top \\m{X}+\\lambda \\m{I})^{-1}\\m{X}^\\top\\m{Y} \n",
        "\\end{align}\n",
        "Hint: If we just take $i$-th column of $\\m{Y}$, it will recover the ridge regression discussed in the lecture. \n",
        "\n",
        "\n"
      ],
      "metadata": {
        "id": "odDr4TgPOHDt"
      }
    },
    {
      "cell_type": "markdown",
      "source": [
        "# Your solution:"
      ],
      "metadata": {
        "id": "3SMyaMmnS-gb"
      }
    },
    {
      "cell_type": "markdown",
      "source": [
        "\n",
        "\n",
        "---\n",
        "\n",
        "\n",
        "### Q4.3 Implementation (10pt)\n",
        "- Code a function `train` that takes as input $\\m{X}\\in\\mb{R}^{N\\times d}, \\m{Y}\\in \\mb{R}^{N\\times k}, \\lambda>0$ and returns $\\hat{\\m{W}}\\in \\mb{R}^{d\\times k}$. \n",
        "\n",
        "- Code a function `predict` that takes as input $\\m{W}\\in \\mb{R}^{d\\times k}$, $\\tilde{\\m{X}}\\in\\mb{R}^{M\\times d} $ and returns an $M$-length vector with the $i$th entry equal to $\\arg\\max_{j=0,\\dots, 9} \\tilde{\\m{y}}^{(i)}_j$, where  $\\tilde{\\m{y}}^{(i)}$ is the predicted value from the data point $\\tilde{\\m{x}}^{(i)}$, which is $i$th row of $\\tilde{\\m{X}}$. \n",
        "\n",
        "- Train $\\hat{\\m{W}}$ on MNIST training data with $\\lambda=10^{-4}$ and make label predictions on the test data. What is the training and testing error? As a remark, it should be around 15\\%. "
      ],
      "metadata": {
        "id": "3X-GEg6LTRhp"
      }
    },
    {
      "cell_type": "code",
      "source": [
        "# your code starts here\n",
        "def train(X, y, lambda): \n",
        "    \"\"\"Train function for the Ridge Regression problem.\n",
        "    Should use observations (`X`), targets (`y`) and regularization parameter (`lambda`)\n",
        "    to train a weight matrix $$\\\\hat{W}$$.\n",
        "\n",
        "\n",
        "    Args:\n",
        "        X (np.ndarray): observations represented as `(n, d)` matrix.\n",
        "            n is number of observations, d is number of features.\n",
        "        y (np.ndarray): targets represented as `(n, k)` matrix.\n",
        "            n is number of observations, k is number of classes.\n",
        "        lambda (float): parameter for ridge regularization.\n",
        "\n",
        "    Raises:\n",
        "        NotImplementedError: When problem is not attempted.\n",
        "\n",
        "    Returns:\n",
        "        np.ndarray: weight matrix of shape `(d, k)`\n",
        "            which minimizes Regularized Squared Error on `x` and `y` with hyperparameter `_lambda`.\n",
        "    \"\"\"\n",
        "    raise NotImplementedError(\"Your Code Goes Here\")"
      ],
      "metadata": {
        "id": "sm36pYt-W3LU"
      },
      "execution_count": null,
      "outputs": []
    },
    {
      "cell_type": "code",
      "source": [
        "def predict(X, w):\n",
        "    \"\"\"Train function for the Ridge Regression problem.\n",
        "    Should use observations (`X`), and weight matrix (`w`) to generate predicated class for each observation in X.\n",
        "\n",
        "    Args:\n",
        "        X (np.ndarray): observations represented as `(n, d)` matrix.\n",
        "            n is number of observations, d is number of features.\n",
        "        w (np.ndarray): weights represented as `(d, k)` matrix.\n",
        "            d is number of features, k is number of classes.\n",
        "\n",
        "    Raises:\n",
        "        NotImplementedError: When problem is not attempted.\n",
        "\n",
        "    Returns:\n",
        "        np.ndarray: predictions matrix of shape `(n,)` or `(n, 1)`.\n",
        "    \"\"\"\n",
        "    raise NotImplementedError(\"Your Code Goes Here\")"
      ],
      "metadata": {
        "id": "arnWghF0M9IS"
      },
      "execution_count": null,
      "outputs": []
    },
    {
      "cell_type": "code",
      "source": [
        "def one_hot(y, num_classes):\n",
        "    \"\"\"One hot encode a vector `y`.\n",
        "    One hot encoding takes an array of integers and coverts them into binary format.\n",
        "    Each number i is converted into a vector of zeros (of size num_classes), with exception of i^th element which is 1.\n",
        "\n",
        "    Args:\n",
        "        y (np.ndarray): An array of integers [0, num_classes), of shape (n,)\n",
        "        num_classes (int): Number of classes in y.\n",
        "\n",
        "    Returns:\n",
        "        np.ndarray: Array of shape (n, num_classes).\n",
        "        One-hot representation of y (see below for example).\n",
        "\n",
        "    Example:\n",
        "        ```python\n",
        "        > one_hot([2, 3, 1, 0], 4)\n",
        "        [\n",
        "            [0, 0, 1, 0],\n",
        "            [0, 0, 0, 1],\n",
        "            [0, 1, 0, 0],\n",
        "            [1, 0, 0, 0],\n",
        "        ]\n",
        "        ```\n",
        "    \"\"\"\n",
        "    raise NotImplementedError(\"Your Code Goes Here\")\n"
      ],
      "metadata": {
        "id": "AG9MOxOMNBCz"
      },
      "execution_count": null,
      "outputs": []
    },
    {
      "cell_type": "code",
      "source": [
        "# your main function goes here."
      ],
      "metadata": {
        "id": "25WaFC14NFSN"
      },
      "execution_count": null,
      "outputs": []
    },
    {
      "cell_type": "markdown",
      "source": [
        "\n",
        "\n",
        "---\n",
        "\n",
        "\n",
        "### Q4.4 Improvement (15pt)\n",
        "We just fit a classifier that was linear in the pixel intensities to the MNIST data. For\n",
        "classification of digits the raw pixel values are very, very bad features: it’s pretty hard to separate\n",
        "digits with linear functions in pixel space. The standard solution to this is to come up with some\n",
        "transform $h: \\mb{R}^d \\rightarrow \\mb{R}^p$ p of the original pixel values such that the transformed points are (more easily)\n",
        "linearly separable. This idea is very similar as SVM. In this problem, you’ll use the feature transform: \n",
        "\\begin{align}\n",
        "h(\\m{x}) = \\cos(\\m{G}\\m{x}+\\m{b})\n",
        "\\end{align}\n",
        "where $\\m{G}\\in \\mb{R}^{p\\times d}$ and $\\m{b}\\in \\mb{R}^p$ and the cosine function is applied elementwise. We will choose $\\m{G}$ to be a random matrix, with each entry sampled i.i.d. from a Gaussian distribution with mean $\\mu=0$ and $\\sigma^2=0.1$. And $\\m{b}$ is a random vector sampled i.i.d. from the uniform distribution on $[0,2\\pi]$. \n",
        "\n",
        "The\n",
        "big question is: how do we choose the dimension $p$? **cross-validation!!**\n",
        "\n",
        "- Randomly partition your training set into proportions 80/20 to use as a new training set and validation\n",
        "set, respectively. \n",
        "\n",
        "-  Using the `train` function you wrote above, train a $\\hat{\\m{W}}^p$ for different values of $p$.\n",
        "\n",
        "- plot the  training error and validation error on a single plot with $p$ on the $x$-axis. \n",
        "\n",
        "Be\n",
        "careful, your computer may run out of memory and slow to a crawl if $p$ is too large. As a remark, $p\\le 6000$ should fit to colab. If you have trouble, you can start with $p=1000$. \n",
        "\n",
        "You can use the same value of $\\lambda$, which is $\\lambda=10^{-4}$. But feel free to study the\n",
        "effect of using different values of $\\lambda$ and $\\sigma^2$. \n",
        "\n",
        "Do you improve your training/testing error? "
      ],
      "metadata": {
        "id": "TdHSc5NLXGKc"
      }
    },
    {
      "cell_type": "code",
      "source": [
        "# Q4.4: Your code starts here"
      ],
      "metadata": {
        "id": "ahCBbMpCtOLM"
      },
      "execution_count": null,
      "outputs": []
    },
    {
      "cell_type": "markdown",
      "source": [
        "# Your solution:"
      ],
      "metadata": {
        "id": "EeCG6miutQ-B"
      }
    },
    {
      "cell_type": "markdown",
      "source": [
        "\n",
        "\n",
        "---\n",
        "\n",
        "\n",
        "### Q4.5 Confidence Interval (optional)\n",
        "Instead of reporting just the test error, which is an unbiased estimate of the true error, we\n",
        "would like to report a confidence interval around the test error that contains the true error.\n",
        "\n",
        "**Lemma**: (Hoeffding’s inequality) Fix $\\delta\\in(0,1)$, if for all $i=1,\\dots, m$ we have that $X_i$ are i.i.d. random variables with $X_i\\in [a,b]$ and $\\mathbb{E}[X_i]=\\mu$ then \n",
        "\\begin{align}\n",
        "\\mathbb{P}\\left(\\left|\\left(\\frac{1}{m}\\sum_{i=1}^m X_i\\right)-\\mu\\right|\\ge \\sqrt{\\frac{(b-a)^2\\log(2/\\delta)}{2m}}\\right)\\le \\delta \n",
        "\\end{align}\n",
        "\n",
        "We will use the above equation to construct a confidence interval around the true classification error $\\mathcal{E}(\\hat f)= \\mb{E}_{\\text{test}}[\\hat{\\c{E}}_{\\text{test}}(\\hat f)]$ since the test error $\\hat{\\c{E}}_{\\text{test}}(\\hat f)$ is just the average of indicator variables taking values in $\\{0,1\\}$ corresponding to the $i$-th test example being classified correctly or not, respectively, where an error happens with probability $\\mathcal{E}(\\hat f)= \\mb{E}_{\\text{test}}[\\hat{\\c{E}}_{\\text{test}}(\\hat f)]$ the true classification error. \n",
        "\n",
        "Let $\\hat p$ be the value of $p$ that approximately minimizes the validation error on the plot you just made\n",
        "and use $\\hat f(x) = \\arg\\max_j x^\\top \\hat{\\m{W}}^{\\hat p}e_j$ to compute the classification test error $\\hat{\\c{E}}_{\\text{test}}(\\hat f)$. Use Hoeffding’s\n",
        "inequality, to compute a confidence interval of $\\hat{\\c{E}}_{\\text{test}}(\\hat f)$ that contains the true classification error $\\mb{E}_{\\text{test}}[\\hat{\\c{E}}_{\\text{test}}(\\hat f)]$ with probability at least 0.95 (i.e., $\\delta=0.05$).   "
      ],
      "metadata": {
        "id": "tzlR0hQlkqgd"
      }
    },
    {
      "cell_type": "markdown",
      "source": [
        "# Your solution:"
      ],
      "metadata": {
        "id": "wfFo8uTCpsTD"
      }
    }
  ]
}