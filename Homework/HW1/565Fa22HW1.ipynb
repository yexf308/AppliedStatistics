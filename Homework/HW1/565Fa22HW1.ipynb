{
  "nbformat": 4,
  "nbformat_minor": 0,
  "metadata": {
    "colab": {
      "name": "565Fa22HW1.ipynb",
      "provenance": [],
      "collapsed_sections": [],
      "authorship_tag": "ABX9TyOsvcckUhQmPR4wIUci+nMC",
      "include_colab_link": true
    },
    "kernelspec": {
      "name": "python3",
      "display_name": "Python 3"
    },
    "language_info": {
      "name": "python"
    }
  },
  "cells": [
    {
      "cell_type": "markdown",
      "metadata": {
        "id": "view-in-github",
        "colab_type": "text"
      },
      "source": [
        "<a href=\"https://colab.research.google.com/github/yexf308/AppliedStatistics/blob/main/Homework/HW1/565Fa22HW1.ipynb\" target=\"_parent\"><img src=\"https://colab.research.google.com/assets/colab-badge.svg\" alt=\"Open In Colab\"/></a>"
      ]
    },
    {
      "cell_type": "code",
      "execution_count": null,
      "metadata": {
        "id": "Bb7uDt_S7tZT",
        "colab": {
          "base_uri": "https://localhost:8080/"
        },
        "outputId": "30660ee9-8158-4b26-d93d-72104d9a52bc"
      },
      "outputs": [
        {
          "output_type": "stream",
          "name": "stdout",
          "text": [
            "Populating the interactive namespace from numpy and matplotlib\n"
          ]
        }
      ],
      "source": [
        "%pylab inline "
      ]
    },
    {
      "cell_type": "markdown",
      "source": [
        "$\\def\\m#1{\\mathbf{#1}}$\n",
        "$\\def\\mm#1{\\boldsymbol{#1}}$\n",
        "$\\def\\mb#1{\\mathbb{#1}}$\n",
        "$\\def\\c#1{\\mathcal{#1}}$\n",
        "$\\def\\mr#1{\\mathrm{#1}}$\n",
        "# Homework 1\n",
        "## Homework guideline\n",
        "- The deadline is Sep 14th 10:30am. Submission after the deadline will not be graded. \n",
        "\n",
        "- Submit your work(your reasoning and your code) as a SINGLE .ipynb document. Please rename the document as _HW1_YOURNAME.ipynb_ (for example, _HW1_FELIX.ipynb_). You are responsible for checking that you have correctly submitted the correct document. If your code cannot run, you may receive NO point. \n",
        "\n",
        "- Please justify all short answers with a brief explanation. If you use latex command in the markdown, **2 points** bonus will be awarded.   \n",
        "\n",
        "- You only use the Python packages included in the following cell. You are not allowed to use other advanced package or modules unless you are permitted to. \n",
        "\n",
        "- In your final submission include the plots produced by the unedited code as presented below, as well as any additional plots produced after editing the code during the course of a problem. You may find it necessary to copy/paste relevant code into additional cells to accomplish this.\n",
        "\n",
        "- Feel free to use the lecture notes and other resources. But you\n",
        "must understand, write, and hand in your own answers. In addition, you must write and submit\n",
        "your own code in the programming part of the assignment (we may run your code).\n",
        "If you copy someone else homework solution, both of you may receive ZERO point. \n",
        "\n",
        "\n",
        "- Colab is preferred. However, if you use Anaconda, please download the .mat file locally and save it to the same folder as this homework file. "
      ],
      "metadata": {
        "id": "EM9h-erM7268"
      }
    },
    {
      "cell_type": "markdown",
      "source": [
        "**Collaboration:** List the names of all people you collaborated with and for which question(s). This is important!"
      ],
      "metadata": {
        "id": "gK913Vgr8Nx-"
      }
    },
    {
      "cell_type": "markdown",
      "source": [
        "\n",
        "\n",
        "---\n",
        "\n",
        "\n",
        "\n",
        "---\n",
        "\n",
        "\n",
        "# Q1: Variance, Covariance and Correlation for Univariate Random Variables (30pt)\n",
        "## Q1.1 (5pt)\n",
        "If we have a set of $N$ independent random variables, $X_1, X_2, \\dots, X_N$, with $\\mb{E}[X_i] =\\mu_i$ and $\\mb{V}[X_i]=\\sigma_i^2$. Please calculate the variance of their product, $\\mb{V}[\\Pi_{n=1}^NX_i]$ in terms of $\\mu_i$ and $\\sigma_i$. "
      ],
      "metadata": {
        "id": "CsuNi-k58PKU"
      }
    },
    {
      "cell_type": "markdown",
      "source": [
        "## Your Solution:"
      ],
      "metadata": {
        "id": "IXeKQiua9yj9"
      }
    },
    {
      "cell_type": "markdown",
      "source": [
        "\n",
        "\n",
        "---\n",
        "\n",
        "\n",
        "# Q1.2 (5pt)\n",
        " Prove that $-1\\le \\rho(X, Y)\\le 1$ for two univariate random variables $X$ and $Y$. \n",
        "\n"
      ],
      "metadata": {
        "id": "wnU-Pe-4mp2T"
      }
    },
    {
      "cell_type": "markdown",
      "source": [
        "## Your Solution:"
      ],
      "metadata": {
        "id": "fyF1zsLFnHgN"
      }
    },
    {
      "cell_type": "markdown",
      "source": [
        "\n",
        "\n",
        "---\n",
        "\n",
        "## Q1.3 (5pt)\n",
        "Show that if $Y=aX+b$ for some $a>0$ and $b$, then $\\rho(X,Y)=1$.\n"
      ],
      "metadata": {
        "id": "01coM_ERndU2"
      }
    },
    {
      "cell_type": "markdown",
      "source": [
        "# Your Solution:"
      ],
      "metadata": {
        "id": "-L1AOiphn7fj"
      }
    },
    {
      "cell_type": "markdown",
      "source": [
        "\n",
        "\n",
        "---\n",
        "\n",
        "\n",
        "## Q1.4 (5pt)\n",
        "\n",
        "Let $X\\sim U_{(-1,1)}$ and $Y=X^2$. Clearly $Y$ is dependent on $X$. In fact, $Y$ is uniquely determined by $X$. Show that $\\rho(X,Y)=0$. \n",
        "\n",
        "This gives an example that uncorrelated does not imply independent. \n"
      ],
      "metadata": {
        "id": "a3bF8iM6oKWX"
      }
    },
    {
      "cell_type": "markdown",
      "source": [
        "# Your Solution:"
      ],
      "metadata": {
        "id": "q7HkDudLpQ9a"
      }
    },
    {
      "cell_type": "markdown",
      "source": [
        "\n",
        "\n",
        "---\n",
        "\n",
        "\n",
        "## Q1.5 (10pt)\n",
        "Let $X\\sim \\c{N}(0,1)$ and $Y=WX$, where $p(W=-1)=p(W=1)=0.5$. It is clear that $X$ and $Y$ are not independent, since $Y$ is a function of $X$. Show $Y\\sim \\c{N}(0,1)$ and $\\mr{cov}(X,Y)=0$. \n",
        "\n",
        "This gives an example that $X$ and $Y$ are uncoorelated but dependent, even though they are Gaussian. \n",
        " \n",
        "**Hint:** You may use the rule of iterated expectation $\\mb{E}[XY] = \\mb{E}[\\mb{E}[XY|W]]$. "
      ],
      "metadata": {
        "id": "cCLjjXaG1BQO"
      }
    },
    {
      "cell_type": "markdown",
      "source": [
        "# Your Solution:"
      ],
      "metadata": {
        "id": "gl2DTiZM3CwL"
      }
    },
    {
      "cell_type": "markdown",
      "source": [
        "\n",
        "\n",
        "---\n",
        "\n",
        "\n",
        "\n",
        "---\n",
        "\n",
        "\n",
        "# Q2: Bayes rule (10pt)\n",
        "After your yearly checkup, the doctor has bad news and good news. The bad news is that you tested positive for a serious disease, and that the test is $99\\%$ accurate (i.e., the probability of testing positive given that you have the disease is 0.99, as is the probability of testing negative given that you don’t have the disease). The good news is that this is a rare disease, striking only one in 10,000 people. What are the chances that you actually have the disease? (Show your calculations as well as giving the final result.)"
      ],
      "metadata": {
        "id": "FNpWAMUp-RQx"
      }
    },
    {
      "cell_type": "markdown",
      "source": [
        "## Your Solution:"
      ],
      "metadata": {
        "id": "zyvpEs79-fTe"
      }
    },
    {
      "cell_type": "markdown",
      "source": [
        "\n",
        "\n",
        "---\n",
        "\n",
        "\n",
        "\n",
        "---\n",
        "\n",
        "\n",
        "# Q3: Univariate Gaussian distribution (25pt)\n",
        "Consider the Gaussian random variables, $X\\sim \\c{N}(\\mu, \\sigma^2)$, in class, we obtained i.i.d. samples of size $N$, $\\{x_n\\}_{n=1}^N$, and showed the MLE for parameters $\\mu, \\sigma^2$ are $\\hat\\mu = \\frac{1}{N}\\sum_{n=1}^N x_n$ and $\\hat{\\sigma}^2 = \\frac{1}{N}\\sum_{n=1}^N(x_n-\\hat\\mu)^2$. Note $\\hat\\mu$ and $\\hat\\sigma^2$ are also random variables, we can ask the following questions.\n",
        "\n",
        "\n",
        "\n",
        "---\n",
        "\n",
        "\n",
        "## Q3.1: Expectation of $\\hat\\mu$ (5pt)\n",
        "Show $\\mb{E}[\\hat\\mu]=\\mu$. That means MLE for Gaussian mean $\\mu$ is a unbiased estimator. \n"
      ],
      "metadata": {
        "id": "v2n7ronLA97-"
      }
    },
    {
      "cell_type": "markdown",
      "source": [
        "## Your Solution:"
      ],
      "metadata": {
        "id": "VRREFykWbnla"
      }
    },
    {
      "cell_type": "markdown",
      "source": [
        "\n",
        "\n",
        "---\n",
        "\n",
        "\n",
        "## Q3.2: Expectation of $\\hat \\sigma^2$ (10pt)\n",
        "Show $\\mb{E}[\\hat\\sigma^2]=\\frac{N-1}{N}\\sigma^2$. That means MLE for Gaussian variance $\\sigma^2$ is a biased estimator. "
      ],
      "metadata": {
        "id": "kjf39ju4boxb"
      }
    },
    {
      "cell_type": "markdown",
      "source": [
        "## Your Solution:"
      ],
      "metadata": {
        "id": "S-EfIt2OcYlE"
      }
    },
    {
      "cell_type": "markdown",
      "source": [
        "\n",
        "\n",
        "---\n",
        "\n",
        "\n",
        "## Q3.3 Design (10pt)\n",
        "Design an experiment to verify $\\hat\\mu$ is a unbiased estimator and $\\hat\\sigma^2$ is a biased estimator. \n",
        "**Hint:** choose a small $N$."
      ],
      "metadata": {
        "id": "feoemOZLcgV7"
      }
    },
    {
      "cell_type": "code",
      "source": [
        "# Q3.3 your code starts here"
      ],
      "metadata": {
        "id": "d0eUhUR5IB67"
      },
      "execution_count": null,
      "outputs": []
    },
    {
      "cell_type": "markdown",
      "source": [
        "## Your Solution:"
      ],
      "metadata": {
        "id": "gA1wJz7PItzt"
      }
    },
    {
      "cell_type": "markdown",
      "source": [
        "\n",
        "\n",
        "---\n",
        "## Q3.4 (Optional) Hypothesis testing\n",
        "What is the null/alternative hypothesis in Q3.3? Based on your results for both parameters, can you reject the null hypothesis with 5\\% significant level? \n"
      ],
      "metadata": {
        "id": "oC1SYedJI-N9"
      }
    },
    {
      "cell_type": "code",
      "source": [
        "# Q3.4 your code starts here"
      ],
      "metadata": {
        "id": "XCCFQCjNlPX3"
      },
      "execution_count": null,
      "outputs": []
    },
    {
      "cell_type": "markdown",
      "source": [
        "## Your Solution:"
      ],
      "metadata": {
        "id": "rAv6ZRcwKiIe"
      }
    },
    {
      "cell_type": "markdown",
      "source": [
        "# Q4: BIC for Gaussians (20pt)\n",
        "The Bayesian information criterion (BIC) is a penalized log-likelihood function that can be used for model\n",
        "selection. It is defined as \n",
        "\\begin{align}\n",
        "\\mr{BIC} = \\log p(\\c{D}|\\hat \\theta)-\\frac{d}{2}\\log(N)\n",
        "\\end{align}\n",
        "where $d$ is the number of free parameters in the model and $N$ is the number of samples. In this question,\n",
        "we will see how to use this to choose between a full covariance Gaussian and a Gaussian with a diagonal covariance. Obviously a full covariance Gaussian has higher likelihood, but it may not be “worth” the extra\n",
        "parameters if the improvement over a diagonal covariance matrix is too small. So we use the BIC score to choose the model. \n",
        "\n",
        "We can write\n",
        "\\begin{align}\n",
        "\\log p(\\c{D}|\\hat\\Sigma, \\hat\\mu) &= -\\frac{N}{2}\\mr{tr}(\\hat\\Sigma^{-1}\\hat S)-\\frac{N}{2}\\log(|\\hat\\Sigma|)\\\\\n",
        "\\hat{S}&=\\frac{1}{N}\\sum_{i=1}^N (\\m{x}^{(i)} - \\m{\\bar x})(\\m{x}^{(i)} - \\m{\\bar x})^\\top \n",
        "\\end{align}\n",
        "where $\\hat S$ is the empirical covariance, the trace of a matrix is the sum of its diagonals, and we\n",
        "have used the trace trick. \n",
        "\n"
      ],
      "metadata": {
        "id": "r3lz42EPiW5-"
      }
    },
    {
      "cell_type": "markdown",
      "source": [
        "\n",
        "\n",
        "---\n",
        "\n",
        "\n",
        "## Q4.1 Full covariance (5pt)\n",
        "Derive the BIC score for a Gaussian in $D$ dimensions with full covariance matrix. Simplify your answer as\n",
        "much as possible, exploiting the form of the MLE. Be sure to specify the number of free parameters $d$."
      ],
      "metadata": {
        "id": "INh5c1nhikyu"
      }
    },
    {
      "cell_type": "markdown",
      "source": [
        "# Your Solution:"
      ],
      "metadata": {
        "id": "_vbeHpY_i1Ax"
      }
    },
    {
      "cell_type": "markdown",
      "source": [
        "\n",
        "\n",
        "---\n",
        "\n",
        "\n",
        "## Q4.2 Diagonal covariance (5pt)\n",
        "Derive the BIC score for a Gaussian in $D$ dimensions with a diagonal covariance matrix. Be sure to specify\n",
        "the number of free parameters $d$. \n",
        "\n",
        "**Hint:** for the digaonal case, the ML estimate of $\\Sigma$ is the same as $\\hat \\Sigma_{\\mr{ML}}$ except the off-diagonal terms are zero. Justify it!"
      ],
      "metadata": {
        "id": "PO3vJc0Di7A4"
      }
    },
    {
      "cell_type": "markdown",
      "source": [
        "# Your Solution:"
      ],
      "metadata": {
        "id": "p6xJ7BWejOuX"
      }
    },
    {
      "cell_type": "markdown",
      "source": [
        "\n",
        "\n",
        "---\n",
        "\n",
        "\n",
        "## Q4.3  Construct a function (5pt)\n",
        "Please construct a function to calculate the BIC score for full covariance matrix and for diagonal covariance matrix. "
      ],
      "metadata": {
        "id": "yMMYS0PtmhxI"
      }
    },
    {
      "cell_type": "code",
      "source": [
        "# Q4.3 your code starts here"
      ],
      "metadata": {
        "id": "roDM1Hy3n0mU"
      },
      "execution_count": null,
      "outputs": []
    },
    {
      "cell_type": "markdown",
      "source": [
        "\n",
        "\n",
        "---\n",
        "\n",
        "\n",
        "## Q4.4 Test with MNIST dataset (5pt)\n",
        "\n"
      ],
      "metadata": {
        "id": "pinWwGNpoVkZ"
      }
    },
    {
      "cell_type": "markdown",
      "source": [
        "We will use small portion of MNIST dataset to test. Here we only extract samples of digits 9 and store in the variable `X9`. \n",
        "\n",
        "- Assume this samples of digits 9 follow the multivariate Gaussian distribution, please estimate the MLE for the mean and covariance matrix in both cases (full covariance matrix and diagonal covariance matrix.)\n",
        "\n",
        "- Use the function defined above to test which case has better BIC score."
      ],
      "metadata": {
        "id": "v1grZ7jQs0Gf"
      }
    },
    {
      "cell_type": "code",
      "source": [
        "from sklearn.datasets import load_digits\n",
        "digits = load_digits() \n",
        "\n",
        "X = digits.data\n",
        "y = digits.target \n",
        "\n",
        "X9 = X[y==9] # here we only extract samples of digits 9.\n"
      ],
      "metadata": {
        "id": "hua-EHomrZKj"
      },
      "execution_count": null,
      "outputs": []
    },
    {
      "cell_type": "code",
      "source": [
        "# Q4.4 your code starts here"
      ],
      "metadata": {
        "id": "G5kOgZgNsQNa"
      },
      "execution_count": null,
      "outputs": []
    },
    {
      "cell_type": "markdown",
      "source": [
        "\n",
        "\n",
        "\n",
        "---\n",
        "\n",
        "\n",
        "\n",
        "---\n",
        "\n",
        "\n",
        "# Q5: Maximum Likelihood Estimation  (15pt)\n",
        "## Q5.1 Uniform distribution (5pt)\n",
        "Let $X_1, X_2, \\dots, X_N$ be independent, uniformly distributed on the continuous domain $[0, \\theta]$ for some $\\theta$. What is the\n",
        "Maximum likelihood estimate for $\\theta$? \n",
        "\n"
      ],
      "metadata": {
        "id": "MYbS_Stf57P5"
      }
    },
    {
      "cell_type": "markdown",
      "source": [
        "# Your Solution:"
      ],
      "metadata": {
        "id": "1YeiR0KN8wNN"
      }
    },
    {
      "cell_type": "markdown",
      "source": [
        "\n",
        "\n",
        "---\n",
        "\n",
        "\n",
        "## Q5.2 Binomial distribution I (5pt)\n",
        "Suppose we observe the values of $M$ iid random variables $Y_1, Y_2,\\dots, Y_M$ drawn from a single Binomial distribution $B(n,\\theta)$. A Binomial distribution models the number of 1’s from a sequence of $n$ independent Bernoulli variables with parameter $\\theta$. In other words, \n",
        "\\begin{align}\n",
        "P(Y_i=k) = {n \\choose k} \\theta^k(1-\\theta)^{n-k} = \\frac{n!}{k!(n-k)!}\\theta^k(1-\\theta)^{n-k} \n",
        "\\end{align}\n",
        "Write a formula for the negative log likelihood function $l_M(\\theta)$. Your function should depend on the\n",
        "random variables $Y_1, Y_2,\\dots, Y_M$ and $\\theta$. \n",
        "\n",
        "\n"
      ],
      "metadata": {
        "id": "d2o7hcMn89ik"
      }
    },
    {
      "cell_type": "markdown",
      "source": [
        "# Your Solution:"
      ],
      "metadata": {
        "id": "c_d2SvZs9jY-"
      }
    },
    {
      "cell_type": "markdown",
      "source": [
        "\n",
        "\n",
        "---\n",
        "\n",
        "\n",
        "## Q5.3 Binomial distribution II (5pt)\n",
        "Consider two independent Binomial random variables $Y_1$ and $Y_2$ with the same parameters $n=5$ and $\\theta$. The sampled values for $Y_1$ and $Y_2$ are $(0, 0, 1 ,1,1)$ and $(0,1,0,1,1)$. Therefore, $Y_1=3$ and $Y_2=3$. Compute the maximum likelihood estimate for\n",
        "the 2 samples. Show your work. "
      ],
      "metadata": {
        "id": "_jg32iU79o7p"
      }
    },
    {
      "cell_type": "markdown",
      "source": [
        "# Your Solution:"
      ],
      "metadata": {
        "id": "JyrkyReMrbdd"
      }
    }
  ]
}