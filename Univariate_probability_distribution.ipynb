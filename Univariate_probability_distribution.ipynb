{
  "nbformat": 4,
  "nbformat_minor": 0,
  "metadata": {
    "colab": {
      "name": "Univariate probability distribution.ipynb",
      "provenance": [],
      "collapsed_sections": [],
      "authorship_tag": "ABX9TyMu7s2uXOY/X5X28iNyUVid",
      "include_colab_link": true
    },
    "kernelspec": {
      "name": "python3",
      "display_name": "Python 3"
    },
    "language_info": {
      "name": "python"
    }
  },
  "cells": [
    {
      "cell_type": "markdown",
      "metadata": {
        "id": "view-in-github",
        "colab_type": "text"
      },
      "source": [
        "<a href=\"https://colab.research.google.com/github/yexf308/AppliedStatistics/blob/main/Univariate_probability_distribution.ipynb\" target=\"_parent\"><img src=\"https://colab.research.google.com/assets/colab-badge.svg\" alt=\"Open In Colab\"/></a>"
      ]
    },
    {
      "cell_type": "code",
      "execution_count": 1,
      "metadata": {
        "id": "7SaGFtr7VOgN",
        "colab": {
          "base_uri": "https://localhost:8080/"
        },
        "outputId": "695d1662-922c-4d03-837f-24964e5559fd"
      },
      "outputs": [
        {
          "output_type": "stream",
          "name": "stdout",
          "text": [
            "Populating the interactive namespace from numpy and matplotlib\n"
          ]
        }
      ],
      "source": [
        "%pylab inline \n",
        "from scipy.stats import bernoulli\n"
      ]
    },
    {
      "cell_type": "markdown",
      "source": [
        "$\\def\\m#1{\\mathbf{#1}}$\n",
        "$\\def\\mm#1{\\boldsymbol{#1}}$\n",
        "$\\def\\mb#1{\\mathbb{#1}}$\n",
        "$\\def\\c#1{\\mathcal{#1}}$\n",
        "\n",
        "# Probability: Univariate Models\n",
        "## Basic Probability knowledge\n",
        "- Denote the joint probability of events $A$ and $B$ as $P(A, B)$. \n",
        "\n",
        "- If $A$ and $B$ are independent events, $P(A, B)= P(A)P(B) $. \n",
        "\n",
        "- Conditional Probability of event $B$ happening given that $A$ has occurred is defined as \n",
        "$$ P(B|A) = \\frac{P(A,B)}{P(A)}$$\n",
        "\n",
        "- Events $A$ and $B$ are **conditional independence** of events given event $C$ if \n",
        "$$ P(A, B|C)= P(A|C)P(B|C)$$\n",
        "\n",
        "\n",
        "\n",
        "- **Bayes' rule:** The formula for computing the probability distribution over possible values of an unknown(hidden) quantity $H$ given some observed data $Y=y$,\n",
        "$$P(H=h|Y=y) = \\frac{p(H=h)p(Y=y|H=h)}{p(Y=y)} $$\n",
        "It follows from $p(h|y)p(y)=p(h)p(y|h)=p(h,y)$. \n",
        "   - $p(H)$: what we know about $H$ before we see any data, **prior distribution**. \n",
        "   - $p(Y=y|H=h)$: the possible outcomes $Y$ expect to see if $H=h$, **likelihood**. It is a function of $h$ so it doesn't sum to 1.  \n",
        "   - $p(H=h|Y=y)$: the new brief state about the possible values of $H$. **posterior distribution**. \n",
        "\n",
        "  - **posterior $\\propto$ prior $\\times$ likelihood** \n",
        "\n"
      ],
      "metadata": {
        "id": "oCylU72LWPlw"
      }
    },
    {
      "cell_type": "markdown",
      "source": [
        "### Example: Testing for COVID \n",
        "Say you may have contracted COVID-19, You decide to take a diagnostic test, and you want to use its result to\n",
        "determine if you are infected or not.\n",
        "\n",
        "Let $H = 1$ be the event that you are infected, and $H = 0$ be the event you are not infected. Let\n",
        "$Y = 1$ if the test is positive, and $Y = 0$ if the test is negative. The **sensitivity** (aka true positive rate) is defined as\n",
        "$p(Y = 1|H = 1)$. The **specificity** (aka true negative rate)\n",
        "is defined as $p(Y = 0|H = 0)$. We set\n",
        "the sensitivity to 87.5% and the specificity to 97.5%. The quantity $p(H = 1)$ represents the prevalence of the\n",
        "disease in the area in which you live. We set this to $p(H = 1) = 0.1$ (i.e., 10%).\n",
        "\n",
        "Now suppose you test positive,\n",
        "$$ \n",
        "\\begin{split}\n",
        "p(H = 1|Y = 1) &= \\frac{p(Y = 1|H = 1)p(H=1)}{p(Y = 1|H = 1)p(H=1) + p(Y = 1|H = 0)p(H=0)}  \\\\ \n",
        "&=\\frac{0.875 \\times 0.1}{0.875\\times0.1 + 0.025 \\times0.9} = 0.795\n",
        "\\end {split}\n",
        "$$\n",
        "There is a 79.5% chance you are infected.\n",
        "\n",
        "Suppose you test negative, \n",
        "$$ \n",
        "\\begin{split}\n",
        "p(H = 1|Y = 0) &= \\frac{p(Y = 0|H = 1)p(H=1)}{p(Y = 0|H = 1)p(H=1) + p(Y = 0|H = 0)p(H=0)}  \\\\ \n",
        "&=\\frac{0.125 \\times 0.1}{0.125\\times0.1 + 0.975 \\times0.9} = 0.014\n",
        "\\end {split}\n",
        "$$\n",
        "So there is just a 1.4% chance you are infected."
      ],
      "metadata": {
        "id": "Fm3nmM_Vc1ds"
      }
    },
    {
      "cell_type": "markdown",
      "source": [
        "# Discrete random variable\n",
        "The state space $\\c{X}$ is finite or countable infinite, like $\\c{X}=\\{1,2,3,4\\}$ or $\\c{X}=\\mb{Z}$. We can define \n",
        "probability mass function $p(x)=p(X=x)$.\n",
        "\n",
        "-  **Marginal distribution:** $p(X=x)= \\sum_y p(X=x, Y=y)$. \n",
        "\n",
        "- **independent variables**(applies to continuous rv): If $X$ and $Y$ are independent random variable ($X\\perp Y$), $p(X, Y)= p(X)p(Y)$. \n",
        "\n",
        "- **conditionally independent**(applies to continuous rv): If $X$ and $Y$ are conditionally independent given $Z$ ($X\\perp Y | Z$), $p(X, Y|Z)= p(X|Z)p(Y|Z)$. \n",
        "\n",
        "\n",
        "## 1. Bernoulli distribution \n",
        "Consider toss a coin, where the probability of it lands head is $0\\le\\theta\\le1$. We can denote $Y=1$ as it lands head and denote $Y=0$ that it lands tail. This is **Bernoulli distribution**, $Y\\sim \\text{Ber}(\\theta)$. Note $\\sim$ means \"is distributed as\". The probability mass function is \n",
        "$$\\text{Ber}(y|\\theta)=\\begin{cases}1-\\theta & \\text{if } y =0 \\\\ \\theta & \\text{if }y=1 \\end{cases}  $$\n",
        "There is a more concise way to write \n",
        "\n",
        "$$\\text{Ber}(y|\\theta)=\\theta^y(1-\\theta)^{(1-y)} $$\n",
        "\n",
        "**If you are given a special coin, how do I find its $\\theta$?**\n",
        "### Modelling coin flips\n",
        "**Data:** sequence $\\c{D}=(H, H, T,H,T)$. You count $k$ heads out of $N$ flips. \n",
        "\n",
        "**Assumption:** We flip coin in i.i.d. manner. (independent and identically distributed)\n",
        "\n",
        "**Calculate likelihood:** \n",
        "\\begin{align}\n",
        "P(\\c{D}|\\theta)&= P(HHTHT|\\theta) \\\\\n",
        "&= P(H|\\theta)P(H|\\theta)P(T|\\theta)P(H|\\theta)P(T|\\theta) \\\\\n",
        "&=\\theta^3(1-\\theta)^2\n",
        "\\end{align}\n",
        "Note it is different from $P(\\text{3 heads}|\\theta)$. \n",
        "\n",
        "In general for $k$ heads out of $N$ clips, the likelihood is \n",
        "$$ P(\\c{D}|\\theta)=\\theta^k(1-\\theta)^{n-k}.$$\n",
        "\n",
        "**Maximum likelihood estimator (MLE):** Choose $\\theta$ that maximizes the probability of observed data.\n",
        "\\begin{align}\n",
        "\\hat{\\theta}_{\\text{MLE}} &= \\arg\\max_\\theta P(\\c{D}|\\theta) \\\\\n",
        "&=\\arg\\max_{\\theta} \\log P(\\c{D}|\\theta) \\\\\n",
        "&= \\arg\\max_\\theta \\log \\theta^k (1-\\theta)^{N-k} \\\\\n",
        "&= \\arg\\max_\\theta \\left(k\\log(\\theta) +(N-k) \\log(1-\\theta)\\right). \n",
        "\\end{align}\n",
        "\n",
        "Solve $\\frac{d}{d\\theta}\\log P(\\c{D|\\theta})=0$ for $\\theta$. \n",
        "$$ \\frac{d}{d\\theta}\\log P(\\c{D|\\theta}) = \\frac{k}{\\theta}-\\frac{N-k}{1-\\theta}=0$$\n",
        "$$ \\boxed{\\hat\\theta = \\frac{k}{N}}$$\n",
        "\n",
        "\n",
        "**Question remained:** \n",
        "- How good is this MLE?\n",
        "\n",
        "- If I flipped the coin 20 times and got 12 heads, and I flipped the same coin 200 times and got 110 heads, which one is better? Why?\n",
        "\n",
        " "
      ],
      "metadata": {
        "id": "Q5hShQ8Sgx21"
      }
    },
    {
      "cell_type": "code",
      "source": [
        "# Bernoulli Random Variable\n",
        "# defining a Bernoulli RV X with X=1 having probability of p\n",
        "p=0.3\n",
        "X=bernoulli(p)\n",
        "\n",
        "# drawing 10,000 samples from the random variable X in i.i.d manner. \n",
        "X_samples= X.rvs(100)\n",
        "print(X_samples)\n"
      ],
      "metadata": {
        "colab": {
          "base_uri": "https://localhost:8080/"
        },
        "id": "_hDOiPLzi05H",
        "outputId": "132489fb-c60f-4280-d11a-d870d485194f"
      },
      "execution_count": null,
      "outputs": [
        {
          "output_type": "stream",
          "name": "stdout",
          "text": [
            "[1 1 0 0 0 0 1 0 0 0 1 1 0 1 1 0 0 0 0 0 1 1 1 0 1 0 0 1 0 0 0 0 0 1 0 0 0\n",
            " 1 0 0 0 0 0 1 0 1 1 1 1 0 0 1 0 0 1 0 0 0 1 0 0 0 1 0 0 0 0 0 1 0 0 0 0 0\n",
            " 0 0 0 0 0 0 0 0 0 0 0 0 0 0 0 1 0 1 0 1 0 1 0 0 1 0]\n"
          ]
        }
      ]
    },
    {
      "cell_type": "code",
      "source": [
        "N_span = [100 ,1000, 10000 ,100000, 1000000]\n",
        "print('Theoretical p: ', p)\n",
        "\n",
        "for N in N_span:\n",
        "  X_samples = X.rvs(N)\n",
        "  print('With N=',N,', MLE of p is : ', sum(X_samples)/N)\n",
        "  hist(X_samples)  \n",
        "\n",
        "\n"
      ],
      "metadata": {
        "colab": {
          "base_uri": "https://localhost:8080/",
          "height": 372
        },
        "id": "Qu5g6qO_mCRA",
        "outputId": "4dc9cf87-8380-4b0d-f985-14e11d6d426a"
      },
      "execution_count": null,
      "outputs": [
        {
          "output_type": "stream",
          "name": "stdout",
          "text": [
            "Theoretical p:  0.3\n",
            "With N= 100 , MLE of p is :  0.29\n",
            "With N= 1000 , MLE of p is :  0.307\n",
            "With N= 10000 , MLE of p is :  0.2986\n",
            "With N= 100000 , MLE of p is :  0.3009\n",
            "With N= 1000000 , MLE of p is :  0.299871\n"
          ]
        },
        {
          "output_type": "display_data",
          "data": {
            "text/plain": [
              "<Figure size 432x288 with 1 Axes>"
            ],
            "image/png": "[encoded data removed]"
          },
          "metadata": {
            "needs_background": "light"
          }
        }
      ]
    },
    {
      "cell_type": "markdown",
      "source": [
        "## 2. Categorical distribution\n",
        "Generalize the Bernoulli to $C>2$ labels, $y\\in\\{1,2,\\dots,C\\}$. The categorial distribution is \n",
        "\\begin{align}\n",
        "\\text{Cat}(y|\\mm\\theta) = \\Pi_{c=1}^C\\theta_c^{\\mb{1}_{(y=c)}}\n",
        "\\end{align}\n",
        "In other words, $p(y=c|\\mm\\theta)=\\theta_c$. The condition for $\\theta_c$ is $0\\le \\theta_c\\le 1$ and $\\sum_{c=1}^C\\theta_c=1$, then there are only $C-1$ degree of freedoms. \n",
        "\n",
        "These labels are actually meaningless since you can replace numbers to colors if you want. \n",
        "\n",
        "**Use one-hot vector:** If $C=3$, encode the class $y=1$ as $\\m{y}=(1, 0,0)$, the class $y=2$ as $\\m{y}=(0, 1,0)$ and the class $y=3$ as $\\m{y}=(0, 0,1)$, i.e., encode the class using unit vectors. Using one-hot encoding, we can write the categorial distribution as follows,\n",
        "\\begin{align}\n",
        "\\text{Cat}(\\m{y}|\\mm\\theta) = \\Pi_{c=1}^C \\theta_c^{y_c}\n",
        "\\end{align}\n",
        "\n",
        "\n",
        "### Modeling $K$-sided dice\n",
        "Suppose roll $K$-sided dice $N$ times, let $Y_n\\in \\{1, 2,\\dots, C\\}$ be $n$th outcome, where $Y_n \\sim \\text{Cat}(y|\\mm\\theta)$. The dataset $\\c{D}=\\{Y_n\\}_{n=1}^N$, e.g., $C=6, \\c{D}=\\{3, 5,1,2,\\dots\\} $. \n",
        "The NLL is given by \n",
        "\\begin{align}\n",
        "l_N(\\mm\\theta)=-\\sum_{c=1}^C N_c \\log \\theta_c\n",
        "\\end{align}\n",
        "with the constraint that $\\sum_{c=1}^C \\theta_c=1$, where $N_k$ is the number of times the event $Y=c$ is observed. \n",
        "\n",
        "### Method of Lagrange multipliers \n",
        "The Lagrangian is as follows:\n",
        "\\begin{align}\n",
        "\\c{L}(\\mm\\theta, \\lambda) = -\\sum_{c=1}^C N_c \\log \\theta_c -\\lambda(1-\\sum_{c=1}^C \\theta_c)\n",
        "\\end{align}\n",
        "- Taking derivatives with respect to $\\lambda$ yields the constraint \n",
        "\\begin{align}\n",
        "\\frac{\\partial \\c{L}}{\\partial \\lambda}=1-\\sum_{c=1}^C \\theta_c\n",
        "\\end{align}\n",
        "\n",
        "- Taking derivatives with respect to $\\theta_c$ yields\n",
        "\\begin{align}\n",
        "\\frac{\\partial \\c{L}}{\\partial \\theta_c}= -\\frac{N_c}{\\theta_c}+\\lambda=0 \\rightarrow N_c=\\lambda\\theta_c\n",
        "\\end{align}\n",
        "\n",
        "- Solve for $\\lambda$, $\\sum_{c} N_c =N =\\lambda\\sum_c\\theta_c = \\lambda$. The MLE is given by \n",
        "\\begin{align}\n",
        "\\boxed{\\hat\\theta_k = \\frac{N_k}{N}.}\n",
        "\\end{align}\n",
        "which is the empirical fraction of times event $t$ occurs. "
      ],
      "metadata": {
        "id": "5f9Rcnkhois5"
      }
    },
    {
      "cell_type": "code",
      "source": [
        "prob=[0.2, 0.5, 0.3]\n",
        "elements = [1, 2, 3]\n",
        "X_sample = np.random.choice(elements, 10, p=prob)\n",
        "print(X_sample)"
      ],
      "metadata": {
        "colab": {
          "base_uri": "https://localhost:8080/"
        },
        "id": "looendBRp6CK",
        "outputId": "44cdd9ef-b40b-4e7d-96d5-18fa35f10149"
      },
      "execution_count": null,
      "outputs": [
        {
          "output_type": "stream",
          "name": "stdout",
          "text": [
            "[2 3 3 2 2 3 3 3 3 3]\n"
          ]
        }
      ]
    },
    {
      "cell_type": "code",
      "source": [
        "N_span = [100 ,1000, 10000 ,100000, 1000000]\n",
        "print('Theoretical prob: ', prob)\n",
        "\n",
        "for N in N_span:\n",
        "  X_sample = np.random.choice(elements, N, p=prob)\n",
        "  print('With N=',N,', MLE of prob is : ', [count_nonzero(X_sample == 1)/N, count_nonzero(X_sample == 2)/N, count_nonzero(X_sample == 3)/N])\n",
        "  hist(X_sample)  \n",
        "\n",
        "\n"
      ],
      "metadata": {
        "colab": {
          "base_uri": "https://localhost:8080/",
          "height": 372
        },
        "id": "AfPBWIVJrUDT",
        "outputId": "e4adf475-dcf1-4e43-88c3-618fe77ab9b0"
      },
      "execution_count": null,
      "outputs": [
        {
          "output_type": "stream",
          "name": "stdout",
          "text": [
            "Theoretical prob:  [0.2, 0.5, 0.3]\n",
            "With N= 100 , MLE of prob is :  [0.17, 0.51, 0.32]\n",
            "With N= 1000 , MLE of prob is :  [0.19, 0.517, 0.293]\n",
            "With N= 10000 , MLE of prob is :  [0.2052, 0.5015, 0.2933]\n",
            "With N= 100000 , MLE of prob is :  [0.19992, 0.49967, 0.30041]\n",
            "With N= 1000000 , MLE of prob is :  [0.199937, 0.500186, 0.299877]\n"
          ]
        },
        {
          "output_type": "display_data",
          "data": {
            "text/plain": [
              "<Figure size 432x288 with 1 Axes>"
            ],
            "image/png": "[encoded data removed]"
          },
          "metadata": {
            "needs_background": "light"
          }
        }
      ]
    },
    {
      "cell_type": "markdown",
      "source": [
        "# Continuous random variable\n",
        "If $X\\in \\mb{R}$ is a real-valued quantity, it is a **Continuous random variable**. \n",
        "- cumulative distribution function of $X$ is \n",
        "\\begin{align}\n",
        "P(x)= \\text{Pr}(X\\le x)\n",
        "\\end{align}\n",
        "cdf are monotonically non-decreasing functions. \n",
        "\n",
        "- probability density function or pdf as the derivative of the cdf\n",
        "\\begin{align}\n",
        "p(x) =\\frac{d}{dx}P(x)\n",
        "\\end{align}\n",
        "Note \n",
        "   - $\\text{Pr}(a< X\\le b)=\\int_{a}^b p(x)dx = P(b)-P(a)$.\n",
        "   - $\\int_{-\\infty}^{+\\infty} p(x)=1$. \n",
        "\n",
        "- **Expectation:** For continuous rv and discrete rv,\n",
        "\\begin{align}\n",
        "\\mb{E}[X]= \\int_\\c{X} xp(x)dx \\qquad \\mb{E}[X]= \\sum_{x\\in\\c{X}} xp(x)\n",
        "\\end{align}\n",
        "   - Expectation is a linear operator, $\\mb{E}(aX+b) = a\\mb{E}(X)+b$. \n",
        "   - If $X_1, \\dots, X_n$ are independent, the expectation is \n",
        "   \\begin{align}\n",
        "   \\mb{E}(\\Pi_{i=1}^N X_i) = \\Pi_{i=1}^N \\mb{E}(X_i)\n",
        "   \\end{align}\n",
        "\n",
        "   - Expectation of function $f(X)$ is $\\mb{E}[f(X)]= \\int_\\c{X} f(x)p(x)dx $.\n",
        "\n",
        "\n",
        "- **Variance:** a measure of the “spread” of a distribution, \n",
        "\\begin{align}\n",
        "\\sigma^2=\\mb{V}[X] = \\mb{E}[(X-\\mu)^2]= \\int(x-\\mu)^2p(x)dx = \\mb{E}[X^2]-\\mu^2\n",
        "\\end{align}  \n",
        "So $\\mb{E}[X^2]=\\sigma^2+\\mu^2$. \n",
        "   - **Standard deviation:** $\\text{std}[X] = \\sqrt{\\mb{V}[X]}=\\sigma$. \n",
        "\n",
        "   - $\\mb{V}[aX+b] = a^2 \\mb{V}[X]$ \n",
        "\n",
        "   - If $X_1, \\dots, X_n$ are independent,  the variance of their sum is given by the sum of their variance, $\\mb{V}[\\sum_{i=1}^n X_i]= \\sum_{i=1}^n \\mb{V}[X_i]$. What is $\\mb{V}[\\Pi_{i=1}^n X_i]$?\n",
        "\n",
        "\n",
        "\n",
        "## 3. Uniform distribution $U_{(a,b)}$ \n",
        "Uniform distribution on $(a,b)$, the pdf is $p(x;a,b) = \\frac{\\mb{1}_{ab}(x)}{b-a}$, where $\\mb{1}_{ab}(x)$ is 1 between $a$ and $b$, but 0 otherwise. \n",
        "\n",
        "## 4. Univariate Gaussian (normal) distribution\n",
        "Say the random variable $X\\sim \\c{N}(x;\\mu,\\sigma^2)$. The pdf of Gaussian distribution is \n",
        "\\begin{align}\n",
        "\\c{N}(x;\\mu,\\sigma^2)= \\frac{{1}}{\\sqrt{2\\pi\\sigma^2}}\\ \\exp\\left[{-\\frac{(x\\!-\\!\\mu)^2}{2 \\sigma^2} }\\right]\n",
        "\\end{align}\n",
        "\n",
        "- Important integrals\n",
        "  - $\\int_{-\\infty}^{+\\infty} \\c{N}(x;\\mu,\\sigma^2) dx = 1.$ This ensures the pdf is normalized to 1. \n",
        "  - $\\mb{E}[X]=\\int_{-\\infty}^{+\\infty} x\\c{N}(x;\\mu,\\sigma^2) dx=\\mu$. The mean of Gaussian distribution is $\\mu$.\n",
        "  - $\\mb{V}[X]=\\mb{E}[(X-\\mu)^2] = \\sigma^2$. The mean of Gaussian distribution is $\\sigma^2$.\n",
        "\n",
        "- Properties of Gaussian distribution\n",
        "  - If $Y=aX+b$, then $Y\\sim\\c{N}(a\\mu+b, a^2\\sigma^2)$.\n",
        "  - If two independent Gaussian variables $X_1\\sim \\c{N}(\\mu_1,\\sigma_1^2)$ and $X_2\\sim \\c{N}(\\mu_2,\\sigma_2^2)$, then $Z=X_1+X_2 \\sim \\c{N}(\\mu_1+\\mu_2,\\sigma_1^2+\\sigma_2^2)$. \n",
        "- Why Gaussian distribution is so important?   \n",
        "\n",
        "### MLE for Gaussian\n",
        "Let $\\c{D} = \\{x_n\\}_{n=1}^N$ be an i.i.d. sample of size $N$. Wecanestimate the parameters $\\mm\\theta = (\\mu, \\sigma^2)$ using MLE as follows. \n",
        "\\begin{align}\n",
        "l_N(\\mm\\theta)&= \\sum_{n=1}^N \\log \\left[\\left(\\frac{1}{2\\pi\\sigma^2}\\right)^{\\frac{1}{2}}\\exp\\left(-\\frac{1}{2\\sigma^2}(x_n-\\mu)^2\\right)\\right] \\\\\n",
        "&=\\frac{1}{2\\sigma^2}\\sum_{n=1}^N (x_n-\\mu)^2 +\\frac{N}{2}\\log(2\\pi\\sigma^2)\n",
        "\\end{align}\n",
        "- Solve for $\\frac{\\partial}{\\partial \\mu}l_N(\\mm\\theta)=0, \\frac{\\partial}{\\partial \\sigma^2}l_N(\\mm\\theta)=0$\n",
        "\\begin{align}\n",
        "&\\boxed{\\hat\\mu = \\frac{1}{N}\\sum_{n=1}^N x_n = \\bar x}\\\\\n",
        "&\\boxed{\\hat{\\sigma}^2 = \\frac{1}{N}\\sum_{n=1}^N(x_n-\\hat\\mu)^2}\n",
        "\\end{align}\n",
        "\n"
      ],
      "metadata": {
        "id": "ECTijluKUpD0"
      }
    },
    {
      "cell_type": "code",
      "source": [
        "def univariate_normal(x, mean, variance):\n",
        "    \"\"\"pdf of the univariate normal distribution.\"\"\"\n",
        "    return ((1. / np.sqrt(2 * np.pi * variance)) * \n",
        "            np.exp(-(x - mean)**2 / (2 * variance)))"
      ],
      "metadata": {
        "id": "yWNu9kef6pxA"
      },
      "execution_count": 2,
      "outputs": []
    },
    {
      "cell_type": "code",
      "source": [
        "# Plot different Univariate Normals\n",
        "x = np.linspace(-3, 5, num=100)\n",
        "fig = plt.figure(figsize=(5, 3))\n",
        "plt.plot(\n",
        "    x, univariate_normal(x, mean=0, variance=1), \n",
        "    label=\"$\\mathcal{N}(0, 1)$\")\n",
        "plt.plot(\n",
        "    x, univariate_normal(x, mean=2, variance=3), \n",
        "    label=\"$\\mathcal{N}(2, 3)$\")\n",
        "plt.plot(\n",
        "    x, univariate_normal(x, mean=0, variance=0.2), \n",
        "    label=\"$\\mathcal{N}(0, 0.2)$\")\n",
        "plt.xlabel('$x$', fontsize=13)\n",
        "plt.ylabel('density: $p(x)$', fontsize=13)\n",
        "plt.title('Univariate normal distributions')\n",
        "plt.ylim([0, 1])\n",
        "plt.xlim([-3, 5])\n",
        "plt.legend(loc=1)\n",
        "#fig.subplots_adjust(bottom=0.15)\n",
        "plt.show()\n"
      ],
      "metadata": {
        "colab": {
          "base_uri": "https://localhost:8080/",
          "height": 244
        },
        "id": "eDq_Ms3y6v4Y",
        "outputId": "30234be5-ecc1-43ce-825b-2dca2438558f"
      },
      "execution_count": 5,
      "outputs": [
        {
          "output_type": "display_data",
          "data": {
            "text/plain": [
              "<Figure size 360x216 with 1 Axes>"
            ],
            "image/png": "[encoded data removed]"
          },
          "metadata": {
            "needs_background": "light"
          }
        }
      ]
    },
    {
      "cell_type": "code",
      "source": [
        "# generate sample with size N\n",
        "mu, sigma, N = 0, sqrt(2), 50000\n",
        "x_sample = np.random.normal(mu, sigma, N)\n",
        "\n",
        "# MLE of mu\n",
        "mu_hat = np.mean(x_sample)\n",
        "\n",
        "# MLE of sigma^2\n",
        "sigma_square_hat  = np.sum( (x_sample-mu_hat)**2 ) / N    \n",
        "\n",
        "print('Theoretical mu is: ', mu, ',sigma_square is:', sigma**2)\n",
        "print('With N=',N,'MLE of mu is ', mu_hat, 'MLE of sigma_square', sigma_square_hat)\n"
      ],
      "metadata": {
        "colab": {
          "base_uri": "https://localhost:8080/"
        },
        "id": "gOddRRX77PQy",
        "outputId": "7e074367-d269-44e0-c9d9-750696b69e0d"
      },
      "execution_count": 8,
      "outputs": [
        {
          "output_type": "stream",
          "name": "stdout",
          "text": [
            "Theoretical mu is:  0 ,sigma_square is: 2.0000000000000004\n",
            "With N= 50000 MLE of mu is  0.001683572507369195 MLE of sigma_square 2.0044747727082433\n"
          ]
        }
      ]
    },
    {
      "cell_type": "code",
      "source": [
        "fig, ax = plt.subplots()\n",
        "ax.hist(x_sample , 51, range=[-5,5], color='r', alpha=0.5,density=True);\n",
        "x_span = np.linspace(-5,5,100)\n",
        "plt.plot(\n",
        "    x_span, univariate_normal(x_span, mean=0, variance=2), \n",
        "    label=\"$\\mathcal{N}(0, 2)$\")\n",
        "plt.show()"
      ],
      "metadata": {
        "colab": {
          "base_uri": "https://localhost:8080/",
          "height": 265
        },
        "id": "rAcoILtj92Ak",
        "outputId": "4f3e0c94-0eec-459c-b6a1-ddc477f8ec92"
      },
      "execution_count": 11,
      "outputs": [
        {
          "output_type": "display_data",
          "data": {
            "text/plain": [
              "<Figure size 432x288 with 1 Axes>"
            ],
            "image/png": "[encoded data removed]"
          },
          "metadata": {
            "needs_background": "light"
          }
        }
      ]
    },
    {
      "cell_type": "markdown",
      "source": [
        "# Maximum Likelihood Estimation \n",
        "- **Observe** the data $X_1, X_2, \\dots, X_N$ drawn i.i.d. from the distribution $f(x;\\theta)$ for some hidden variable $\\theta=\\theta_*$. \n",
        "\n",
        "- **Likelihood function (as variable of $\\theta$):** $L_N(\\theta)= \\Pi_{i=1}^N f(X_i; \\theta)$. \n",
        "\n",
        "- **Log-Likelihood function:** $l_N(\\theta)=\\log(L_N(\\theta))=\\sum_{i=1}^N \\log(f(X_i;\\theta)). $\n",
        "\n",
        "- **Maximum Likelihood Estimator (MLE):** $\\hat{\\theta}_{\\text{MLE}} =\\arg\\max_\\theta L_N(\\theta) =\\arg\\max_\\theta l_N(\\theta)$. \n",
        "\n",
        "These MLE $\\hat{\\theta}_{\\text{MLE}}$ are also random variables. We can ask \n",
        "- $\\mb{E}[\\hat{\\theta}_{\\text{MLE}}]=?$ If $\\mb{E}[\\hat{\\theta}_{\\text{MLE}}]=\\theta^*$, then MLE is called **unbiased**. \n",
        "- $\\mb{V}[\\hat{\\theta}_{\\text{MLE}}]=?$"
      ],
      "metadata": {
        "id": "NUxsrbB1mHrp"
      }
    }
  ]
}