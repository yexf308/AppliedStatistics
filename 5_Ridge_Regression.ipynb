{
  "nbformat": 4,
  "nbformat_minor": 0,
  "metadata": {
    "colab": {
      "name": "5. Ridge Regression.ipynb",
      "provenance": [],
      "collapsed_sections": [],
      "authorship_tag": "ABX9TyOgH5kzGL7RAi9ODt8BpEp+",
      "include_colab_link": true
    },
    "kernelspec": {
      "name": "python3",
      "display_name": "Python 3"
    },
    "language_info": {
      "name": "python"
    }
  },
  "cells": [
    {
      "cell_type": "markdown",
      "metadata": {
        "id": "view-in-github",
        "colab_type": "text"
      },
      "source": [
        "<a href=\"https://colab.research.google.com/github/yexf308/AppliedStatistics/blob/main/5_Ridge_Regression.ipynb\" target=\"_parent\"><img src=\"https://colab.research.google.com/assets/colab-badge.svg\" alt=\"Open In Colab\"/></a>"
      ]
    },
    {
      "cell_type": "code",
      "execution_count": 5,
      "metadata": {
        "id": "SDOqCou14zea",
        "colab": {
          "base_uri": "https://localhost:8080/"
        },
        "outputId": "20fcfd5a-f564-47ad-bf12-e6afc59b7b8f"
      },
      "outputs": [
        {
          "output_type": "stream",
          "name": "stdout",
          "text": [
            "Populating the interactive namespace from numpy and matplotlib\n"
          ]
        }
      ],
      "source": [
        "%pylab inline \n",
        "import pandas as pd\n",
        "from scipy import linalg\n",
        "from itertools import combinations\n",
        "import scipy"
      ]
    },
    {
      "cell_type": "markdown",
      "source": [
        "$\\def\\m#1{\\mathbf{#1}}$\n",
        "$\\def\\mm#1{\\boldsymbol{#1}}$\n",
        "$\\def\\mb#1{\\mathbb{#1}}$\n",
        "$\\def\\c#1{\\mathcal{#1}}$\n",
        "$\\def\\mr#1{\\mathrm{#1}}$\n",
        "$\\newenvironment{rmat}{\\left[\\begin{array}{rrrrrrrrrrrrr}}{\\end{array}\\right]}$\n",
        "$\\newcommand\\brm{\\begin{rmat}}$\n",
        "$\\newcommand\\erm{\\end{rmat}}$\n",
        "$\\newenvironment{cmat}{\\left[\\begin{array}{ccccccccc}}{\\end{array}\\right]}$\n",
        "$\\newcommand\\bcm{\\begin{cmat}}$\n",
        "$\\newcommand\\ecm{\\end{cmat}}$"
      ],
      "metadata": {
        "id": "dilCiZIW_135"
      }
    },
    {
      "cell_type": "markdown",
      "source": [
        "# Ridge Regression\n",
        "The polynomial regression with too high of a degree may have overfitting issue. One solution is to reduced the degree of the polynomial. However, a more general solution is to penalize the magnitude of the regression coefficients.\n",
        "\n",
        "**Solution**: use MAP estimation with a zero-mean Gaussian prior on the weights, $p(\\m{w})=\\c{N}(\\m{w}|\\m{0},\\lambda^{-1}\\m{I}_D)$. This is **ridge regression** (Tikhonov regularization). Note $-\\log(p(\\m{w}))\\propto \\lambda \\|\\m{w}\\|_2^2$\n",
        "\n",
        "\\begin{align}\n",
        "\\hat{\\m w}_{\\text{map}} = \\arg\\min_{\\m{w}} \\left(\\|\\mathbf{X}\\mathbf{w}-\\mathbf{y}\\|_2^2+\\lambda\\|\\m{w}\\|_2^2\\right)\n",
        "\\end{align}\n",
        "where $\\lambda>0$ is the penalty parameter. Denote the loss function $\\ell(\\m{w},\\lambda) = \\|\\mathbf{X}\\mathbf{w}-\\mathbf{y}\\|_2^2+\\lambda\\|\\m{w}\\|_2^2$. \n",
        "\n",
        "-  $\\lambda=0$, reduce to least square. $\\lambda=+\\infty$,  $\\m w=\\m{0}$. The larger the value of $\\lambda$, the more\n",
        "the parameters are penalized for being large, and thus the less flexible the model. \n",
        "\n",
        "- The gradient is $\\nabla\\ell(\\mathbf{w},\\lambda)= 2(\\mathbf{X}^\\top\\mathbf{X} \\mathbf{w}-\\mathbf{X}^\\top\\mathbf{y}+\\lambda \\mathbf{w}) $ (why?)\n",
        "\n",
        "-  \\begin{align}\n",
        "\\hat{\\m{w}}_{\\text{map}}&=(\\m{X}^\\top\\m{X}+\\lambda \\m{I}_D)^{-1}\\m{X}^\\top \\m{y}\\\\\n",
        "&= (\\sum_{i=1}^N \\m{x}^{(i)}(\\m{x}^{(i)})^\\top +\\lambda \\m{I}_D)^{-1}\\left(\\sum_{i=1}^N y^{(i)}\\m{x}^{(i)} \\right) \n",
        "\\end{align}\n",
        " Note $\\m{X}^\\top\\m{X}+\\lambda \\m{I}_D$ is Positive definite. \n",
        "\n",
        "- The naive method is a bad idea. It can be slow and numerically unstable.  We can add “virtual data” to the training\n",
        "set to get\n",
        " $\\tilde{\\m{X}}=\\bcm \\m{X} \\\\ \\sqrt\\Lambda \\ecm$ and $\\tilde{\\m{y}}= \\bcm \\m{y} \\\\ \\m{0}_{D\\times 1} \\ecm$, where $\\sqrt{\\Lambda}\\in \\mb{R}^{D\\times D}$ is a diaginal matrix with $\\sqrt{\\lambda}$. \n",
        "In fact, $\\hat{\\m{w}}= (\\tilde{\\m{X}}^\\top \\tilde{\\m{X}})^{-1}\\tilde{\\m{X}}^\\top \\tilde{\\m{y}} $. \n",
        "Proof: \n",
        "\\begin{align}\n",
        "f(\\m{w},\\lambda)&= \\left(\\tilde{\\m{y}} - \\tilde{\\m{X}} \\m{w}\\right)^\\top\\left(\\tilde{\\m{y}} - \\tilde{\\m{X}} \\m{w}\\right) \\\\\n",
        "&=\\left( \\bcm \\m{y}-\\m{X}\\m{w} \\\\ -\\sqrt\\Lambda \\m{w} \\ecm \\right)^\\top\\left( \\bcm \\m{y}-\\m{X}\\m{w} \\\\ -\\sqrt\\Lambda \\m{w}\\ecm \\right) \\\\\n",
        "&= (\\m{y}-\\m{X}\\m{w})^\\top(\\m{y}-\\m{X}\\m{w}) + \\m{w}^\\top \\Lambda\\m{w} \\\\\n",
        "&=(\\m{y}-\\m{X}\\m{w})^\\top(\\m{y}-\\m{X}\\m{w}) + \\lambda\\m{w}^\\top \\m{w} = \\ell(\\m{w},\\lambda)\n",
        "\\end{align}\n",
        "\n",
        "\n",
        "\n",
        "\n"
      ],
      "metadata": {
        "id": "Bm8GslhX7JLK"
      }
    },
    {
      "cell_type": "code",
      "source": [
        "def ridge_qr_solve(X, y, l):\n",
        "    D         = X.shape[1]\n",
        "    sq_l      = diag(ones(D)*sqrt(l)) \n",
        "    X_tilde   = np.vstack([X, sq_l]) \n",
        "    y_tilde   = append(y, zeros(D)) \n",
        "    return np.dot(np.linalg.pinv(X_tilde), y_tilde)\n",
        "\n",
        "   # Q, R = np.linalg.qr(X_tilde)\n",
        "   # Qy = np.dot(Q.T, y_tilde)\n",
        "   # return scipy.linalg.solve_triangular(R, Qy)"
      ],
      "metadata": {
        "id": "M7T0Immzt7t5"
      },
      "execution_count": 10,
      "outputs": []
    },
    {
      "cell_type": "code",
      "source": [
        "from sklearn.model_selection import train_test_split\n",
        "\n",
        "# same data as before \n",
        "np.random.seed(0)\n",
        "N = 35\n",
        "x = np.linspace(0.0, 20, N)\n",
        "X0 = x.reshape(N, 1)\n",
        "w = np.array([-1.5, 1 / 9.0])\n",
        "y = w[0] * x + w[1] * np.square(x)\n",
        "y = y + np.random.normal(0, 1, N) * 2\n",
        "\n",
        "\n",
        "# let's try  10th order polynomial \n",
        "d = 10\n",
        "X        = np.ones((N, 1))\n",
        "for i in range(1,d+1):\n",
        "  X   = np.hstack([X, X0**i])\n",
        "\n",
        "# use hold-out\n",
        "# we split the data into two parts: training and testing\n",
        "X_train, X_test, y_train, y_test = train_test_split(X, y, test_size=0.2, random_state=42)\n",
        "\n",
        "#l_span   = [10**-3, 10**-2, 10**-1, 1, 10, 100, 1000, 10000]\n",
        "l_span    = linspace(7000,9000,100)\n",
        "RSS_test = []\n",
        "w_store  = []\n",
        "for l in l_span:\n",
        "  w_hat     = ridge_qr_solve(X_train, y_train, l)\n",
        "  yhat_test = X_test.dot(w_hat)\n",
        "  w_store.append(w_hat)\n",
        "  RSS_test.append(norm(y_test-yhat_test))\n",
        "\n",
        "\n",
        "fig, ax = plt.subplots()\n",
        "ax.scatter(l_span, RSS_test)\n",
        "ylabel('RSS')\n",
        "xlabel('$\\lambda$')\n",
        "title('RSS Value for $\\lambda$ Values')\n",
        "grid()\n",
        "print('min of RSS in lambda is', min(RSS_test))  \n",
        "print('optimal lambda is ', l_span[argmin(RSS_test)])\n"
      ],
      "metadata": {
        "colab": {
          "base_uri": "https://localhost:8080/",
          "height": 333
        },
        "id": "yzfcJ4O1sM3H",
        "outputId": "08103ac6-ba02-4125-dfc6-617ea301d98a"
      },
      "execution_count": 104,
      "outputs": [
        {
          "output_type": "stream",
          "name": "stdout",
          "text": [
            "min of RSS in lambda is 7.457198054505023\n",
            "optimal lambda is  8151.515151515152\n"
          ]
        },
        {
          "output_type": "display_data",
          "data": {
            "text/plain": [
              "<Figure size 432x288 with 1 Axes>"
            ],
            "image/png": "[encoded data removed]"
          },
          "metadata": {
            "needs_background": "light"
          }
        }
      ]
    },
    {
      "cell_type": "code",
      "source": [
        "fig, ax = plt.subplots()\n",
        "ax.scatter(X_train[:,1], y_train)\n",
        "ax.scatter(X_test[:,1], y_test)\n",
        "\n",
        "w_hat       = ridge_qr_solve(X, y, 0)\n",
        "ax.plot(x,X.dot(w_hat))\n",
        "w_hat_l     = ridge_qr_solve(X, y, l_span[argmin(RSS_test)])\n",
        "ax.plot(x,X.dot(w_hat_l))\n",
        "ax.legend(['LS','best fit','train','test'])\n",
        "grid()\n"
      ],
      "metadata": {
        "colab": {
          "base_uri": "https://localhost:8080/",
          "height": 265
        },
        "id": "gEPD-0xK6a1r",
        "outputId": "e93d2cf7-bf99-407f-8fed-88e700d2bf11"
      },
      "execution_count": 93,
      "outputs": [
        {
          "output_type": "display_data",
          "data": {
            "text/plain": [
              "<Figure size 432x288 with 1 Axes>"
            ],
            "image/png": "[encoded data removed]"
          },
          "metadata": {
            "needs_background": "light"
          }
        }
      ]
    },
    {
      "cell_type": "markdown",
      "source": [
        "## Optional: ridge in sklearn package\n",
        "**Warning:** this is just for reference, you should not use it in HW. \n"
      ],
      "metadata": {
        "id": "KCcyKZwqAXC6"
      }
    },
    {
      "cell_type": "code",
      "source": [
        "from sklearn.preprocessing import PolynomialFeatures\n",
        "from sklearn.linear_model import Ridge\n",
        "from sklearn.preprocessing import MinMaxScaler\n",
        "from sklearn.metrics import mean_squared_error as mse\n",
        "\n",
        "\n",
        "xtrain, xtest, ytrain, ytest = train_test_split(x, y, test_size=0.2, random_state=42)\n",
        "\n",
        "# Rescaling data\n",
        "scaler = MinMaxScaler(feature_range=(-1, 1))\n",
        "Xtrain = scaler.fit_transform(xtrain.reshape(-1, 1))\n",
        "Xtest = scaler.transform(xtest.reshape(-1, 1))\n",
        "\n",
        "deg = 10\n",
        "l_span = np.logspace(-10, 1.3, 10)\n",
        "L = len(l_span)\n",
        "mse_train = np.empty(L)\n",
        "mse_test = np.empty(L)\n",
        "ytest_pred_stored = dict()\n",
        "for i, l in enumerate(l_span):\n",
        "    model = Ridge(alpha=l, fit_intercept=False)\n",
        "    poly_features = PolynomialFeatures(degree=deg, include_bias=False)\n",
        "    Xtrain_poly = poly_features.fit_transform(Xtrain)\n",
        "    model.fit(Xtrain_poly, ytrain)\n",
        "    ytrain_pred = model.predict(Xtrain_poly)\n",
        "    Xtest_poly = poly_features.transform(Xtest)\n",
        "    ytest_pred = model.predict(Xtest_poly)\n",
        "    mse_train[i] = mse(ytrain_pred, ytrain)\n",
        "    mse_test[i] = mse(ytest_pred, ytest)\n",
        "    ytest_pred_stored[l] = ytest_pred\n",
        "\n",
        "# Plot MSE vs degree\n",
        "fig, ax = plt.subplots()\n",
        "mask = [True] * L\n",
        "ax.plot(l_span[mask], mse_test[mask], color=\"r\", marker=\"x\", label=\"test\")\n",
        "ax.plot(l_span[mask], mse_train[mask], color=\"b\", marker=\"s\", label=\"train\")\n",
        "ax.set_xscale(\"log\")\n",
        "ax.legend(loc=\"upper right\", shadow=True)\n",
        "plt.xlabel(\"L2 regularizer\")\n",
        "plt.ylabel(\"mse\")\n",
        "plt.show()\n"
      ],
      "metadata": {
        "colab": {
          "base_uri": "https://localhost:8080/",
          "height": 283
        },
        "id": "qRGCcNM0Aj8Q",
        "outputId": "e158829b-1141-440a-fea7-72b5802b48f8"
      },
      "execution_count": 112,
      "outputs": [
        {
          "output_type": "display_data",
          "data": {
            "text/plain": [
              "<Figure size 432x288 with 1 Axes>"
            ],
            "image/png": "[encoded data removed]"
          },
          "metadata": {
            "needs_background": "light"
          }
        }
      ]
    },
    {
      "cell_type": "markdown",
      "source": [
        "## Cross-validation\n",
        "How to choose the parameter $\\lambda$? We can use the **hold-out** like before. \n",
        "However, if the size of the training set\n",
        "is small, leaving aside 20\\% for a validation set can result in an unreliable estimate of the model\n",
        "parameters.\n",
        "\n",
        "Another simple solution is **cross-validation (CV)**. \n",
        "- Split the training data into $K$-folds. \n",
        "\n",
        "- For each fold $k\\in \\{1, \\dots, K\\}$, we train on all the folds but the $k$th, and test on the $k$th, in a round-robin fashin. \n",
        "\n",
        "- The ERM is defined as \n",
        "\\begin{align}\n",
        "R_\\lambda^{\\text{CV}}= \\frac{1}{K}\\sum_{k=1}^K R_\\lambda(\\hat{\\mm{\\theta}}_\\lambda(\\c{D}_{-k}), \\c{D}_k)\n",
        "\\end{align}\n",
        "where $\\c{D}_k$ is the data in the $k$th fold and $\\c{D}_{-k}$ is all other data. \n",
        "\n",
        "\n",
        "If $K=N$, this method is called **leave-one-out cross validation**, since we train on $N-1$ iterms and test on the remaining one. \n",
        "\n",
        "<img src=\"https://github.com/yexf308/AppliedStatistics/blob/main/image/kfold.png?raw=true\" width=\"400\" />\n"
      ],
      "metadata": {
        "id": "9glIUV85P0WU"
      }
    }
  ]
}