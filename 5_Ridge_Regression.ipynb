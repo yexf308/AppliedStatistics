{
  "nbformat": 4,
  "nbformat_minor": 0,
  "metadata": {
    "colab": {
      "provenance": [],
      "authorship_tag": "ABX9TyMOdWMsL4K32YvixurgTKHS",
      "include_colab_link": true
    },
    "kernelspec": {
      "name": "python3",
      "display_name": "Python 3"
    },
    "language_info": {
      "name": "python"
    }
  },
  "cells": [
    {
      "cell_type": "markdown",
      "metadata": {
        "id": "view-in-github",
        "colab_type": "text"
      },
      "source": [
        "<a href=\"https://colab.research.google.com/github/yexf308/AppliedStatistics/blob/main/5_Ridge_Regression.ipynb\" target=\"_parent\"><img src=\"https://colab.research.google.com/assets/colab-badge.svg\" alt=\"Open In Colab\"/></a>"
      ]
    },
    {
      "cell_type": "code",
      "execution_count": null,
      "metadata": {
        "id": "SDOqCou14zea",
        "colab": {
          "base_uri": "https://localhost:8080/"
        },
        "outputId": "30b24851-daaa-40c6-f9f6-385edca68129"
      },
      "outputs": [
        {
          "output_type": "stream",
          "name": "stdout",
          "text": [
            "Populating the interactive namespace from numpy and matplotlib\n"
          ]
        }
      ],
      "source": [
        "%pylab inline \n",
        "import pandas as pd\n",
        "from scipy import linalg\n",
        "from itertools import combinations\n",
        "import scipy"
      ]
    },
    {
      "cell_type": "markdown",
      "source": [
        "$\\def\\m#1{\\mathbf{#1}}$\n",
        "$\\def\\mm#1{\\boldsymbol{#1}}$\n",
        "$\\def\\mb#1{\\mathbb{#1}}$\n",
        "$\\def\\c#1{\\mathcal{#1}}$\n",
        "$\\def\\mr#1{\\mathrm{#1}}$\n",
        "$\\newenvironment{rmat}{\\left[\\begin{array}{rrrrrrrrrrrrr}}{\\end{array}\\right]}$\n",
        "$\\newcommand\\brm{\\begin{rmat}}$\n",
        "$\\newcommand\\erm{\\end{rmat}}$\n",
        "$\\newenvironment{cmat}{\\left[\\begin{array}{ccccccccc}}{\\end{array}\\right]}$\n",
        "$\\newcommand\\bcm{\\begin{cmat}}$\n",
        "$\\newcommand\\ecm{\\end{cmat}}$"
      ],
      "metadata": {
        "id": "dilCiZIW_135"
      }
    },
    {
      "cell_type": "markdown",
      "source": [
        "# Ridge Regression\n",
        "The polynomial regression with too high of a degree may have overfitting issue. One solution is to reduced the degree of the polynomial. However, a more general solution is to penalize the magnitude of the regression coefficients.\n",
        "\n",
        "**Solution**: use MAP estimation with a zero-mean Gaussian prior on the weights, $p(\\m{w})=\\c{N}(\\m{w}|\\m{0},\\lambda^{-1}\\m{I}_D)$. This is **ridge regression** (Tikhonov regularization). Note $-\\log(p(\\m{w}))\\propto \\lambda \\|\\m{w}\\|_2^2$\n",
        "\n",
        "\\begin{align}\n",
        "\\hat{\\m w}_{\\text{map}} = \\arg\\min_{\\m{w}} \\left(\\|\\mathbf{X}\\mathbf{w}-\\mathbf{y}\\|_2^2+\\lambda\\|\\m{w}\\|_2^2\\right)\n",
        "\\end{align}\n",
        "where $\\lambda>0$ is the penalty parameter. Denote the loss function $\\ell(\\m{w},\\lambda) = \\|\\mathbf{X}\\mathbf{w}-\\mathbf{y}\\|_2^2+\\lambda\\|\\m{w}\\|_2^2$. It is strictly convex function so the solution exists and unique. \n",
        "\n",
        "-  $\\lambda=0$, reduce to least square. $\\lambda=+\\infty$,  $\\m w=\\m{0}$. The larger the value of $\\lambda$, the more\n",
        "the parameters are penalized for being large, and thus the less flexible the model. \n",
        "\n",
        "- The gradient is $\\nabla\\ell(\\mathbf{w},\\lambda)= 2(\\mathbf{X}^\\top\\mathbf{X} \\mathbf{w}-\\mathbf{X}^\\top\\mathbf{y}+\\lambda \\mathbf{w}) $ (why?)\n",
        "\n",
        "-  \\begin{align}\n",
        "\\hat{\\m{w}}_{\\text{map}}&=(\\m{X}^\\top\\m{X}+\\lambda \\m{I}_D)^{-1}\\m{X}^\\top \\m{y}\\\\\n",
        "&= (\\sum_{i=1}^N \\m{x}^{(i)}(\\m{x}^{(i)})^\\top +\\lambda \\m{I}_D)^{-1}\\left(\\sum_{i=1}^N y^{(i)}\\m{x}^{(i)} \\right) \n",
        "\\end{align}\n",
        " Note $\\m{X}^\\top\\m{X}+\\lambda \\m{I}_D$ is Positive definite. \n",
        "\n",
        "- The naive method is a bad idea. It can be slow and numerically unstable.  We can add “virtual data” to the training\n",
        "set to get\n",
        " $\\tilde{\\m{X}}=\\bcm \\m{X} \\\\ \\sqrt\\Lambda \\ecm$ and $\\tilde{\\m{y}}= \\bcm \\m{y} \\\\ \\m{0}_{D\\times 1} \\ecm$, where $\\sqrt{\\Lambda}\\in \\mb{R}^{D\\times D}$ is a diaginal matrix with $\\sqrt{\\lambda}$. \n",
        "In fact, $\\hat{\\m{w}}= (\\tilde{\\m{X}}^\\top \\tilde{\\m{X}})^{-1}\\tilde{\\m{X}}^\\top \\tilde{\\m{y}} $. \n",
        "Proof: \n",
        "\\begin{align}\n",
        "f(\\m{w},\\lambda)&= \\left(\\tilde{\\m{y}} - \\tilde{\\m{X}} \\m{w}\\right)^\\top\\left(\\tilde{\\m{y}} - \\tilde{\\m{X}} \\m{w}\\right) \\\\\n",
        "&=\\left( \\bcm \\m{y}-\\m{X}\\m{w} \\\\ -\\sqrt\\Lambda \\m{w} \\ecm \\right)^\\top\\left( \\bcm \\m{y}-\\m{X}\\m{w} \\\\ -\\sqrt\\Lambda \\m{w}\\ecm \\right) \\\\\n",
        "&= (\\m{y}-\\m{X}\\m{w})^\\top(\\m{y}-\\m{X}\\m{w}) + \\m{w}^\\top \\Lambda\\m{w} \\\\\n",
        "&=(\\m{y}-\\m{X}\\m{w})^\\top(\\m{y}-\\m{X}\\m{w}) + \\lambda\\m{w}^\\top \\m{w} = \\ell(\\m{w},\\lambda)\n",
        "\\end{align}\n",
        "\n",
        "\n",
        "\n",
        "\n"
      ],
      "metadata": {
        "id": "Bm8GslhX7JLK"
      }
    },
    {
      "cell_type": "code",
      "source": [
        "def ridge_qr_solve(X, y, l):\n",
        "    D         = X.shape[1]\n",
        "    sq_l      = diag(ones(D)*sqrt(l)) \n",
        "    X_tilde   = np.vstack([X, sq_l]) \n",
        "    y_tilde   = append(y, zeros(D)) \n",
        "    return np.dot(np.linalg.pinv(X_tilde), y_tilde)\n",
        "\n",
        "   # Q, R = np.linalg.qr(X_tilde)\n",
        "   # Qy = np.dot(Q.T, y_tilde)\n",
        "   # return scipy.linalg.solve_triangular(R, Qy)"
      ],
      "metadata": {
        "id": "M7T0Immzt7t5"
      },
      "execution_count": null,
      "outputs": []
    },
    {
      "cell_type": "code",
      "source": [
        "from sklearn.model_selection import train_test_split\n",
        "\n",
        "# same data as before \n",
        "np.random.seed(0)\n",
        "N = 75\n",
        "x = np.linspace(0.0, 20, N)\n",
        "X0 = x.reshape(N, 1)\n",
        "w = np.array([-1.5, 1 / 9.0])\n",
        "y = w[0] * x + w[1] * np.square(x)\n",
        "y = y + np.random.normal(0, 1, N) * 2\n",
        "\n",
        "\n",
        "# let's try  10th order polynomial \n",
        "d = 10\n",
        "X        = np.ones((N, 1))\n",
        "for i in range(1,d+1):\n",
        "  X   = np.hstack([X, X0**i])\n",
        "\n",
        "# use hold-out\n",
        "# we split the data into two parts: training and testing\n",
        "X_train, X_test, y_train, y_test = train_test_split(X, y, test_size=0.2, random_state=21)\n",
        "\n",
        "l_span   = [10**-3, 10**-2, 10**-1, 1, 10, 100, 1000, 10000, 50000]\n",
        "#l_span    = linspace(7000,15000,100)\n",
        "RSS_test = []\n",
        "w_store  = []\n",
        "for l in l_span:\n",
        "  w_hat     = ridge_qr_solve(X_train, y_train, l)\n",
        "  yhat_test = X_test.dot(w_hat)\n",
        "  w_store.append(w_hat)\n",
        "  RSS_test.append(norm(y_test-yhat_test)**2)\n",
        "\n",
        "\n",
        "fig, ax = plt.subplots()\n",
        "ax.scatter(log(l_span), log(RSS_test))\n",
        "ylabel('log RSS')\n",
        "xlabel('log $\\lambda$')\n",
        "title('log RSS Value for $\\log\\lambda$ Values')\n",
        "grid()\n",
        "print('min of RSS in lambda is', min(RSS_test))  \n",
        "print('optimal lambda is ', l_span[argmin(RSS_test)])\n",
        "# your hold-out will not work well when N is small because it flucuates a lot. "
      ],
      "metadata": {
        "colab": {
          "base_uri": "https://localhost:8080/",
          "height": 335
        },
        "id": "yzfcJ4O1sM3H",
        "outputId": "30b98505-b8f0-4617-edaa-b5485607f81a"
      },
      "execution_count": null,
      "outputs": [
        {
          "output_type": "stream",
          "name": "stdout",
          "text": [
            "min of RSS in lambda is 84.83198333966652\n",
            "optimal lambda is  10\n"
          ]
        },
        {
          "output_type": "display_data",
          "data": {
            "text/plain": [
              "<Figure size 432x288 with 1 Axes>"
            ],
            "image/png": "[encoded data removed]"
          },
          "metadata": {
            "needs_background": "light"
          }
        }
      ]
    },
    {
      "cell_type": "code",
      "source": [
        "fig, ax = plt.subplots()\n",
        "ax.scatter(X_train[:,1], y_train)\n",
        "ax.scatter(X_test[:,1], y_test)\n",
        "\n",
        "w_hat       = ridge_qr_solve(X, y, 0)\n",
        "ax.plot(x,X.dot(w_hat))\n",
        "w_hat_l     = ridge_qr_solve(X, y, l_span[argmin(RSS_test)])\n",
        "ax.plot(x,X.dot(w_hat_l))\n",
        "ax.legend(['LS','best fit','train','test'])\n",
        "grid()\n"
      ],
      "metadata": {
        "colab": {
          "base_uri": "https://localhost:8080/",
          "height": 265
        },
        "id": "gEPD-0xK6a1r",
        "outputId": "a1ac3355-606e-49bf-ab47-0a80715ac87b"
      },
      "execution_count": null,
      "outputs": [
        {
          "output_type": "display_data",
          "data": {
            "text/plain": [
              "<Figure size 432x288 with 1 Axes>"
            ],
            "image/png": "[encoded data removed]"
          },
          "metadata": {
            "needs_background": "light"
          }
        }
      ]
    },
    {
      "cell_type": "code",
      "source": [
        "X # scales are so different in different features"
      ],
      "metadata": {
        "id": "cOaEy8ZKTT89"
      },
      "execution_count": null,
      "outputs": []
    },
    {
      "cell_type": "markdown",
      "source": [
        "## Optional: ridge in sklearn package\n",
        "**Warning:** this is just for reference, you should not use it in HW. \n"
      ],
      "metadata": {
        "id": "KCcyKZwqAXC6"
      }
    },
    {
      "cell_type": "code",
      "source": [
        "l_span"
      ],
      "metadata": {
        "colab": {
          "base_uri": "https://localhost:8080/"
        },
        "id": "m_q1EfXFHhMA",
        "outputId": "3d996b61-81bb-44df-f1e1-0ae7bc1f9336"
      },
      "execution_count": null,
      "outputs": [
        {
          "output_type": "execute_result",
          "data": {
            "text/plain": [
              "[0.001, 0.01, 0.1, 1, 10, 100, 1000, 10000, 50000]"
            ]
          },
          "metadata": {},
          "execution_count": 5
        }
      ]
    },
    {
      "cell_type": "code",
      "source": [
        "from sklearn.preprocessing import PolynomialFeatures\n",
        "from sklearn.linear_model import Ridge\n",
        "from sklearn.preprocessing import MinMaxScaler\n",
        "from sklearn.metrics import mean_squared_error as mse\n",
        "\n",
        "\n",
        "xtrain, xtest, ytrain, ytest = train_test_split(x, y, test_size=0.2, random_state=20)\n",
        "\n",
        "# Rescaling data\n",
        "scaler = MinMaxScaler(feature_range=(-1, 1))\n",
        "Xtrain = scaler.fit_transform(xtrain.reshape(-1, 1))\n",
        "Xtest = scaler.transform(xtest.reshape(-1, 1))\n",
        "\n",
        "deg = 10\n",
        "l_span = np.logspace(-10, 1.3, 10)\n",
        "L = len(l_span)\n",
        "mse_train = np.empty(L)\n",
        "mse_test = np.empty(L)\n",
        "ytest_pred_stored = dict()\n",
        "for i, l in enumerate(l_span):\n",
        "    model = Ridge(alpha=l, fit_intercept=False)\n",
        "    poly_features = PolynomialFeatures(degree=deg, include_bias=True)\n",
        "    Xtrain_poly = poly_features.fit_transform(Xtrain)\n",
        "    model.fit(Xtrain_poly, ytrain)\n",
        "    ytrain_pred = model.predict(Xtrain_poly)\n",
        "    Xtest_poly = poly_features.transform(Xtest)\n",
        "    ytest_pred = model.predict(Xtest_poly)\n",
        "    mse_train[i] = mse(ytrain_pred, ytrain)\n",
        "    mse_test[i] = mse(ytest_pred, ytest)\n",
        "    ytest_pred_stored[l] = ytest_pred\n",
        "\n",
        "# Plot MSE vs lambda\n",
        "fig, ax = plt.subplots()\n",
        "mask = [True] * L\n",
        "ax.plot(l_span[mask], mse_test[mask], color=\"r\", marker=\"x\", label=\"test\")\n",
        "ax.plot(l_span[mask], mse_train[mask], color=\"b\", marker=\"s\", label=\"train\")\n",
        "ax.set_xscale(\"log\")\n",
        "ax.legend(loc=\"upper right\", shadow=True)\n",
        "plt.xlabel(\"L2 regularizer\")\n",
        "plt.ylabel(\"mse\")\n",
        "plt.show()\n"
      ],
      "metadata": {
        "colab": {
          "base_uri": "https://localhost:8080/",
          "height": 286
        },
        "id": "qRGCcNM0Aj8Q",
        "outputId": "b2cd92a7-d3ad-49f1-c011-ebb08e60e345"
      },
      "execution_count": null,
      "outputs": [
        {
          "output_type": "display_data",
          "data": {
            "text/plain": [
              "<Figure size 432x288 with 1 Axes>"
            ],
            "image/png": "[encoded data removed]"
          },
          "metadata": {
            "needs_background": "light"
          }
        }
      ]
    },
    {
      "cell_type": "markdown",
      "source": [
        "## K-Fold Cross-validation\n",
        "How to choose the parameter $\\lambda$? We can use the **hold-out** like before. \n",
        "However, if the size of the training set\n",
        "is small, leaving aside 20\\% for a validation set can result in an unreliable estimate of the model\n",
        "parameters.\n",
        "\n",
        "Another simple solution is **K-fold cross-validation (CV)**. \n",
        "- Split the total data set into training and test dataset, e.g. 90\\%, 10\\%. \n",
        "\n",
        "- Split the training data into $K$ fold. \n",
        "\n",
        "\n",
        "- For each fold $k\\in \\{1, \\dots, K\\}$, we train on all the folds but the $k$th, and validate on the $k$th, in a round-robin fashin. \n",
        "\n",
        "- The ERM is defined as \n",
        "\\begin{align}\n",
        "R_\\lambda^{\\text{CV}}= \\frac{1}{K}\\sum_{k=1}^K R_\\lambda(\\hat{\\mm{\\theta}}_\\lambda(\\c{D}_{-k}), \\c{D}_k)\n",
        "\\end{align}\n",
        "where $\\c{D}_k$ is the data in the $k$th fold and $\\c{D}_{-k}$ is all other data. We minimize the ERM by picking the optimal hyperparameter $\\hat \\lambda$,\n",
        "\\begin{align}\n",
        "\\hat\\lambda = \\arg\\min_{\\lambda}R_\\lambda^{\\text{CV}}\n",
        "\\end{align}\n",
        "\n",
        "- Finally we combine all the training data,\n",
        "and re-estimate the model parameters using \n",
        "\\begin{align}\n",
        "\\hat{\\mm\\theta} =\\arg\\min_{\\mm\\theta} R_{\\hat \\lambda}(\\mm\\theta, \\c{D}).\n",
        "\\end{align}\n",
        "and apply this on the test dataset to assess the accuracy of the model. \n",
        "\n",
        "In cross-validation: **NEVER train or choose parameters based on test data**\n",
        "\n",
        "\n",
        "If $K=N$, this method is called **leave-one-out cross validation**, since we train on $N-1$ items and test on the remaining one. This could be very expensive when $N$ is large. \n",
        "\n",
        "<img src=\"https://github.com/yexf308/AppliedStatistics/blob/main/image/kfold.png?raw=true\" width=\"400\" />\n"
      ],
      "metadata": {
        "id": "9glIUV85P0WU"
      }
    },
    {
      "cell_type": "code",
      "source": [
        "# we add more test data, 200 datapoints. \n",
        "xtest = np.arange(0.0, 20, 0.1)\n",
        "N     = xtest.shape[0]\n",
        "Xtest0 = xtest.reshape(N, 1)\n",
        "w = np.array([-1.5, 1 / 9.0])\n",
        "ytest = w[0] * xtest + w[1] * np.square(xtest)\n",
        "ytest = ytest + np.random.normal(0, 1, N) * 2\n",
        "\n",
        "d = 10\n",
        "Xtest        = np.ones((N, 1))\n",
        "for i in range(1,d+1):\n",
        "  Xtest   = np.hstack([Xtest, Xtest0**i])"
      ],
      "metadata": {
        "id": "iA6fF5ZcJmIT"
      },
      "execution_count": null,
      "outputs": []
    },
    {
      "cell_type": "code",
      "source": [
        "print(X)"
      ],
      "metadata": {
        "id": "M8ocNcCJS91s"
      },
      "execution_count": null,
      "outputs": []
    },
    {
      "cell_type": "code",
      "source": [
        "# feature scaling. This is not perfectly correct! We will talk about it in Notebook #12. \n",
        "# Rescaling data with min and max\n",
        "def MinMaxScaler(X):\n",
        "  N = X.shape[0]\n",
        "  d = X.shape[1] \n",
        "  for i in range(d):\n",
        "    Xi = X[:,i]\n",
        "    if max(Xi) - min(Xi) != 0:\n",
        "      X[:,i] = (Xi - min(Xi) )/(max(Xi) - min(Xi))\n",
        "    else:\n",
        "      X[:,i] = ones(N)\n",
        "        \n",
        "\n",
        "  return X  "
      ],
      "metadata": {
        "id": "Jfoh7p3COo1a"
      },
      "execution_count": null,
      "outputs": []
    },
    {
      "cell_type": "code",
      "source": [
        "# this is not perfectly correct, we will talk about it later. \n",
        "Xtrain_s = MinMaxScaler(X)\n",
        "Xtest_s  = MinMaxScaler(Xtest)\n"
      ],
      "metadata": {
        "id": "QnA2b2v9Rjg8"
      },
      "execution_count": null,
      "outputs": []
    },
    {
      "cell_type": "code",
      "source": [
        "K_FOLD = 20 # LOOCV\n",
        "\n",
        "N_TRAIN = Xtrain_s.shape[0]\n",
        "idx = np.random.permutation(N_TRAIN)\n",
        "N_PER_FOLD = N_TRAIN // K_FOLD\n",
        "\n",
        "l_span    = np.logspace(-5,-2,100)\n",
        "MSE       = np.zeros(len(l_span))\n",
        "for l_idx, l in enumerate(l_span):\n",
        "  for i in range(K_FOLD):\n",
        "    # CRUCIAL: we use slicing to calculate the index train set and val set should use!\n",
        "    # Using the ith fold as the validation set\n",
        "    VAL_idx   = idx[i * N_PER_FOLD : (i+1) * N_PER_FOLD]\n",
        "    # Using the rest as the train set\n",
        "    TRAIN_idx = np.concatenate((idx[:i * N_PER_FOLD], idx[(i + 1) * N_PER_FOLD:]))\n",
        "    ytrain_i  = y[TRAIN_idx]\n",
        "    Xtrain_i  = Xtrain_s[TRAIN_idx]\n",
        "    yval_i    = y[VAL_idx]\n",
        "    Xval_i    = Xtrain_s[VAL_idx]\n",
        "    w_hat     = ridge_qr_solve(Xtrain_i, ytrain_i, l)\n",
        "    yval_i_hat  = Xval_i.dot(w_hat) \n",
        "    # accumulate error from this fold of validation set\n",
        "    MSE[l_idx] = MSE[l_idx] + norm(yval_i-yval_i_hat)**2/len(yval_i)\n",
        "\n",
        "  MSE[l_idx] = MSE[l_idx]/K_FOLD\n",
        "\n",
        "\n",
        "\n",
        "\n",
        "\n",
        "fig, ax = plt.subplots()\n",
        "ax.scatter(l_span, MSE)\n",
        "ylabel('MSE')\n",
        "xlabel('$\\lambda$')\n",
        "title('MSE Value for $\\lambda$ Values')\n",
        "grid()\n",
        "print('min of MSE in lambda is', min(MSE))  \n",
        "print('optimal lambda is ', l_span[argmin(MSE)])\n",
        "\n",
        "\n",
        "\n",
        "\n"
      ],
      "metadata": {
        "colab": {
          "base_uri": "https://localhost:8080/",
          "height": 332
        },
        "id": "gti9cCrHKtVj",
        "outputId": "bd5725e6-b49c-4a3c-a18c-31852cd7a0e5"
      },
      "execution_count": null,
      "outputs": [
        {
          "output_type": "stream",
          "name": "stdout",
          "text": [
            "min of MSE in lambda is 3.6764771165195027\n",
            "optimal lambda is  0.005336699231206312\n"
          ]
        },
        {
          "output_type": "display_data",
          "data": {
            "text/plain": [
              "<Figure size 432x288 with 1 Axes>"
            ],
            "image/png": "[encoded data removed]"
          },
          "metadata": {
            "needs_background": "light"
          }
        }
      ]
    },
    {
      "cell_type": "code",
      "source": [
        "# in order to compare the performance, you should use mean-squared-error (MSE)\n",
        "l_best = l_span[argmin(MSE)]\n",
        "w_hat     = ridge_qr_solve(Xtrain_s, y, l_best)\n",
        "y_hat     = Xtrain_s.dot(w_hat) \n",
        "print('Train MSE =', norm(y-y_hat)**2/len(y))\n",
        "y_test_hat = Xtest_s.dot(w_hat)\n",
        "print('Test MSE =', norm(ytest-y_test_hat)**2/len(ytest))\n",
        "# if your Test MSE is slightly larger than Train MSE, it is good.\n",
        "# if your Test MSE is much much larger than Train MSE, it may have overfitting issue. "
      ],
      "metadata": {
        "colab": {
          "base_uri": "https://localhost:8080/"
        },
        "id": "fcc04vxGTDl4",
        "outputId": "2ba3c1bb-c983-4c3a-aa2c-55287778c29a"
      },
      "execution_count": null,
      "outputs": [
        {
          "output_type": "stream",
          "name": "stdout",
          "text": [
            "Train MSE = 3.6010477549398554\n",
            "Test MSE = 3.9638230650453217\n"
          ]
        }
      ]
    },
    {
      "cell_type": "code",
      "source": [
        "w_hat\n",
        "# this is not close to w_true"
      ],
      "metadata": {
        "colab": {
          "base_uri": "https://localhost:8080/"
        },
        "id": "_da2cXIHW-y3",
        "outputId": "647ed813-5cac-4d92-bc9a-a3e318fae50e"
      },
      "execution_count": null,
      "outputs": [
        {
          "output_type": "execute_result",
          "data": {
            "text/plain": [
              "array([  1.46226897, -30.34940943,  28.92304445,  16.66294877,\n",
              "         3.62453629,  -2.63988756,  -4.17006353,  -3.15756907,\n",
              "        -0.9817216 ,   1.55933949,   4.00481818])"
            ]
          },
          "metadata": {},
          "execution_count": 23
        }
      ]
    },
    {
      "cell_type": "code",
      "source": [
        "# when you plot the data, you should use Xtest instead of Xtest_scaled. \n",
        "fig, ax = plt.subplots()\n",
        "ax.scatter(X[:,1], y)\n",
        "ax.plot(Xtest[:,1],y_test_hat)\n",
        "ax.legend(['LOOCV best fit','train'])\n",
        "grid()"
      ],
      "metadata": {
        "colab": {
          "base_uri": "https://localhost:8080/",
          "height": 265
        },
        "id": "nMBEtamrUy2C",
        "outputId": "d8b89226-7e1c-433e-a311-854fd223be07"
      },
      "execution_count": null,
      "outputs": [
        {
          "output_type": "display_data",
          "data": {
            "text/plain": [
              "<Figure size 432x288 with 1 Axes>"
            ],
            "image/png": "[encoded data removed]"
          },
          "metadata": {
            "needs_background": "light"
          }
        }
      ]
    },
    {
      "cell_type": "markdown",
      "source": [
        "# Summary\n",
        "- Hold out: \n",
        "  - **Setup**: Split up your dataset into a ‘train’ $\\mathcal{D}_{train}$ and ‘validation/test’set $\\mathcal{D}_{valid}$. Often we use about 80% of the data for the training set, and 20% for the validation/test set.\n",
        "  - **Fit**: We fit the model on $\\mathcal{D}_{train}$ (for each setting of $\\lambda$) and then evaluate its\n",
        "performance on $\\mathcal{D}_{valid}$. We then pick the value of $\\lambda$ that results in the best validation performance.\n",
        "\n",
        " - **Pro**: Easy to setup and runs fast.\n",
        "\n",
        " - **Con**: When data size is small, $\\lambda^*$ is not reliable, i.e., it may vary a lot depending on how to split the dataset. The test/validation error is not reliable since we use this part of the dataset during the fitting. \n",
        "\n",
        "- Cross-validation: \n",
        "  - **Setup**: Split up your dataset into a ‘train’ $\\mathcal{D}_{train}$, ‘validation' $\\mathcal{D}_{valid}$ and 'test' $\\mathcal{D}_{test}$ set. Often we use about 80% of the data for the training set, and 10% for the validation set and 10% for test set.\n",
        "  - **Fit**: We fit the model on $\\mathcal{D}_{train}$ (for each setting of $\\lambda$) and then evaluate its\n",
        "performance on $\\mathcal{D}_{valid}$. We then pick the value of $\\lambda$ that results in the best validation performance. After we find the best $\\lambda$ in the model, apply it to the testing dataset $\\mathcal{D}_{test}$ to find test error. \n",
        "\n",
        " - **Pro:** The test error is reliable since we never use the test data during building up the model. \n",
        "\n",
        " - **Con:** Same as hold out. The setup and algorithm is more complicated. \n",
        "\n",
        "\n",
        "- $k$-fold Cross-validation:\n",
        " - **Setup**: Split up your dataset into a ‘train’ $\\mathcal{D}_{train}$ and ‘test’set $\\mathcal{D}_{test}$. Often we use about 90% of the data for the training set, and 10% for the test set.\n",
        "\n",
        " - **Fit:** we split the training data into $K$ folds; then, for each fold $k\\in \\{1, \\dots, K\\}$. we train on all the folds but the $k$’th, and validate on the $k$’th, in a round-robin fashion. We use the averaged error of the $K$-fold pick the value of $\\lambda$. \n",
        "\n",
        " - **Pro**: $\\lambda^*$ is now reliable and test error is also reliable. \n",
        " - **Con**: The setup and algorithm is even more complicated. The time cost will be enormous if the dataset is large, even $K$ is relatively small. "
      ],
      "metadata": {
        "id": "qWHNDM3jqecX"
      }
    },
    {
      "cell_type": "markdown",
      "source": [
        "## Question to think\n",
        "\n",
        "### Q1. Stock price\n",
        "- You wish to predict the stock price of X given\n",
        "historical stock price data. \n",
        "\n",
        "- You use all daily stock price up to Jan 4, 2022 as\n",
        "TRAIN and Jan 5, 2022 - April 13, 2022 as TEST. \n",
        "\n",
        "- What’s wrong with this procedure?\n",
        "\n",
        "\n",
        "### Q2. Feature selection and then cross validation\n",
        "- Given 10,000-dimensional data and $N$ examples, we\n",
        "pick a subset of 50 dimensions that have the highest\n",
        "correlation with labels in the **training set**: \n",
        "\\begin{align}\n",
        "\\text{50 indices $j$ that have largest} \\frac{|\\sum_{i=1}^N x_{j}^{(i)}y^{(i)}|}{\\sqrt{\\sum_{i=1}^N}(x_{j}^{(i)})^2 }\n",
        "\\end{align}\n",
        "\n",
        "- After picking our 50 features, we then use CV with\n",
        "the **training set** to train ridge regression with\n",
        "regularization $\\lambda$\n",
        "\n",
        "- What’s wrong with this procedure?\n",
        "\n"
      ],
      "metadata": {
        "id": "CUL1YSQ77SwK"
      }
    }
  ]
}