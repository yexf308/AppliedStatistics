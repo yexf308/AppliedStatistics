{
  "cells": [
    {
      "cell_type": "markdown",
      "metadata": {
        "id": "view-in-github",
        "colab_type": "text"
      },
      "source": [
        "<a href=\"https://colab.research.google.com/github/yexf308/AppliedStatistics/blob/main/11_Ensemble_Methods.ipynb\" target=\"_parent\"><img src=\"https://colab.research.google.com/assets/colab-badge.svg\" alt=\"Open In Colab\"/></a>"
      ]
    },
    {
      "cell_type": "code",
      "execution_count": 1,
      "metadata": {
        "id": "sNFnS4fNJWUD",
        "outputId": "304c1138-2a0d-4b94-fea1-531861825865",
        "colab": {
          "base_uri": "https://localhost:8080/"
        }
      },
      "outputs": [
        {
          "output_type": "stream",
          "name": "stdout",
          "text": [
            "Populating the interactive namespace from numpy and matplotlib\n"
          ]
        }
      ],
      "source": [
        "%pylab inline \n",
        "import pandas as pd\n",
        "from scipy import linalg\n",
        "from itertools import combinations\n",
        "import scipy"
      ]
    },
    {
      "cell_type": "markdown",
      "metadata": {
        "id": "gOeQxv0lJlCg"
      },
      "source": [
        "$\\def\\m#1{\\mathbf{#1}}$\n",
        "$\\def\\mm#1{\\boldsymbol{#1}}$\n",
        "$\\def\\mb#1{\\mathbb{#1}}$\n",
        "$\\def\\c#1{\\mathcal{#1}}$\n",
        "$\\def\\mr#1{\\mathrm{#1}}$\n",
        "$\\newenvironment{rmat}{\\left[\\begin{array}{rrrrrrrrrrrrr}}{\\end{array}\\right]}$\n",
        "$\\newcommand\\brm{\\begin{rmat}}$\n",
        "$\\newcommand\\erm{\\end{rmat}}$\n",
        "$\\newenvironment{cmat}{\\left[\\begin{array}{ccccccccc}}{\\end{array}\\right]}$\n",
        "$\\newcommand\\bcm{\\begin{cmat}}$\n",
        "$\\newcommand\\ecm{\\end{cmat}}$\n"
      ]
    },
    {
      "cell_type": "markdown",
      "metadata": {
        "id": "0HfEekl3Kn0K"
      },
      "source": [
        "This notebook is based on Eric Eaton's slides and Hands on Machine learning textbook. "
      ]
    },
    {
      "cell_type": "markdown",
      "metadata": {
        "id": "qNX99UI-JpYp"
      },
      "source": [
        "# Ensemble Learning\n",
        "- Suppose you pose a complex question to thousands of random people, then aggregate\n",
        "their answers. In many cases you will find that this aggregated answer is better than\n",
        "an expert’s answer. This is called the **wisdom of the crowd**. S\n",
        "\n",
        "- Similarly, if you aggregate\n",
        "the predictions of a group of predictors (such as classifiers or regressors), you will\n",
        "often get better predictions than with the best individual predictor. \n",
        "\n",
        "- A group of predictors is called an **ensemble**; thus, this technique is called **Ensemble Learning**, and an Ensemble Learning algorithm is called an **Ensemble method**.\n",
        "\n",
        "\n",
        "Consider a set of classifiers $h_1, h_2,\\dots, h_L$.\n",
        "**Idea**: Construct a classifier $H(\\mathbf{x})$ that combines the\n",
        "individual decisions of $h_1, h_2, \\dots, h_L$. \n",
        "\n",
        "- Could have the member classifiers vote, such as majority rule. \n",
        "\n",
        "- Could use different members for different regions of the\n",
        "instance space (based on the performance). \n",
        "\n",
        "- Even if each classifier is a **weak learner**\n",
        "(meaning it does only slightly better than random guessing), the ensemble can still be\n",
        "a **strong learner** (achieving high accuracy), provided there are a sufficient number of\n",
        "weak learners in the ensemble, and they are sufficiently diverse.\n",
        "\n",
        "Successful ensembles require **diversity**,\n",
        "\n",
        "- Classifiers should make different mistakes.\n",
        "\n",
        "- Can have different types of base learners. \n",
        "- We should train the dataset using very different algorithms. \n",
        "\n",
        "## Voting classifiers\n",
        "### 1. Combining Classifiers: Averaging\n",
        "Simple majority rule/uniform averaging. \n",
        "\n",
        "<img src=\"https://github.com/yexf308/AppliedStatistics/blob/main/image/ensemble1.png?raw=true\" width=\"400\" />\n",
        "\n",
        "### 2. Combining Classifiers: Weighted Average\n",
        "Coefficients of individual members are trained using\n",
        "a validation set. Or if all classifiers are able to estimate class probabilities, you can averaged over all the individual classifier by giving more weight to highly confident votes. \n",
        "\n",
        "<img src=\"https://github.com/yexf308/AppliedStatistics/blob/main/image/ensemble2.png?raw=true\" width=\"400\" />\n",
        "\n",
        "### 3. Combining Classifiers: Gating\n",
        "Coefficients of individual members depend on input and train gating function via validation set. \n",
        "\n",
        "<img src=\"https://github.com/yexf308/AppliedStatistics/blob/main/image/ensemble3.png?raw=true\" width=\"400\" />\n",
        "\n",
        "### 4. Combining Classifiers: Stacking\n",
        "\n",
        "Predictions of 1st layer used as input to 2nd layer and train 2nd layer on validation set.\n",
        "\n",
        "<img src=\"https://github.com/yexf308/AppliedStatistics/blob/main/image/ensemble4.png?raw=true\" width=\"400\" />\n"
      ]
    },
    {
      "cell_type": "code",
      "execution_count": 2,
      "metadata": {
        "id": "1hVmztDUlzaW"
      },
      "outputs": [],
      "source": [
        "from sklearn.datasets import make_moons\n",
        "from sklearn.ensemble import RandomForestClassifier, VotingClassifier\n",
        "from sklearn.linear_model import LogisticRegression\n",
        "from sklearn.model_selection import train_test_split\n",
        "from sklearn.svm import SVC"
      ]
    },
    {
      "cell_type": "code",
      "execution_count": 3,
      "metadata": {
        "id": "UgIcgTNXlzac"
      },
      "outputs": [],
      "source": [
        "X, y = make_moons(n_samples=500, noise=0.30, random_state=42)\n",
        "X_train, X_test, y_train, y_test = train_test_split(X, y, random_state=42)"
      ]
    },
    {
      "cell_type": "code",
      "execution_count": 4,
      "metadata": {
        "id": "tv2WQChelzah",
        "outputId": "017a3ba2-c907-490c-bc44-6e3dcda8df91",
        "colab": {
          "base_uri": "https://localhost:8080/",
          "height": 265
        }
      },
      "outputs": [
        {
          "output_type": "display_data",
          "data": {
            "text/plain": [
              "<Figure size 432x288 with 1 Axes>"
            ],
            "image/png": "[encoded data removed]"
          },
          "metadata": {
            "needs_background": "light"
          }
        }
      ],
      "source": [
        "plt.scatter(X_train[:,0],X_train[:,1],c=y_train)\n",
        "plt.show()"
      ]
    },
    {
      "cell_type": "code",
      "execution_count": 5,
      "metadata": {
        "id": "dBJnbP9Jlzao",
        "outputId": "e146db0b-e672-49fa-c5b3-a228d6067ede",
        "colab": {
          "base_uri": "https://localhost:8080/"
        }
      },
      "outputs": [
        {
          "output_type": "execute_result",
          "data": {
            "text/plain": [
              "VotingClassifier(estimators=[('lr', LogisticRegression(random_state=42)),\n",
              "                             ('rf', RandomForestClassifier(random_state=42)),\n",
              "                             ('svc', SVC(random_state=42))])"
            ]
          },
          "metadata": {},
          "execution_count": 5
        }
      ],
      "source": [
        "# approach 1: Hard voting\n",
        "voting_clf = VotingClassifier(\n",
        "estimators=[('lr', LogisticRegression(random_state=42)),\n",
        "('rf', RandomForestClassifier(random_state=42)),\n",
        "('svc', SVC(random_state=42))\n",
        "]\n",
        ")\n",
        "voting_clf.fit(X_train, y_train)"
      ]
    },
    {
      "cell_type": "code",
      "execution_count": 6,
      "metadata": {
        "id": "oU0SU0rzlzaw",
        "outputId": "3917c69a-97d3-405e-ef5d-c4e5756e9516",
        "colab": {
          "base_uri": "https://localhost:8080/"
        }
      },
      "outputs": [
        {
          "output_type": "stream",
          "name": "stdout",
          "text": [
            "lr = 0.864\n",
            "rf = 0.896\n",
            "svc = 0.896\n"
          ]
        }
      ],
      "source": [
        "for name, clf in voting_clf.named_estimators_.items():\n",
        "    print(name, \"=\", clf.score(X_test, y_test))"
      ]
    },
    {
      "cell_type": "code",
      "execution_count": 7,
      "metadata": {
        "id": "6ym-fng7lza3",
        "outputId": "893b6440-22ea-4730-e8ee-364d78af7ca2",
        "colab": {
          "base_uri": "https://localhost:8080/"
        }
      },
      "outputs": [
        {
          "output_type": "execute_result",
          "data": {
            "text/plain": [
              "array([1])"
            ]
          },
          "metadata": {},
          "execution_count": 7
        }
      ],
      "source": [
        "voting_clf.predict(X_test[:1])"
      ]
    },
    {
      "cell_type": "code",
      "execution_count": 8,
      "metadata": {
        "id": "aKMwjfyXlza-",
        "outputId": "6fbab0f7-a485-4451-ec00-8435eb35d4fa",
        "colab": {
          "base_uri": "https://localhost:8080/"
        }
      },
      "outputs": [
        {
          "output_type": "execute_result",
          "data": {
            "text/plain": [
              "[array([1]), array([1]), array([0])]"
            ]
          },
          "metadata": {},
          "execution_count": 8
        }
      ],
      "source": [
        "[clf.predict(X_test[:1]) for clf in voting_clf.estimators_]"
      ]
    },
    {
      "cell_type": "code",
      "execution_count": 9,
      "metadata": {
        "id": "0R0CoLq2lzbE",
        "outputId": "d2ce7c25-dfad-49b3-94b0-fe8e30ae2769",
        "colab": {
          "base_uri": "https://localhost:8080/"
        }
      },
      "outputs": [
        {
          "output_type": "execute_result",
          "data": {
            "text/plain": [
              "0.912"
            ]
          },
          "metadata": {},
          "execution_count": 9
        }
      ],
      "source": [
        "voting_clf.score(X_test, y_test)"
      ]
    },
    {
      "cell_type": "code",
      "execution_count": 10,
      "metadata": {
        "id": "9Yak_PtslzbL",
        "outputId": "9cffee11-f51d-4e49-a87a-d5ecd4606943",
        "colab": {
          "base_uri": "https://localhost:8080/"
        }
      },
      "outputs": [
        {
          "output_type": "execute_result",
          "data": {
            "text/plain": [
              "0.92"
            ]
          },
          "metadata": {},
          "execution_count": 10
        }
      ],
      "source": [
        "# approach 2: soft voting\n",
        "# the SVC class by default the predict_proba function is set to false. \n",
        "voting_clf.voting = \"soft\"\n",
        "voting_clf.named_estimators[\"svc\"].probability = True\n",
        "voting_clf.fit(X_train, y_train)\n",
        "voting_clf.score(X_test, y_test)"
      ]
    },
    {
      "cell_type": "markdown",
      "source": [
        "## Bagging and Random Forest\n",
        "- **Bagging**(bootstrap aggregating). Averaged trees trained\n",
        "on bootstrapped datasets that\n",
        "used all $p$ variables.\n",
        "\n",
        "- **Random Forest**: Averaged trees\n",
        "trained on bootstrapped datasets\n",
        "that used $m< p$ random variables.\n",
        "\n",
        "\n",
        "Both methods are  **low bias, low variance**. But random forests have greater tree diversity, which (again) trades a higher bias for a lower variance,\n",
        "generally yielding an overall better model.\n",
        "\n",
        "Remember the decision tree can be easily overfitted, but has low bias. The idea of random forest is to reduce variance by\n",
        "construct a lot of “lightly correlated”\n",
        "trees and average them. \n",
        "\n",
        "\n",
        "### Random Forest Algorithm for Classification/Regression\n",
        "### Training\n",
        "We will constrict $B$ decision trees. \n",
        "\n",
        "For $b=1$ to $B$:\n",
        "- Draw a bootstrap sample $\\m{Z}^*$ of size $N$ from the training data (sampling $N$ instances with replacement).  \n",
        "\n",
        "- Grow a random forest tree $T_b$ to the bootstrapped data, by recursively repeating the following steps for each terminal node of tree, until the minimum node size $n_\\min$ is reached. \n",
        "  - Select $m$ features at random from $p$ features. (for regression, $m=\\min(5, \\lfloor p/3 \\rfloor)$ and for classification, $m=\\lfloor \\sqrt{p}\\rfloor$). **If we select all $p$ features, this becomes \"bagging\"!**\n",
        "  - Pick the best variable/split point among $m$ features. \n",
        "  - Split the node into two sibling nodes. \n",
        "\n",
        "- Output the ensemble of trees $\\{T_b\\}_{b=1}^B$. \n",
        "\n",
        "\n",
        "\n",
        "Note: With this bootstrapping process, it can be shown **mathematically** that only\n",
        "about 63% of the training instances are sampled on average for each decision tree.  The\n",
        "remaining 37% of the training instances that are not sampled are called out-of-bag (oob) instances. These oob instances are automatically becomes validation set. \n",
        "\n",
        "### Prediction\n",
        "At a new point $\\m{x}$,\n",
        "\n",
        "- **Regression:** $\\hat{f}_{rf}^B(\\m{x})= \\frac{1}{B}\\sum_{b=1}^B T_b(\\m{x}) $. \n",
        "\n",
        "- **Classification:** Let $\\hat{C}_b(\\m{x})$ be the class prediction of $b$th random forest tree, then $\\hat{C}_{rf}^B(\\m{x})= \\text{majority}\\{\\hat{C}_b(\\m{x})\\}_{b=1}^B$. \n",
        "\n",
        "\n",
        "<img src=\"https://github.com/yexf308/AppliedStatistics/blob/main/image/rf.png?raw=true\" width=\"600\" />\n",
        "\n",
        "\n",
        "A  bit theory here, \n",
        "given $Y_1, \\dots, Y_B$ with the same mean $\\mu$ and the same variance $\\sigma^2$, but they are all weakly correlated (i.e., they are not independent), $\\mb{E}[(Y_i-\\mu)(Y_j-\\mu)]= \\rho \\sigma^2$. \n",
        "\n",
        "So $\\mb{E}[(\\frac{1}{B}\\sum_{i=1}^B Y_i-\\mu)^2]=?$\n"
      ],
      "metadata": {
        "id": "Brupxl9coa2-"
      }
    },
    {
      "cell_type": "markdown",
      "source": [
        "## Bagging\n",
        "One can implement bagging/random forest by yourself. "
      ],
      "metadata": {
        "id": "y1oOOZL6XWzk"
      }
    },
    {
      "cell_type": "code",
      "source": [
        "from sklearn.ensemble import BaggingClassifier\n",
        "from sklearn.tree import DecisionTreeClassifier\n",
        "# 500 Decision Tree classifiers\n",
        "# 100 training instances\n",
        "# n_jobs=-1 to use all cores. \n",
        "bag_clf = BaggingClassifier(DecisionTreeClassifier(), n_estimators=500,\n",
        "                            max_samples=100, n_jobs=-1, random_state=42)\n",
        "bag_clf.fit(X_train, y_train)"
      ],
      "metadata": {
        "colab": {
          "base_uri": "https://localhost:8080/"
        },
        "id": "uHSGwr9RXVnv",
        "outputId": "d8ab109d-c27f-493f-8f8f-d8a4c3c21fcc"
      },
      "execution_count": 11,
      "outputs": [
        {
          "output_type": "execute_result",
          "data": {
            "text/plain": [
              "BaggingClassifier(base_estimator=DecisionTreeClassifier(), max_samples=100,\n",
              "                  n_estimators=500, n_jobs=-1, random_state=42)"
            ]
          },
          "metadata": {},
          "execution_count": 11
        }
      ]
    },
    {
      "cell_type": "code",
      "source": [
        "def plot_decision_boundary(clf, X, y, alpha=1.0):\n",
        "    axes=[-1.5, 2.4, -1, 1.5]\n",
        "    x1, x2 = np.meshgrid(np.linspace(axes[0], axes[1], 100),\n",
        "                         np.linspace(axes[2], axes[3], 100))\n",
        "    X_new = np.c_[x1.ravel(), x2.ravel()]\n",
        "    y_pred = clf.predict(X_new).reshape(x1.shape)\n",
        "    \n",
        "    plt.contourf(x1, x2, y_pred, alpha=0.3 * alpha, cmap='Wistia')\n",
        "    plt.contour(x1, x2, y_pred, cmap=\"Greys\", alpha=0.8 * alpha)\n",
        "    colors = [\"#78785c\", \"#c47b27\"]\n",
        "    markers = (\"o\", \"^\")\n",
        "    for idx in (0, 1):\n",
        "        plt.plot(X[:, 0][y == idx], X[:, 1][y == idx],\n",
        "                 color=colors[idx], marker=markers[idx], linestyle=\"none\")\n",
        "    plt.axis(axes)\n",
        "    plt.xlabel(r\"$x_1$\")\n",
        "    plt.ylabel(r\"$x_2$\", rotation=0)"
      ],
      "metadata": {
        "id": "8nZQymitXdvx"
      },
      "execution_count": 13,
      "outputs": []
    },
    {
      "cell_type": "code",
      "source": [
        "# compare with decision tree\n",
        "tree_clf = DecisionTreeClassifier(random_state=42)\n",
        "tree_clf.fit(X_train, y_train)\n",
        "\n",
        "fig, axes = plt.subplots(ncols=2, figsize=(10, 4), sharey=True)\n",
        "plt.sca(axes[0])\n",
        "plot_decision_boundary(tree_clf, X_train, y_train)\n",
        "plt.title(\"Decision Tree\")\n",
        "plt.sca(axes[1])\n",
        "plot_decision_boundary(bag_clf, X_train, y_train)\n",
        "plt.title(\"Decision Trees with Bagging\")\n",
        "plt.ylabel(\"\")\n",
        "plt.show()"
      ],
      "metadata": {
        "colab": {
          "base_uri": "https://localhost:8080/",
          "height": 297
        },
        "id": "tAqMTMIEXfku",
        "outputId": "9809efff-c4f6-42c8-8be3-b7b7bfdb75f6"
      },
      "execution_count": 15,
      "outputs": [
        {
          "output_type": "display_data",
          "data": {
            "text/plain": [
              "<Figure size 720x288 with 2 Axes>"
            ],
            "image/png": "[encoded data removed]"
          },
          "metadata": {
            "needs_background": "light"
          }
        }
      ]
    },
    {
      "cell_type": "markdown",
      "source": [
        "## Out of bag evaluation"
      ],
      "metadata": {
        "id": "2l3z4R0Pdzj2"
      }
    },
    {
      "cell_type": "code",
      "source": [
        "# automatic oob evaluation after training.\n",
        "bag_clf = BaggingClassifier(DecisionTreeClassifier(), n_estimators=500,max_samples =100,\n",
        "                            oob_score=True, n_jobs=-1, random_state=42)\n",
        "bag_clf.fit(X_train, y_train)\n",
        "bag_clf.oob_score_"
      ],
      "metadata": {
        "colab": {
          "base_uri": "https://localhost:8080/"
        },
        "id": "7BYRDXP3d30c",
        "outputId": "0ddcc8ed-5475-4441-c931-84c95bd635e3"
      },
      "execution_count": 17,
      "outputs": [
        {
          "output_type": "execute_result",
          "data": {
            "text/plain": [
              "0.9253333333333333"
            ]
          },
          "metadata": {},
          "execution_count": 17
        }
      ]
    },
    {
      "cell_type": "markdown",
      "source": [
        "Compare with test dataset. "
      ],
      "metadata": {
        "id": "tcwk3uXDeGrv"
      }
    },
    {
      "cell_type": "code",
      "source": [
        "from sklearn.metrics import accuracy_score\n",
        "y_pred = bag_clf.predict(X_test)\n",
        "accuracy_score(y_test, y_pred)\n",
        "# validation accuracy is 0.925\n",
        "# testing accuracy is 0.904"
      ],
      "metadata": {
        "colab": {
          "base_uri": "https://localhost:8080/"
        },
        "id": "MxvpUX-7eKsh",
        "outputId": "733ac50a-a6da-400e-865e-bf6c1bad6779"
      },
      "execution_count": 18,
      "outputs": [
        {
          "output_type": "execute_result",
          "data": {
            "text/plain": [
              "0.904"
            ]
          },
          "metadata": {},
          "execution_count": 18
        }
      ]
    },
    {
      "cell_type": "markdown",
      "source": [
        "## Random forest\n",
        "Usually `max_samples` is the same as training samples. It samples $\\sqrt{p}$ features. \n"
      ],
      "metadata": {
        "id": "rYcsur73gDeP"
      }
    },
    {
      "cell_type": "code",
      "source": [
        "from sklearn.ensemble import RandomForestClassifier\n",
        "# each tree is limited to maximum 16 nodes\n",
        "rnd_clf = RandomForestClassifier(n_estimators=500, max_leaf_nodes=16,\n",
        "n_jobs=-1, random_state=42)\n",
        "rnd_clf.fit(X_train, y_train)\n",
        "y_pred_rf = rnd_clf.predict(X_test)\n",
        "accuracy_score(y_test, y_pred_rf)"
      ],
      "metadata": {
        "colab": {
          "base_uri": "https://localhost:8080/"
        },
        "id": "agiwdWd0gwQF",
        "outputId": "15fac347-6c8d-48bc-b043-8a69acd019a9"
      },
      "execution_count": 20,
      "outputs": [
        {
          "output_type": "execute_result",
          "data": {
            "text/plain": [
              "0.912"
            ]
          },
          "metadata": {},
          "execution_count": 20
        }
      ]
    },
    {
      "cell_type": "code",
      "source": [
        "# one can use bag_clf to rewrite random forest\n",
        "bag_clf2 = BaggingClassifier(\n",
        "DecisionTreeClassifier(max_features=\"sqrt\", max_leaf_nodes=16),\n",
        "n_estimators=500, n_jobs=-1, random_state=42)"
      ],
      "metadata": {
        "id": "U7maaiVyg-qA"
      },
      "execution_count": null,
      "outputs": []
    },
    {
      "cell_type": "markdown",
      "source": [
        "# Boosting and Additive Models\n",
        "Can weak learners be combined to create a strong learner? \n",
        "\n",
        "**Weak Learner:**An algorithm $\\c{A}$ is a weak learner for a hypothesis class $\\c{H}$ that maps $X$ to\n",
        "${−1, 1}$ if for all input distributions over $X$ and $h\\in \\c{H}$, we have that A correctly classifies $h$ with error at most $1/2 − \\gamma$. \n",
        "\n",
        "It is possible! **AdaBoost!**\n",
        "\n",
        "Let's think this problem naively. \n",
        "\n",
        "- **Setup:** $\\c{D}=\\{\\m{x}^{(i)}, y^{(i)}\\}_{i=1}^N, \\m{x}\\in \\mb{R}^D, y\\in \\{+1, -1\\}$. \n",
        "\n",
        "- **Generate some classifers:** $\\phi_t: \\mb{R}^D\\rightarrow \\mb{R}, t=1,\\dots, p$.\n",
        "\n",
        "- Learning weights: $\\hat{\\mm{\\beta}} = \\arg\\min_{\\mm\\beta}\\sum_{i=1}^N\\ell(y^{(i)},\\sum_{t=1}^T \\beta_t \\phi_t(\\m{x}^{(i)}))$.\n",
        "\n",
        "- Prediction on new data: $f(\\m{x})= \\text{sign}(\\sum_{t=1}^T \\hat{\\beta}_t \\phi_t(\\m{x}))$. So each classifiers are assigned some weight $\\beta_t$. \n",
        "\n",
        "But how to find best classifiers. Note thw following optimization is computational hard, \n",
        "$$\\hat{\\mm{\\beta}}, \\hat{\\phi}_t = \\arg\\min_{\\mm{\\beta}, \\phi_t} \\sum_{i=1}^N\\ell(y^{(i)},\\sum_{t=1}^T \\beta_t \\phi_t(\\m{x}^{(i)})), \\qquad t = 1,\\dots, T. $$\n"
      ],
      "metadata": {
        "id": "NTwDDGBEmArM"
      }
    },
    {
      "cell_type": "markdown",
      "source": [
        "\n",
        "\n",
        "---\n",
        "\n",
        "\n",
        "## AdaBoost \n",
        "\n",
        "AdaBoost is an algorithm for constructing a ”strong” classifier as linear combination $h(\\m{x}) = \\sum_{t=1}^T \\hat{\\beta}_t \\phi_t(\\m{x}) $ of “simple” “weak” classifiers $\\phi_t(\\m{x})$. \n",
        "\n",
        "- $\\phi_t(\\m{x})$: “weak” classifiers/features (can be decision tree/perceptron/logistic regression). Typically, the space $\\c{H} = \\text{span}\\{\\phi_t\\}$ is infinite dimensional. \n",
        "- $f(\\m{x})= \\text{sign}(h(\\m{x}))$: ‘’strong” classifier. \n",
        "\n",
        "### Algorithm\n",
        "\n",
        "- Initialize a vector of $N$ uniform vector $\\m{w}_1 = \\bcm \\frac{1}{N} & \\dots & \\frac{1}{N} \\ecm $. \n",
        "\n",
        "- For $t=1,\\dots, T$: \n",
        "  - Train classifier $\\phi_t$ on the training dataset $\\c{D}$ with weights $\\m{w}_t$ that minimize the weighted error. \n",
        "  - Compute the weighted training error of $\\phi_t$, $\\epsilon_t = \\sum_{i=1}^N \\m{w}_t(i)\\mb{1}_{y^{(i)}\\ne \\phi_t(\\m{x}^{(i)}) }$. If $\\epsilon_t> 1/2$, stop the loop. \n",
        "\n",
        "  - Choose $\\beta_t = \\frac{1}{2}\\ln\\left(\\frac{1-\\epsilon_t}{\\epsilon_t}\\right)$. Update the all instance weights, \n",
        "   \\begin{align}\n",
        "   \\m{w}_{t+1}(i) = \\m{w}_t(i)\\exp(-\\beta_t y^{(i)}\\phi_t(\\m{x}^{(i)}))\n",
        "   \\end{align}\n",
        "\n",
        " - Normalize $\\m{w}_{t+1}$ to be a distribution.   \n",
        "\n",
        "- Return the strong classifier $f(\\m{x})=\\text{sign}(\\sum_{t=1}^T \\beta_t \\phi_t(\\m{x}))$\n",
        "\n",
        "\n",
        "\n",
        "Note: \n",
        "- $\\beta_t$ measures the importance of $\\phi_t$. If $\\epsilon_t\\ge 0.5$, then $\\beta_t\\ge 0$ ($\\beta_t$ grows $\\epsilon_t$ gets smaller.)\n",
        "\n",
        "\n",
        "- Weight of correct predictions are multiplied by $\\exp(-\\beta_t)\\le 1$. \n",
        "\n",
        "- Weight of incorrect predictions are multiplied by $\\exp(\\beta_t)\\ge 1$. \n",
        "\n",
        "\n",
        "- For algorithms like logistic regression, can simply\n",
        "incorporate weights $\\m{w}_t$ into the cost function.  Essentially, weigh the cost of misclassification differently\n",
        "for each instance, \n",
        "\\begin{align}\n",
        "J_{\\text{reg}}(\\mm\\theta) = -\\sum_{i=1}^N \\m{w}_t(i)\\left[y^{(i)}\\log \\phi_t(\\m{x}^{(i)};\\mm\\theta) + (1-y^{(i)})\\log (1- \\phi_t(\\m{x}^{(i)};\\mm\\theta) )\\right] + \\lambda \\|\\mm\\theta\\|_2^2\n",
        "\\end{align}\n",
        "\n",
        "- For algorithms like decision tree, can use `sample_weight` as the input. \n",
        "\n",
        "- For algorithms that don’t directly support instance\n",
        "weights, use weighted bootstrap sampling, i.e., form training set by resampling instances with\n",
        "replacement according to $\\m{w}_t$.\n",
        "\n"
      ],
      "metadata": {
        "id": "V8JbItG6ilzb"
      }
    },
    {
      "cell_type": "markdown",
      "source": [
        "### Benchmark Example\n",
        "Size of points represents the instance's weight. We want to build a model to distinguish red and blue points. \n",
        "\n",
        "<img src=\"https://github.com/yexf308/AppliedStatistics/blob/main/image/AB1.png?raw=true\" width=\"300\" />\n",
        "\n",
        "At $t=1$,\n",
        "\n",
        "<img src=\"https://github.com/yexf308/AppliedStatistics/blob/main/image/AB2.png?raw=true\" width=\"300\" />\n",
        "<img src=\"https://github.com/yexf308/AppliedStatistics/blob/main/image/AB3.png?raw=true\" width=\"300\" />\n",
        "\n",
        "\n",
        "At $t=2$,\n",
        "\n",
        "<img src=\"https://github.com/yexf308/AppliedStatistics/blob/main/image/AB5.png?raw=true\" width=\"300\" />\n",
        "<img src=\"https://github.com/yexf308/AppliedStatistics/blob/main/image/AB6.png?raw=true\" width=\"300\" />\n",
        "\n",
        "\n",
        "At $t=3$,\n",
        "\n",
        "<img src=\"https://github.com/yexf308/AppliedStatistics/blob/main/image/AB7.png?raw=true\" width=\"300\" />\n",
        "<img src=\"https://github.com/yexf308/AppliedStatistics/blob/main/image/AB8.png?raw=true\" width=\"300\" />\n",
        "\n",
        "At $t=4$,\n",
        "\n",
        "<img src=\"https://github.com/yexf308/AppliedStatistics/blob/main/image/AB9.png?raw=true\" width=\"300\" />\n",
        "<img src=\"https://github.com/yexf308/AppliedStatistics/blob/main/image/AB10.png?raw=true\" width=\"300\" />\n",
        "\n",
        "At $t=T$,\n",
        "\n",
        "<img src=\"https://github.com/yexf308/AppliedStatistics/blob/main/image/AB11.png?raw=true\" width=\"300\" />\n",
        "<img src=\"https://github.com/yexf308/AppliedStatistics/blob/main/image/AB12.png?raw=true\" width=\"300\" />"
      ],
      "metadata": {
        "id": "eQ8OARgPtqtX"
      }
    }
  ],
  "metadata": {
    "colab": {
      "provenance": [],
      "collapsed_sections": [],
      "include_colab_link": true
    },
    "kernelspec": {
      "display_name": "Python 3.10.4 ('AppliedStatistics')",
      "language": "python",
      "name": "python3"
    },
    "language_info": {
      "codemirror_mode": {
        "name": "ipython",
        "version": 3
      },
      "file_extension": ".py",
      "mimetype": "text/x-python",
      "name": "python",
      "nbconvert_exporter": "python",
      "pygments_lexer": "ipython3",
      "version": "3.10.4"
    },
    "vscode": {
      "interpreter": {
        "hash": "c64129bc968f907f2bff33b3baf6441d80916c5af611a60334d150caeef4d664"
      }
    }
  },
  "nbformat": 4,
  "nbformat_minor": 0
}