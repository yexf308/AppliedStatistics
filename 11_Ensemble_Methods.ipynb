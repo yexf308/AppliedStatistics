{
  "nbformat": 4,
  "nbformat_minor": 0,
  "metadata": {
    "colab": {
      "provenance": [],
      "authorship_tag": "ABX9TyMKQEh4TTaBYyESNCGTXJBG",
      "include_colab_link": true
    },
    "kernelspec": {
      "name": "python3",
      "display_name": "Python 3"
    },
    "language_info": {
      "name": "python"
    }
  },
  "cells": [
    {
      "cell_type": "markdown",
      "metadata": {
        "id": "view-in-github",
        "colab_type": "text"
      },
      "source": [
        "<a href=\"https://colab.research.google.com/github/yexf308/AppliedStatistics/blob/main/11_Ensemble_Methods.ipynb\" target=\"_parent\"><img src=\"https://colab.research.google.com/assets/colab-badge.svg\" alt=\"Open In Colab\"/></a>"
      ]
    },
    {
      "cell_type": "code",
      "execution_count": null,
      "metadata": {
        "id": "sNFnS4fNJWUD"
      },
      "outputs": [],
      "source": [
        "%pylab inline \n",
        "import pandas as pd\n",
        "from scipy import linalg\n",
        "from itertools import combinations\n",
        "import scipy"
      ]
    },
    {
      "cell_type": "markdown",
      "source": [
        "$\\def\\m#1{\\mathbf{#1}}$\n",
        "$\\def\\mm#1{\\boldsymbol{#1}}$\n",
        "$\\def\\mb#1{\\mathbb{#1}}$\n",
        "$\\def\\c#1{\\mathcal{#1}}$\n",
        "$\\def\\mr#1{\\mathrm{#1}}$\n",
        "$\\newenvironment{rmat}{\\left[\\begin{array}{rrrrrrrrrrrrr}}{\\end{array}\\right]}$\n",
        "$\\newcommand\\brm{\\begin{rmat}}$\n",
        "$\\newcommand\\erm{\\end{rmat}}$\n",
        "$\\newenvironment{cmat}{\\left[\\begin{array}{ccccccccc}}{\\end{array}\\right]}$\n",
        "$\\newcommand\\bcm{\\begin{cmat}}$\n",
        "$\\newcommand\\ecm{\\end{cmat}}$\n"
      ],
      "metadata": {
        "id": "gOeQxv0lJlCg"
      }
    },
    {
      "cell_type": "markdown",
      "source": [
        "This notebook is based on Eric Eaton's slides"
      ],
      "metadata": {
        "id": "0HfEekl3Kn0K"
      }
    },
    {
      "cell_type": "markdown",
      "source": [
        "# Ensemble Learning\n",
        "Consider a set of classifiers $h_1, h_2,\\dots, h_L$.\n",
        "**Idea**: Construct a classifier $H(\\m{x})$ that combines the\n",
        "individual decisions of $h_1, h_2, \\dots, h_L$. \n",
        "\n",
        "- Could have the member classifiers vote, such as majority rule. \n",
        "\n",
        "- Could use different members for different regions of the\n",
        "instance space (based on the performance). \n",
        "\n",
        "Successful ensembles require **diversity**,\n",
        "\n",
        "- Classifiers should make different mistakes.\n",
        "\n",
        "- Can have different types of base learners. \n",
        "\n",
        "\n",
        "### 1. Combining Classifiers: Averaging\n",
        "Simple majority rule/uniform averaging. \n",
        "\n",
        "<img src=\"https://github.com/yexf308/AppliedStatistics/blob/main/image/ensemble1.png?raw=true\" width=\"400\" />\n",
        "\n",
        "### 2. Combining Classifiers: Weighted Average\n",
        "Coefficients of individual members are trained using\n",
        "a validation set.\n",
        "\n",
        "<img src=\"https://github.com/yexf308/AppliedStatistics/blob/main/image/ensemble2.png?raw=true\" width=\"400\" />\n",
        "\n",
        "\n"
      ],
      "metadata": {
        "id": "qNX99UI-JpYp"
      }
    }
  ]
}