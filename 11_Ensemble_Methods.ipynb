{
  "cells": [
    {
      "cell_type": "markdown",
      "metadata": {
        "colab_type": "text",
        "id": "view-in-github"
      },
      "source": [
        "<a href=\"https://colab.research.google.com/github/yexf308/AppliedStatistics/blob/main/11_Ensemble_Methods.ipynb\" target=\"_parent\"><img src=\"https://colab.research.google.com/assets/colab-badge.svg\" alt=\"Open In Colab\"/></a>"
      ]
    },
    {
      "cell_type": "code",
      "execution_count": 1,
      "metadata": {
        "id": "sNFnS4fNJWUD"
      },
      "outputs": [
        {
          "name": "stdout",
          "output_type": "stream",
          "text": [
            "%pylab is deprecated, use %matplotlib inline and import the required libraries.\n",
            "Populating the interactive namespace from numpy and matplotlib\n"
          ]
        }
      ],
      "source": [
        "%pylab inline \n",
        "import pandas as pd\n",
        "from scipy import linalg\n",
        "from itertools import combinations\n",
        "import scipy"
      ]
    },
    {
      "cell_type": "markdown",
      "metadata": {
        "id": "gOeQxv0lJlCg"
      },
      "source": [
        "$\\def\\m#1{\\mathbf{#1}}$\n",
        "$\\def\\mm#1{\\boldsymbol{#1}}$\n",
        "$\\def\\mb#1{\\mathbb{#1}}$\n",
        "$\\def\\c#1{\\mathcal{#1}}$\n",
        "$\\def\\mr#1{\\mathrm{#1}}$\n",
        "$\\newenvironment{rmat}{\\left[\\begin{array}{rrrrrrrrrrrrr}}{\\end{array}\\right]}$\n",
        "$\\newcommand\\brm{\\begin{rmat}}$\n",
        "$\\newcommand\\erm{\\end{rmat}}$\n",
        "$\\newenvironment{cmat}{\\left[\\begin{array}{ccccccccc}}{\\end{array}\\right]}$\n",
        "$\\newcommand\\bcm{\\begin{cmat}}$\n",
        "$\\newcommand\\ecm{\\end{cmat}}$\n"
      ]
    },
    {
      "cell_type": "markdown",
      "metadata": {
        "id": "0HfEekl3Kn0K"
      },
      "source": [
        "This notebook is based on Eric Eaton's slides"
      ]
    },
    {
      "cell_type": "markdown",
      "metadata": {
        "id": "qNX99UI-JpYp"
      },
      "source": [
        "# Ensemble Learning\n",
        "Consider a set of classifiers $h_1, h_2,\\dots, h_L$.\n",
        "**Idea**: Construct a classifier $H(\\mathbf{x})$ that combines the\n",
        "individual decisions of $h_1, h_2, \\dots, h_L$. \n",
        "\n",
        "- Could have the member classifiers vote, such as majority rule. \n",
        "\n",
        "- Could use different members for different regions of the\n",
        "instance space (based on the performance). \n",
        "\n",
        "Successful ensembles require **diversity**,\n",
        "\n",
        "- Classifiers should make different mistakes.\n",
        "\n",
        "- Can have different types of base learners. \n",
        "\n",
        "\n",
        "### 1. Combining Classifiers: Averaging\n",
        "Simple majority rule/uniform averaging. \n",
        "\n",
        "<img src=\"https://github.com/yexf308/AppliedStatistics/blob/main/image/ensemble1.png?raw=true\" width=\"400\" />\n",
        "\n",
        "### 2. Combining Classifiers: Weighted Average\n",
        "Coefficients of individual members are trained using\n",
        "a validation set.\n",
        "\n",
        "<img src=\"https://github.com/yexf308/AppliedStatistics/blob/main/image/ensemble2.png?raw=true\" width=\"400\" />\n",
        "\n",
        "\n",
        "\n",
        "<img src=\"./image/ensemble3.png\" width=\"400\" />\n",
        "\n"
      ]
    }
  ],
  "metadata": {
    "colab": {
      "authorship_tag": "ABX9TyMKQEh4TTaBYyESNCGTXJBG",
      "include_colab_link": true,
      "provenance": []
    },
    "kernelspec": {
      "display_name": "Python 3.10.4 ('AppliedStatistics')",
      "language": "python",
      "name": "python3"
    },
    "language_info": {
      "codemirror_mode": {
        "name": "ipython",
        "version": 3
      },
      "file_extension": ".py",
      "mimetype": "text/x-python",
      "name": "python",
      "nbconvert_exporter": "python",
      "pygments_lexer": "ipython3",
      "version": "3.10.4"
    },
    "vscode": {
      "interpreter": {
        "hash": "c64129bc968f907f2bff33b3baf6441d80916c5af611a60334d150caeef4d664"
      }
    }
  },
  "nbformat": 4,
  "nbformat_minor": 0
}
